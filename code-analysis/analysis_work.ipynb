{
 "cells": [
  {
   "cell_type": "code",
   "execution_count": 1,
   "id": "176b6b8a",
   "metadata": {},
   "outputs": [],
   "source": [
    "import numpy as np\n",
    "import pandas as pd\n",
    "import seaborn as sns"
   ]
  },
  {
   "cell_type": "code",
   "execution_count": 2,
   "id": "70a6d966",
   "metadata": {},
   "outputs": [
    {
     "data": {
      "text/html": [
       "<style type='text/css'>\n",
       ".datatable table.frame { margin-bottom: 0; }\n",
       ".datatable table.frame thead { border-bottom: none; }\n",
       ".datatable table.frame tr.coltypes td {  color: #FFFFFF;  line-height: 6px;  padding: 0 0.5em;}\n",
       ".datatable .bool    { background: #DDDD99; }\n",
       ".datatable .object  { background: #565656; }\n",
       ".datatable .int     { background: #5D9E5D; }\n",
       ".datatable .float   { background: #4040CC; }\n",
       ".datatable .str     { background: #CC4040; }\n",
       ".datatable .time    { background: #40CC40; }\n",
       ".datatable .row_index {  background: var(--jp-border-color3);  border-right: 1px solid var(--jp-border-color0);  color: var(--jp-ui-font-color3);  font-size: 9px;}\n",
       ".datatable .frame tbody td { text-align: left; }\n",
       ".datatable .frame tr.coltypes .row_index {  background: var(--jp-border-color0);}\n",
       ".datatable th:nth-child(2) { padding-left: 12px; }\n",
       ".datatable .hellipsis {  color: var(--jp-cell-editor-border-color);}\n",
       ".datatable .vellipsis {  background: var(--jp-layout-color0);  color: var(--jp-cell-editor-border-color);}\n",
       ".datatable .na {  color: var(--jp-cell-editor-border-color);  font-size: 80%;}\n",
       ".datatable .sp {  opacity: 0.25;}\n",
       ".datatable .footer { font-size: 9px; }\n",
       ".datatable .frame_dimensions {  background: var(--jp-border-color3);  border-top: 1px solid var(--jp-border-color0);  color: var(--jp-ui-font-color3);  display: inline-block;  opacity: 0.6;  padding: 1px 10px 1px 5px;}\n",
       "</style>\n"
      ],
      "text/plain": [
       "<IPython.core.display.HTML object>"
      ]
     },
     "metadata": {},
     "output_type": "display_data"
    }
   ],
   "source": [
    "# Import my modules.\n",
    "import sys, os\n",
    "from pathlib import Path\n",
    "current_dir = os.path.join(Path().resolve())\n",
    "sys.path.append(str(current_dir) + '/../')\n",
    "\n",
    "from modules import utils\n",
    "from modules import models\n",
    "from modules import preprocess\n",
    "\n",
    "import importlib\n",
    "for m in [utils, models, preprocess]:\n",
    "    importlib.reload(m)"
   ]
  },
  {
   "cell_type": "code",
   "execution_count": 3,
   "id": "f6d91f4a",
   "metadata": {},
   "outputs": [],
   "source": [
    "pd.set_option('display.max_rows', 100)\n",
    "pd.set_option('display.max_columns', 100)"
   ]
  },
  {
   "cell_type": "markdown",
   "id": "802000d2",
   "metadata": {},
   "source": [
    "## Trend実験"
   ]
  },
  {
   "cell_type": "code",
   "execution_count": 4,
   "id": "1250dee0",
   "metadata": {},
   "outputs": [
    {
     "name": "stderr",
     "output_type": "stream",
     "text": [
      "/tmp/working/code-analysis/../modules/utils.py:293: DtypeWarning: Columns (102) have mixed types.Specify dtype option on import or set low_memory=False.\n",
      "  df_census = load_census(BASE)\n"
     ]
    }
   ],
   "source": [
    "# mbd = 'microbusiness_density'\n",
    "\n",
    "df_train, df_test, df_subm = utils.load_dataset()\n",
    "df_all, df_census = utils.merge_dataset(df_train, df_test, pop=False, unemploy=False, census=False, coord=False, co_est=False, fix_pop=False, add_location=False, outlier=False)\n",
    "# df_all = preprocess.add_lag_features(df_all)"
   ]
  },
  {
   "cell_type": "code",
   "execution_count": 5,
   "id": "d24839b1",
   "metadata": {},
   "outputs": [
    {
     "data": {
      "text/html": [
       "<div>\n",
       "<style scoped>\n",
       "    .dataframe tbody tr th:only-of-type {\n",
       "        vertical-align: middle;\n",
       "    }\n",
       "\n",
       "    .dataframe tbody tr th {\n",
       "        vertical-align: top;\n",
       "    }\n",
       "\n",
       "    .dataframe thead th {\n",
       "        text-align: right;\n",
       "    }\n",
       "</style>\n",
       "<table border=\"1\" class=\"dataframe\">\n",
       "  <thead>\n",
       "    <tr style=\"text-align: right;\">\n",
       "      <th></th>\n",
       "      <th>adult_2017</th>\n",
       "      <th>cfips</th>\n",
       "      <th>adult_2018</th>\n",
       "      <th>adult_2019</th>\n",
       "      <th>adult_2020</th>\n",
       "      <th>adult_2021</th>\n",
       "    </tr>\n",
       "  </thead>\n",
       "  <tbody>\n",
       "    <tr>\n",
       "      <th>0</th>\n",
       "      <td>41527</td>\n",
       "      <td>1001</td>\n",
       "      <td>41831</td>\n",
       "      <td>42175</td>\n",
       "      <td>42496.0</td>\n",
       "      <td>44438.0</td>\n",
       "    </tr>\n",
       "    <tr>\n",
       "      <th>1</th>\n",
       "      <td>158361</td>\n",
       "      <td>1003</td>\n",
       "      <td>162430</td>\n",
       "      <td>166595</td>\n",
       "      <td>171296.0</td>\n",
       "      <td>178105.0</td>\n",
       "    </tr>\n",
       "    <tr>\n",
       "      <th>2</th>\n",
       "      <td>20687</td>\n",
       "      <td>1005</td>\n",
       "      <td>20346</td>\n",
       "      <td>20054</td>\n",
       "      <td>19804.0</td>\n",
       "      <td>19995.0</td>\n",
       "    </tr>\n",
       "    <tr>\n",
       "      <th>3</th>\n",
       "      <td>17852</td>\n",
       "      <td>1007</td>\n",
       "      <td>17868</td>\n",
       "      <td>17862</td>\n",
       "      <td>17790.0</td>\n",
       "      <td>17800.0</td>\n",
       "    </tr>\n",
       "    <tr>\n",
       "      <th>4</th>\n",
       "      <td>44102</td>\n",
       "      <td>1009</td>\n",
       "      <td>44177</td>\n",
       "      <td>44292</td>\n",
       "      <td>44383.0</td>\n",
       "      <td>45201.0</td>\n",
       "    </tr>\n",
       "    <tr>\n",
       "      <th>...</th>\n",
       "      <td>...</td>\n",
       "      <td>...</td>\n",
       "      <td>...</td>\n",
       "      <td>...</td>\n",
       "      <td>...</td>\n",
       "      <td>...</td>\n",
       "    </tr>\n",
       "    <tr>\n",
       "      <th>3215</th>\n",
       "      <td>42989</td>\n",
       "      <td>72145</td>\n",
       "      <td>42353</td>\n",
       "      <td>41843</td>\n",
       "      <td>41383.0</td>\n",
       "      <td>44604.0</td>\n",
       "    </tr>\n",
       "    <tr>\n",
       "      <th>3216</th>\n",
       "      <td>7051</td>\n",
       "      <td>72147</td>\n",
       "      <td>6985</td>\n",
       "      <td>6946</td>\n",
       "      <td>6884.0</td>\n",
       "      <td>6760.0</td>\n",
       "    </tr>\n",
       "    <tr>\n",
       "      <th>3217</th>\n",
       "      <td>18113</td>\n",
       "      <td>72149</td>\n",
       "      <td>17809</td>\n",
       "      <td>17547</td>\n",
       "      <td>17344.0</td>\n",
       "      <td>17811.0</td>\n",
       "    </tr>\n",
       "    <tr>\n",
       "      <th>3218</th>\n",
       "      <td>27598</td>\n",
       "      <td>72151</td>\n",
       "      <td>27227</td>\n",
       "      <td>27029</td>\n",
       "      <td>26803.0</td>\n",
       "      <td>25533.0</td>\n",
       "    </tr>\n",
       "    <tr>\n",
       "      <th>3219</th>\n",
       "      <td>29819</td>\n",
       "      <td>72153</td>\n",
       "      <td>29212</td>\n",
       "      <td>28676</td>\n",
       "      <td>28215.0</td>\n",
       "      <td>28555.0</td>\n",
       "    </tr>\n",
       "  </tbody>\n",
       "</table>\n",
       "<p>3220 rows × 6 columns</p>\n",
       "</div>"
      ],
      "text/plain": [
       "      adult_2017  cfips  adult_2018  adult_2019  adult_2020  adult_2021\n",
       "0          41527   1001       41831       42175     42496.0     44438.0\n",
       "1         158361   1003      162430      166595    171296.0    178105.0\n",
       "2          20687   1005       20346       20054     19804.0     19995.0\n",
       "3          17852   1007       17868       17862     17790.0     17800.0\n",
       "4          44102   1009       44177       44292     44383.0     45201.0\n",
       "...          ...    ...         ...         ...         ...         ...\n",
       "3215       42989  72145       42353       41843     41383.0     44604.0\n",
       "3216        7051  72147        6985        6946      6884.0      6760.0\n",
       "3217       18113  72149       17809       17547     17344.0     17811.0\n",
       "3218       27598  72151       27227       27029     26803.0     25533.0\n",
       "3219       29819  72153       29212       28676     28215.0     28555.0\n",
       "\n",
       "[3220 rows x 6 columns]"
      ]
     },
     "execution_count": 5,
     "metadata": {},
     "output_type": "execute_result"
    }
   ],
   "source": [
    "df_census"
   ]
  },
  {
   "cell_type": "code",
   "execution_count": 170,
   "id": "6aff0aac",
   "metadata": {},
   "outputs": [
    {
     "name": "stdout",
     "output_type": "stream",
     "text": [
      "13\n"
     ]
    },
    {
     "data": {
      "text/plain": [
       "{13025: 1.004,\n",
       " 13193: 0.999,\n",
       " 18025: 0.999,\n",
       " 21147: 1.004,\n",
       " 31093: 1.0033846255390906,\n",
       " 40005: 1.004,\n",
       " 40069: 1.00303696951699,\n",
       " 46091: 1.0016915440454517,\n",
       " 48305: 1.004,\n",
       " 48385: 1.0026579234749724,\n",
       " 5067: 1.004,\n",
       " 54023: 0.999,\n",
       " 8033: 1.004}"
      ]
     },
     "execution_count": 170,
     "metadata": {},
     "output_type": "execute_result"
    }
   ],
   "source": [
    "low_trend_params = {\n",
    "    1: {\n",
    "        'n':3,\n",
    "        'thre':3,\n",
    "        'thre_r':0,\n",
    "        'lower_bound': 60,\n",
    "        'upper_bound': 140,\n",
    "        'use_regularize': True,\n",
    "        'v_regularize': [0.03, 0.02],\n",
    "        'v_clip':[0.999, 1.004]\n",
    "    }\n",
    "}\n",
    "params = low_trend_params[1]\n",
    "df_trend, trend_dict = preprocess.get_trend_dict(df_all, **params)\n",
    "print(len(trend_dict))\n",
    "trend_dict"
   ]
  },
  {
   "cell_type": "code",
   "execution_count": 7,
   "id": "00c90915",
   "metadata": {},
   "outputs": [
    {
     "name": "stdout",
     "output_type": "stream",
     "text": [
      "20\n"
     ]
    },
    {
     "data": {
      "text/plain": [
       "{12031: 1.0086328445657107,\n",
       " 12101: 1.006481142747778,\n",
       " 17197: 1.0080206078421285,\n",
       " 20091: 1.0060327304334955,\n",
       " 25025: 1.0061688635360524,\n",
       " 36085: 1.0173209335038416,\n",
       " 37119: 1.006098418566488,\n",
       " 40109: 1.0129319463023307,\n",
       " 40143: 1.008331800893501,\n",
       " 42003: 1.0233533145463996,\n",
       " 47065: 1.008465009610966,\n",
       " 47187: 1.0075341777021485,\n",
       " 48113: 1.0045559762608431,\n",
       " 48121: 1.0118033817358585,\n",
       " 48157: 1.013289253684673,\n",
       " 48491: 1.0074687019144728,\n",
       " 55133: 1.0069273342745635,\n",
       " 6001: 1.0116187765330433,\n",
       " 6073: 1.0100269518719414,\n",
       " 6079: 1.0050638864187709}"
      ]
     },
     "execution_count": 7,
     "metadata": {},
     "output_type": "execute_result"
    }
   ],
   "source": [
    "high_trend_params = {\n",
    "    1: {\n",
    "        'n':3,\n",
    "        'thre':3,\n",
    "        'thre_r':0.004,\n",
    "        'lower_bound': 20000,\n",
    "        'upper_bound': 99999999,\n",
    "        'use_regularize': True,\n",
    "        'v_regularize': [0.002, 0],\n",
    "        'v_clip':[None, None]\n",
    "    }\n",
    "}\n",
    "params = high_trend_params[1]\n",
    "df_trend, high_trend_dict = preprocess.get_trend_dict(df_all, **params)\n",
    "print(len(high_trend_dict))\n",
    "high_trend_dict"
   ]
  },
  {
   "cell_type": "code",
   "execution_count": 163,
   "id": "b3105d8c",
   "metadata": {},
   "outputs": [
    {
     "name": "stdout",
     "output_type": "stream",
     "text": [
      "37\n"
     ]
    },
    {
     "data": {
      "text/plain": [
       "{10001: 1.0129351534528772,\n",
       " 1095: 1.008447263901533,\n",
       " 1125: 1.0154674931169532,\n",
       " 13133: 1.0148110803992443,\n",
       " 13285: 1.02,\n",
       " 16021: 1.02,\n",
       " 16051: 1.0102600596450686,\n",
       " 17049: 1.0145852062314247,\n",
       " 17119: 1.0160684278423038,\n",
       " 17135: 1.02,\n",
       " 18073: 1.02,\n",
       " 21167: 1.0087742823839232,\n",
       " 21205: 1.0089322199917075,\n",
       " 23017: 1.02,\n",
       " 24023: 1.02,\n",
       " 27161: 1.0095260836940123,\n",
       " 29209: 0.9900118427149365,\n",
       " 30047: 1.0077290823975364,\n",
       " 30063: 1.007380223819338,\n",
       " 32017: 0.989911033357664,\n",
       " 33009: 1.0036445676092536,\n",
       " 37071: 1.0116879058571973,\n",
       " 37097: 1.008211996600611,\n",
       " 37161: 1.0085466949373592,\n",
       " 37175: 1.0167317606498527,\n",
       " 37195: 1.0099083923055931,\n",
       " 39101: 1.014221543488473,\n",
       " 42013: 0.984723291353719,\n",
       " 46083: 1.008549269096111,\n",
       " 48051: 1.0054762585979062,\n",
       " 49057: 1.0060150299560793,\n",
       " 51033: 1.0088285129605443,\n",
       " 51103: 1.0073430500039617,\n",
       " 53007: 1.02,\n",
       " 53065: 0.9778049488905132,\n",
       " 6005: 0.9940137900855888,\n",
       " 8037: 1.0155565410397998}"
      ]
     },
     "execution_count": 163,
     "metadata": {},
     "output_type": "execute_result"
    }
   ],
   "source": [
    "middle_trend_params = {\n",
    "    1: {\n",
    "        'n':7,\n",
    "        'thre':7,\n",
    "        'thre_r':0.001,\n",
    "        'lower_bound': 500,\n",
    "        'upper_bound': 20000,\n",
    "        'use_regularize': True,\n",
    "        'v_regularize': [0.001, 0],\n",
    "        'v_clip':[None, 1.02]\n",
    "    }\n",
    "}\n",
    "params = middle_trend_params[1]\n",
    "df_trend, middle_trend_dict = preprocess.get_trend_dict(df_all, **params)\n",
    "print(len(middle_trend_dict))\n",
    "middle_trend_dict"
   ]
  },
  {
   "cell_type": "code",
   "execution_count": 164,
   "id": "7e81958b",
   "metadata": {},
   "outputs": [
    {
     "name": "stdout",
     "output_type": "stream",
     "text": [
      "3\n"
     ]
    },
    {
     "data": {
      "text/plain": [
       "{17135: 1.03, 26085: 1.0274230177900308, 28051: 1.03}"
      ]
     },
     "execution_count": 164,
     "metadata": {},
     "output_type": "execute_result"
    }
   ],
   "source": [
    "lowmiddle_trend_params = {\n",
    "    1: {\n",
    "        'n':12,\n",
    "        'thre':12,\n",
    "        'thre_r':0,\n",
    "        'lower_bound': 140,\n",
    "        'upper_bound': 1000,\n",
    "        'use_regularize': True,\n",
    "        'v_regularize': [0.001, 0],\n",
    "        'v_clip':[None, 1.03]\n",
    "    }\n",
    "}\n",
    "params = lowmiddle_trend_params[1]\n",
    "df_trend, lowmiddle_trend_dict = preprocess.get_trend_dict(df_all, **params)\n",
    "print(len(lowmiddle_trend_dict))\n",
    "lowmiddle_trend_dict"
   ]
  },
  {
   "cell_type": "code",
   "execution_count": 165,
   "id": "37a6dd72",
   "metadata": {},
   "outputs": [
    {
     "name": "stdout",
     "output_type": "stream",
     "text": [
      "17135\n"
     ]
    }
   ],
   "source": [
    "for keys in lowmiddle_trend_dict.keys():\n",
    "    if keys in middle_trend_dict.keys():\n",
    "        print(keys)"
   ]
  },
  {
   "cell_type": "code",
   "execution_count": 166,
   "id": "d1921adf",
   "metadata": {
    "scrolled": true
   },
   "outputs": [],
   "source": [
    "df_sub1 = pd.read_csv('../submission/submission_13820.csv', index_col='row_id')\n",
    "df_sub1, df_extract, var_dict = utils.insert_trend(df_sub1, df_all, df_census, trend_dict)\n",
    "df_sub1, df_extract, var_dict = utils.insert_trend(df_sub1, df_all, df_census, high_trend_dict, method='replace')\n",
    "df_sub1, df_extract, var_dict = utils.insert_trend(df_sub1, df_all, df_census, middle_trend_dict, method='replace')\n",
    "# df_sub1, df_extract, var_dict = utils.insert_trend(df_sub1, df_all, df_census, lowmiddle_trend_dict, method='replace')\n",
    "df_sub1.to_csv('../submission/submission_13820_trend.csv')"
   ]
  },
  {
   "cell_type": "code",
   "execution_count": 167,
   "id": "c0de0918",
   "metadata": {},
   "outputs": [
    {
     "data": {
      "text/plain": [
       "(70, 6)"
      ]
     },
     "execution_count": 167,
     "metadata": {},
     "output_type": "execute_result"
    }
   ],
   "source": [
    "df_merged = utils.compare_submission(df_sub1, 'submission_13820')\n",
    "df_diff = df_merged[df_merged['smape']>0.001].copy()\n",
    "df_diff.shape"
   ]
  },
  {
   "cell_type": "code",
   "execution_count": 168,
   "id": "40d312ca",
   "metadata": {},
   "outputs": [
    {
     "data": {
      "text/plain": [
       "45.78760747865825"
      ]
     },
     "execution_count": 168,
     "metadata": {},
     "output_type": "execute_result"
    }
   ],
   "source": [
    "df_merged['smape'].sum()"
   ]
  },
  {
   "cell_type": "code",
   "execution_count": 125,
   "id": "aa56c00a",
   "metadata": {},
   "outputs": [
    {
     "data": {
      "text/plain": [
       "25.251103"
      ]
     },
     "execution_count": 125,
     "metadata": {},
     "output_type": "execute_result"
    }
   ],
   "source": [
    "47\n",
    "25.251103"
   ]
  },
  {
   "cell_type": "code",
   "execution_count": 126,
   "id": "04bc396c",
   "metadata": {},
   "outputs": [
    {
     "data": {
      "text/html": [
       "<div>\n",
       "<style scoped>\n",
       "    .dataframe tbody tr th:only-of-type {\n",
       "        vertical-align: middle;\n",
       "    }\n",
       "\n",
       "    .dataframe tbody tr th {\n",
       "        vertical-align: top;\n",
       "    }\n",
       "\n",
       "    .dataframe thead th {\n",
       "        text-align: right;\n",
       "    }\n",
       "</style>\n",
       "<table border=\"1\" class=\"dataframe\">\n",
       "  <thead>\n",
       "    <tr style=\"text-align: right;\">\n",
       "      <th></th>\n",
       "      <th>row_id</th>\n",
       "      <th>microbusiness_density</th>\n",
       "      <th>cfips</th>\n",
       "      <th>month</th>\n",
       "      <th>baseline</th>\n",
       "      <th>smape</th>\n",
       "    </tr>\n",
       "  </thead>\n",
       "  <tbody>\n",
       "    <tr>\n",
       "      <th>186</th>\n",
       "      <td>6005_2023-01-01</td>\n",
       "      <td>13.309681</td>\n",
       "      <td>6005</td>\n",
       "      <td>2023-01-01</td>\n",
       "      <td>13.398735</td>\n",
       "      <td>0.666858</td>\n",
       "    </tr>\n",
       "    <tr>\n",
       "      <th>480</th>\n",
       "      <td>13193_2023-01-01</td>\n",
       "      <td>0.921605</td>\n",
       "      <td>13193</td>\n",
       "      <td>2023-01-01</td>\n",
       "      <td>0.922528</td>\n",
       "      <td>0.100050</td>\n",
       "    </tr>\n",
       "    <tr>\n",
       "      <th>707</th>\n",
       "      <td>18025_2023-01-01</td>\n",
       "      <td>1.314474</td>\n",
       "      <td>18025</td>\n",
       "      <td>2023-01-01</td>\n",
       "      <td>1.315789</td>\n",
       "      <td>0.100050</td>\n",
       "    </tr>\n",
       "    <tr>\n",
       "      <th>1584</th>\n",
       "      <td>29209_2023-01-01</td>\n",
       "      <td>5.464115</td>\n",
       "      <td>29209</td>\n",
       "      <td>2023-01-01</td>\n",
       "      <td>5.525793</td>\n",
       "      <td>1.122451</td>\n",
       "    </tr>\n",
       "    <tr>\n",
       "      <th>1752</th>\n",
       "      <td>32017_2023-01-01</td>\n",
       "      <td>73.652821</td>\n",
       "      <td>32017</td>\n",
       "      <td>2023-01-01</td>\n",
       "      <td>74.396026</td>\n",
       "      <td>1.004000</td>\n",
       "    </tr>\n",
       "    <tr>\n",
       "      <th>2247</th>\n",
       "      <td>42013_2023-01-01</td>\n",
       "      <td>3.027983</td>\n",
       "      <td>42013</td>\n",
       "      <td>2023-01-01</td>\n",
       "      <td>3.071815</td>\n",
       "      <td>1.437174</td>\n",
       "    </tr>\n",
       "    <tr>\n",
       "      <th>2978</th>\n",
       "      <td>53065_2023-01-01</td>\n",
       "      <td>4.503120</td>\n",
       "      <td>53065</td>\n",
       "      <td>2023-01-01</td>\n",
       "      <td>4.599392</td>\n",
       "      <td>2.115277</td>\n",
       "    </tr>\n",
       "    <tr>\n",
       "      <th>2996</th>\n",
       "      <td>54023_2023-01-01</td>\n",
       "      <td>0.763968</td>\n",
       "      <td>54023</td>\n",
       "      <td>2023-01-01</td>\n",
       "      <td>0.764732</td>\n",
       "      <td>0.100050</td>\n",
       "    </tr>\n",
       "  </tbody>\n",
       "</table>\n",
       "</div>"
      ],
      "text/plain": [
       "                row_id  microbusiness_density  cfips       month   baseline  \\\n",
       "186    6005_2023-01-01              13.309681   6005  2023-01-01  13.398735   \n",
       "480   13193_2023-01-01               0.921605  13193  2023-01-01   0.922528   \n",
       "707   18025_2023-01-01               1.314474  18025  2023-01-01   1.315789   \n",
       "1584  29209_2023-01-01               5.464115  29209  2023-01-01   5.525793   \n",
       "1752  32017_2023-01-01              73.652821  32017  2023-01-01  74.396026   \n",
       "2247  42013_2023-01-01               3.027983  42013  2023-01-01   3.071815   \n",
       "2978  53065_2023-01-01               4.503120  53065  2023-01-01   4.599392   \n",
       "2996  54023_2023-01-01               0.763968  54023  2023-01-01   0.764732   \n",
       "\n",
       "         smape  \n",
       "186   0.666858  \n",
       "480   0.100050  \n",
       "707   0.100050  \n",
       "1584  1.122451  \n",
       "1752  1.004000  \n",
       "2247  1.437174  \n",
       "2978  2.115277  \n",
       "2996  0.100050  "
      ]
     },
     "execution_count": 126,
     "metadata": {},
     "output_type": "execute_result"
    }
   ],
   "source": [
    "df_merged[df_merged['microbusiness_density']<df_merged['baseline']]"
   ]
  },
  {
   "cell_type": "code",
   "execution_count": 14,
   "id": "80072629",
   "metadata": {},
   "outputs": [
    {
     "name": "stdout",
     "output_type": "stream",
     "text": [
      "0.016963210799712435\n"
     ]
    }
   ],
   "source": [
    "# df_submission = pd.read_csv('../submission/submission_2023-02-27_16_35_41.csv', index_col='row_id')\n",
    "df_submission = pd.read_csv('../submission/submission_2023-02-28_18_21_26.csv', index_col='row_id')\n",
    "# df_submission = pd.read_csv('../submission/submission_2023-02-27_19_41_33.csv', index_col='row_id')\n",
    "# df_submission = pd.read_csv('../submission/submission_2023-02-27_21_15_16.csv', index_col='row_id')\n",
    "df_merged = utils.compare_submission(df_submission, 'submission_13827')\n",
    "print(df_merged['smape'].mean())"
   ]
  }
 ],
 "metadata": {
  "kernelspec": {
   "display_name": "Python 3 (ipykernel)",
   "language": "python",
   "name": "python3"
  },
  "language_info": {
   "codemirror_mode": {
    "name": "ipython",
    "version": 3
   },
   "file_extension": ".py",
   "mimetype": "text/x-python",
   "name": "python",
   "nbconvert_exporter": "python",
   "pygments_lexer": "ipython3",
   "version": "3.7.12"
  }
 },
 "nbformat": 4,
 "nbformat_minor": 5
}
