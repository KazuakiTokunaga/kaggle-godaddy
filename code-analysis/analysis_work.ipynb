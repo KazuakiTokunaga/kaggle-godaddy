{
 "cells": [
  {
   "cell_type": "code",
   "execution_count": 12,
   "id": "176b6b8a",
   "metadata": {},
   "outputs": [],
   "source": [
    "import numpy as np\n",
    "import pandas as pd\n",
    "import seaborn as sns"
   ]
  },
  {
   "cell_type": "code",
   "execution_count": 13,
   "id": "70a6d966",
   "metadata": {},
   "outputs": [],
   "source": [
    "# Import my modules.\n",
    "import sys, os\n",
    "from pathlib import Path\n",
    "current_dir = os.path.join(Path().resolve())\n",
    "sys.path.append(str(current_dir) + '/../')\n",
    "\n",
    "from modules import utils\n",
    "from modules import models\n",
    "from modules import preprocess\n",
    "\n",
    "import importlib\n",
    "for m in [utils, models, preprocess]:\n",
    "    importlib.reload(m)"
   ]
  },
  {
   "cell_type": "code",
   "execution_count": 14,
   "id": "f6d91f4a",
   "metadata": {},
   "outputs": [],
   "source": [
    "pd.set_option('display.max_rows', 100)\n",
    "pd.set_option('display.max_columns', 100)"
   ]
  },
  {
   "cell_type": "code",
   "execution_count": 15,
   "id": "1250dee0",
   "metadata": {},
   "outputs": [
    {
     "name": "stderr",
     "output_type": "stream",
     "text": [
      "/tmp/working/code-analysis/../modules/utils.py:222: DtypeWarning: Columns (102) have mixed types.Specify dtype option on import or set low_memory=False.\n",
      "  if fix_pop:\n"
     ]
    }
   ],
   "source": [
    "mbd = 'microbusiness_density'\n",
    "\n",
    "df_train, df_test, df_subm = utils.load_dataset()\n",
    "df_all, df_census = utils.merge_dataset(df_train, df_test, pop=False, unemploy=False, census=False, coord=True, fix_pop=True, add_location=False, outlier=False)"
   ]
  },
  {
   "cell_type": "code",
   "execution_count": 7,
   "id": "988220f5",
   "metadata": {},
   "outputs": [],
   "source": [
    "# df_submission = pd.read_csv('../submission/test_subm_accum_2023-02-25_21:02:46.csv')"
   ]
  },
  {
   "cell_type": "code",
   "execution_count": 17,
   "id": "f8ffda54",
   "metadata": {},
   "outputs": [
    {
     "name": "stdout",
     "output_type": "stream",
     "text": [
      "add lag features: max_scale=40\n"
     ]
    }
   ],
   "source": [
    "df_all = preprocess.add_lag_features(df_all)"
   ]
  },
  {
   "cell_type": "code",
   "execution_count": 21,
   "id": "bd3e6ce7",
   "metadata": {},
   "outputs": [],
   "source": [
    "trend_dict = preprocess.get_trend_multi(df_all)"
   ]
  },
  {
   "cell_type": "code",
   "execution_count": 22,
   "id": "6fe40249",
   "metadata": {},
   "outputs": [],
   "source": [
    "trend_dict2 = preprocess.get_trend_multi(df_all, origin=True)"
   ]
  }
 ],
 "metadata": {
  "kernelspec": {
   "display_name": "Python 3 (ipykernel)",
   "language": "python",
   "name": "python3"
  },
  "language_info": {
   "codemirror_mode": {
    "name": "ipython",
    "version": 3
   },
   "file_extension": ".py",
   "mimetype": "text/x-python",
   "name": "python",
   "nbconvert_exporter": "python",
   "pygments_lexer": "ipython3",
   "version": "3.7.12"
  }
 },
 "nbformat": 4,
 "nbformat_minor": 5
}
