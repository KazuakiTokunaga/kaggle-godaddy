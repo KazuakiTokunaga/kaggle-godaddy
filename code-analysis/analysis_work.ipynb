{
 "cells": [
  {
   "cell_type": "code",
   "execution_count": 1,
   "id": "176b6b8a",
   "metadata": {},
   "outputs": [],
   "source": [
    "import numpy as np\n",
    "import pandas as pd\n",
    "import seaborn as sns"
   ]
  },
  {
   "cell_type": "code",
   "execution_count": 2,
   "id": "70a6d966",
   "metadata": {},
   "outputs": [
    {
     "data": {
      "text/html": [
       "<style type='text/css'>\n",
       ".datatable table.frame { margin-bottom: 0; }\n",
       ".datatable table.frame thead { border-bottom: none; }\n",
       ".datatable table.frame tr.coltypes td {  color: #FFFFFF;  line-height: 6px;  padding: 0 0.5em;}\n",
       ".datatable .bool    { background: #DDDD99; }\n",
       ".datatable .object  { background: #565656; }\n",
       ".datatable .int     { background: #5D9E5D; }\n",
       ".datatable .float   { background: #4040CC; }\n",
       ".datatable .str     { background: #CC4040; }\n",
       ".datatable .time    { background: #40CC40; }\n",
       ".datatable .row_index {  background: var(--jp-border-color3);  border-right: 1px solid var(--jp-border-color0);  color: var(--jp-ui-font-color3);  font-size: 9px;}\n",
       ".datatable .frame tbody td { text-align: left; }\n",
       ".datatable .frame tr.coltypes .row_index {  background: var(--jp-border-color0);}\n",
       ".datatable th:nth-child(2) { padding-left: 12px; }\n",
       ".datatable .hellipsis {  color: var(--jp-cell-editor-border-color);}\n",
       ".datatable .vellipsis {  background: var(--jp-layout-color0);  color: var(--jp-cell-editor-border-color);}\n",
       ".datatable .na {  color: var(--jp-cell-editor-border-color);  font-size: 80%;}\n",
       ".datatable .sp {  opacity: 0.25;}\n",
       ".datatable .footer { font-size: 9px; }\n",
       ".datatable .frame_dimensions {  background: var(--jp-border-color3);  border-top: 1px solid var(--jp-border-color0);  color: var(--jp-ui-font-color3);  display: inline-block;  opacity: 0.6;  padding: 1px 10px 1px 5px;}\n",
       "</style>\n"
      ],
      "text/plain": [
       "<IPython.core.display.HTML object>"
      ]
     },
     "metadata": {},
     "output_type": "display_data"
    }
   ],
   "source": [
    "# Import my modules.\n",
    "import sys, os\n",
    "from pathlib import Path\n",
    "current_dir = os.path.join(Path().resolve())\n",
    "sys.path.append(str(current_dir) + '/../')\n",
    "\n",
    "from modules import utils\n",
    "from modules import models\n",
    "from modules import preprocess\n",
    "\n",
    "import importlib\n",
    "for m in [utils, models, preprocess]:\n",
    "    importlib.reload(m)"
   ]
  },
  {
   "cell_type": "code",
   "execution_count": 3,
   "id": "f6d91f4a",
   "metadata": {},
   "outputs": [],
   "source": [
    "pd.set_option('display.max_rows', 100)\n",
    "pd.set_option('display.max_columns', 100)"
   ]
  },
  {
   "cell_type": "code",
   "execution_count": 15,
   "id": "1250dee0",
   "metadata": {},
   "outputs": [
    {
     "name": "stderr",
     "output_type": "stream",
     "text": [
      "/tmp/working/code-analysis/../modules/utils.py:222: DtypeWarning: Columns (102) have mixed types.Specify dtype option on import or set low_memory=False.\n",
      "  if fix_pop:\n"
     ]
    }
   ],
   "source": [
    "mbd = 'microbusiness_density'\n",
    "\n",
    "df_train, df_test, df_subm = utils.load_dataset()\n",
    "df_all, df_census = utils.merge_dataset(df_train, df_test, pop=False, unemploy=False, census=False, coord=True, fix_pop=True, add_location=False, outlier=False)"
   ]
  },
  {
   "cell_type": "code",
   "execution_count": 7,
   "id": "988220f5",
   "metadata": {},
   "outputs": [],
   "source": [
    "# df_submission = pd.read_csv('../submission/test_subm_accum_2023-02-25_21:02:46.csv')"
   ]
  },
  {
   "cell_type": "code",
   "execution_count": 17,
   "id": "d25d73a9",
   "metadata": {},
   "outputs": [
    {
     "name": "stdout",
     "output_type": "stream",
     "text": [
      "add lag features: max_scale=40\n"
     ]
    }
   ],
   "source": [
    "df_all = preprocess.add_lag_features(df_all)"
   ]
  },
  {
   "cell_type": "code",
   "execution_count": 21,
   "id": "bd3e6ce7",
   "metadata": {},
   "outputs": [],
   "source": [
    "trend_dict = preprocess.get_trend_multi(df_all)"
   ]
  },
  {
   "cell_type": "code",
   "execution_count": 10,
   "id": "80072629",
   "metadata": {},
   "outputs": [],
   "source": [
    "df_submission = pd.read_csv('../submission/submission_2023-02-27_00_37_04.csv', index_col='row_id')"
   ]
  },
  {
   "cell_type": "code",
   "execution_count": 12,
   "id": "15701617",
   "metadata": {},
   "outputs": [],
   "source": [
    "df_merged = utils.compare_submission(df_submission, 'test_subm_accum_2023-02-25_21:02:46')"
   ]
  },
  {
   "cell_type": "code",
   "execution_count": 14,
   "id": "9646c140",
   "metadata": {},
   "outputs": [
    {
     "data": {
      "text/plain": [
       "0.0"
      ]
     },
     "execution_count": 14,
     "metadata": {},
     "output_type": "execute_result"
    }
   ],
   "source": [
    "df_merged['smape'].mean()"
   ]
  },
  {
   "cell_type": "code",
   "execution_count": null,
   "id": "a46cbb6f",
   "metadata": {},
   "outputs": [],
   "source": []
  }
 ],
 "metadata": {
  "kernelspec": {
   "display_name": "Python 3 (ipykernel)",
   "language": "python",
   "name": "python3"
  },
  "language_info": {
   "codemirror_mode": {
    "name": "ipython",
    "version": 3
   },
   "file_extension": ".py",
   "mimetype": "text/x-python",
   "name": "python",
   "nbconvert_exporter": "python",
   "pygments_lexer": "ipython3",
   "version": "3.7.12"
  }
 },
 "nbformat": 4,
 "nbformat_minor": 5
}
