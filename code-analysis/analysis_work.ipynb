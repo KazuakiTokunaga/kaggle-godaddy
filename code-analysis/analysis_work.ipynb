{
 "cells": [
  {
   "cell_type": "code",
   "execution_count": 2,
   "id": "176b6b8a",
   "metadata": {},
   "outputs": [],
   "source": [
    "import numpy as np\n",
    "import pandas as pd\n",
    "import seaborn as sns"
   ]
  },
  {
   "cell_type": "code",
   "execution_count": 97,
   "id": "70a6d966",
   "metadata": {},
   "outputs": [],
   "source": [
    "# Import my modules.\n",
    "import sys, os\n",
    "from pathlib import Path\n",
    "current_dir = os.path.join(Path().resolve())\n",
    "sys.path.append(str(current_dir) + '/../')\n",
    "\n",
    "from modules import utils\n",
    "from modules import models\n",
    "from modules import preprocess\n",
    "\n",
    "import importlib\n",
    "for m in [utils, models, preprocess]:\n",
    "    importlib.reload(m)"
   ]
  },
  {
   "cell_type": "code",
   "execution_count": 29,
   "id": "f6d91f4a",
   "metadata": {},
   "outputs": [],
   "source": [
    "pd.set_option('display.max_rows', 100)\n",
    "pd.set_option('display.max_columns', 100)"
   ]
  },
  {
   "cell_type": "markdown",
   "id": "802000d2",
   "metadata": {},
   "source": [
    "## Trend実験"
   ]
  },
  {
   "cell_type": "code",
   "execution_count": 14,
   "id": "1250dee0",
   "metadata": {},
   "outputs": [
    {
     "name": "stderr",
     "output_type": "stream",
     "text": [
      "/tmp/working/code-analysis/../modules/utils.py:268: DtypeWarning: Columns (102) have mixed types.Specify dtype option on import or set low_memory=False.\n",
      "  df_census = load_census(BASE)\n"
     ]
    }
   ],
   "source": [
    "# mbd = 'microbusiness_density'\n",
    "\n",
    "df_train, df_test, df_subm = utils.load_dataset()\n",
    "df_all, df_census = utils.merge_dataset(df_train, df_test, pop=False, unemploy=False, census=False, coord=False, co_est=True, fix_pop=False, add_location=False, outlier=False)\n",
    "# df_all = preprocess.add_lag_features(df_all)"
   ]
  },
  {
   "cell_type": "code",
   "execution_count": 137,
   "id": "6aff0aac",
   "metadata": {},
   "outputs": [
    {
     "name": "stdout",
     "output_type": "stream",
     "text": [
      "13\n"
     ]
    },
    {
     "data": {
      "text/plain": [
       "{13025: 1.004,\n",
       " 13193: 0.999,\n",
       " 18025: 0.999,\n",
       " 21147: 1.004,\n",
       " 31093: 1.0033846255390906,\n",
       " 40005: 1.004,\n",
       " 40069: 1.00303696951699,\n",
       " 46091: 1.0016915440454517,\n",
       " 48305: 1.004,\n",
       " 48385: 1.0026579234749724,\n",
       " 5067: 1.004,\n",
       " 54023: 0.999,\n",
       " 8033: 1.004}"
      ]
     },
     "execution_count": 137,
     "metadata": {},
     "output_type": "execute_result"
    }
   ],
   "source": [
    "low_trend_params = {\n",
    "    1: {\n",
    "        'n':3,\n",
    "        'thre':3,\n",
    "        'thre_r':0,\n",
    "        'lower_bound': 60,\n",
    "        'upper_bound': 140,\n",
    "        'use_regularize': True,\n",
    "        'v_regularize': [0.03, 0.02],\n",
    "        'v_clip':[0.999, 1.004]\n",
    "    }\n",
    "}\n",
    "params = low_trend_params[1]\n",
    "df_trend, trend_dict = preprocess.get_trend_dict(df_all, **params)\n",
    "print(len(trend_dict))\n",
    "trend_dict"
   ]
  },
  {
   "cell_type": "code",
   "execution_count": 160,
   "id": "00c90915",
   "metadata": {},
   "outputs": [
    {
     "name": "stdout",
     "output_type": "stream",
     "text": [
      "33\n"
     ]
    },
    {
     "data": {
      "text/plain": [
       "{10003: 1.004,\n",
       " 12031: 1.0025810474983163,\n",
       " 12081: 1.0021944719741633,\n",
       " 12101: 1.0004422558912913,\n",
       " 12127: 0.999,\n",
       " 17197: 1.0019724841950757,\n",
       " 24003: 1.0013556096262333,\n",
       " 24005: 1.004,\n",
       " 24510: 0.999,\n",
       " 25025: 1.000131850354836,\n",
       " 29095: 1.0012930980306953,\n",
       " 32003: 1.001383320929266,\n",
       " 34013: 1.0019734470108055,\n",
       " 36059: 1.000614093499516,\n",
       " 36085: 1.004,\n",
       " 37119: 1.000061828055089,\n",
       " 37183: 1.004,\n",
       " 39061: 1.004,\n",
       " 40109: 1.004,\n",
       " 40143: 1.0022818100881399,\n",
       " 42003: 1.004,\n",
       " 47065: 1.0024142195533001,\n",
       " 47187: 1.0014889726359355,\n",
       " 48085: 1.004,\n",
       " 48121: 1.004,\n",
       " 48157: 1.004,\n",
       " 48491: 1.001423889702986,\n",
       " 55133: 1.000885770268916,\n",
       " 6001: 1.004,\n",
       " 6065: 1.0008005797236106,\n",
       " 6073: 1.0039667901607097,\n",
       " 6087: 1.0036614749940644,\n",
       " 8005: 1.0014128289889006}"
      ]
     },
     "execution_count": 160,
     "metadata": {},
     "output_type": "execute_result"
    }
   ],
   "source": [
    "high_trend_params = {\n",
    "    1: {\n",
    "        'n':3,\n",
    "        'thre':3,\n",
    "        'thre_r':0,\n",
    "        'lower_bound': 20000,\n",
    "        'upper_bound': 999999,\n",
    "        'use_regularize': True,\n",
    "        'v_regularize': [0.01, 0.006],\n",
    "        'v_clip':[0.999, 1.004]\n",
    "    }\n",
    "}\n",
    "params = high_trend_params[1]\n",
    "df_trend, high_trend_dict = preprocess.get_trend_dict(df_all, **params)\n",
    "print(len(high_trend_dict))\n",
    "high_trend_dict"
   ]
  },
  {
   "cell_type": "code",
   "execution_count": 157,
   "id": "d1921adf",
   "metadata": {
    "scrolled": true
   },
   "outputs": [],
   "source": [
    "df_submission = pd.read_csv('../submission/submission_13827.csv', index_col='row_id')\n",
    "df_sub1, df_extract, var_dict = utils.insert_trend(df_submission, df_all, df_census, trend_dict)\n",
    "df_sub1, df_extract, var_dict = utils.insert_trend(df_sub1, df_all, df_census, high_trend_dict, method='mean')\n",
    "df_sub1.to_csv('../submission/submission_13827_trend.csv')"
   ]
  },
  {
   "cell_type": "code",
   "execution_count": 158,
   "id": "c0de0918",
   "metadata": {},
   "outputs": [
    {
     "name": "stdout",
     "output_type": "stream",
     "text": [
      "(31, 6)\n"
     ]
    }
   ],
   "source": [
    "df_merged = utils.compare_submission(df_sub1, 'submission_13827')\n",
    "df_diff = df_merged[df_merged['smape']>0.001].copy()\n",
    "print(df_diff.shape)"
   ]
  },
  {
   "cell_type": "code",
   "execution_count": 159,
   "id": "40d312ca",
   "metadata": {},
   "outputs": [
    {
     "data": {
      "text/plain": [
       "5.7174896856607305"
      ]
     },
     "execution_count": 159,
     "metadata": {},
     "output_type": "execute_result"
    }
   ],
   "source": [
    "df_merged['smape'].sum()"
   ]
  },
  {
   "cell_type": "code",
   "execution_count": 7,
   "id": "80072629",
   "metadata": {},
   "outputs": [
    {
     "name": "stdout",
     "output_type": "stream",
     "text": [
      "0.016963210799712435\n"
     ]
    }
   ],
   "source": [
    "# df_submission = pd.read_csv('../submission/submission_2023-02-27_16_35_41.csv', index_col='row_id')\n",
    "df_submission = pd.read_csv('../submission/submission_2023-02-28_18_21_26.csv', index_col='row_id')\n",
    "# df_submission = pd.read_csv('../submission/submission_2023-02-27_19_41_33.csv', index_col='row_id')\n",
    "# df_submission = pd.read_csv('../submission/submission_2023-02-27_21_15_16.csv', index_col='row_id')\n",
    "df_merged = utils.compare_submission(df_submission, 'submission_13827')\n",
    "print(df_merged['smape'].mean())"
   ]
  },
  {
   "cell_type": "code",
   "execution_count": 235,
   "id": "5e0264a6",
   "metadata": {},
   "outputs": [
    {
     "data": {
      "text/plain": [
       "3135"
      ]
     },
     "execution_count": 235,
     "metadata": {},
     "output_type": "execute_result"
    }
   ],
   "source": [
    "len(df_all['cfips'].unique())"
   ]
  },
  {
   "cell_type": "code",
   "execution_count": null,
   "id": "335fa35c",
   "metadata": {},
   "outputs": [],
   "source": [
    "0.01944239446655972"
   ]
  }
 ],
 "metadata": {
  "kernelspec": {
   "display_name": "Python 3 (ipykernel)",
   "language": "python",
   "name": "python3"
  },
  "language_info": {
   "codemirror_mode": {
    "name": "ipython",
    "version": 3
   },
   "file_extension": ".py",
   "mimetype": "text/x-python",
   "name": "python",
   "nbconvert_exporter": "python",
   "pygments_lexer": "ipython3",
   "version": "3.7.12"
  }
 },
 "nbformat": 4,
 "nbformat_minor": 5
}
