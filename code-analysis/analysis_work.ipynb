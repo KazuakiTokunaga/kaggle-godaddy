{
 "cells": [
  {
   "cell_type": "code",
   "execution_count": 1,
   "id": "176b6b8a",
   "metadata": {},
   "outputs": [],
   "source": [
    "import numpy as np\n",
    "import pandas as pd\n",
    "import seaborn as sns"
   ]
  },
  {
   "cell_type": "code",
   "execution_count": 2,
   "id": "70a6d966",
   "metadata": {},
   "outputs": [
    {
     "data": {
      "text/html": [
       "<style type='text/css'>\n",
       ".datatable table.frame { margin-bottom: 0; }\n",
       ".datatable table.frame thead { border-bottom: none; }\n",
       ".datatable table.frame tr.coltypes td {  color: #FFFFFF;  line-height: 6px;  padding: 0 0.5em;}\n",
       ".datatable .bool    { background: #DDDD99; }\n",
       ".datatable .object  { background: #565656; }\n",
       ".datatable .int     { background: #5D9E5D; }\n",
       ".datatable .float   { background: #4040CC; }\n",
       ".datatable .str     { background: #CC4040; }\n",
       ".datatable .time    { background: #40CC40; }\n",
       ".datatable .row_index {  background: var(--jp-border-color3);  border-right: 1px solid var(--jp-border-color0);  color: var(--jp-ui-font-color3);  font-size: 9px;}\n",
       ".datatable .frame tbody td { text-align: left; }\n",
       ".datatable .frame tr.coltypes .row_index {  background: var(--jp-border-color0);}\n",
       ".datatable th:nth-child(2) { padding-left: 12px; }\n",
       ".datatable .hellipsis {  color: var(--jp-cell-editor-border-color);}\n",
       ".datatable .vellipsis {  background: var(--jp-layout-color0);  color: var(--jp-cell-editor-border-color);}\n",
       ".datatable .na {  color: var(--jp-cell-editor-border-color);  font-size: 80%;}\n",
       ".datatable .sp {  opacity: 0.25;}\n",
       ".datatable .footer { font-size: 9px; }\n",
       ".datatable .frame_dimensions {  background: var(--jp-border-color3);  border-top: 1px solid var(--jp-border-color0);  color: var(--jp-ui-font-color3);  display: inline-block;  opacity: 0.6;  padding: 1px 10px 1px 5px;}\n",
       "</style>\n"
      ],
      "text/plain": [
       "<IPython.core.display.HTML object>"
      ]
     },
     "metadata": {},
     "output_type": "display_data"
    }
   ],
   "source": [
    "# Import my modules.\n",
    "import sys, os\n",
    "from pathlib import Path\n",
    "current_dir = os.path.join(Path().resolve())\n",
    "sys.path.append(str(current_dir) + '/../')\n",
    "\n",
    "from modules import utils\n",
    "from modules import models\n",
    "from modules import preprocess\n",
    "\n",
    "import importlib\n",
    "for m in [utils, models, preprocess]:\n",
    "    importlib.reload(m)"
   ]
  },
  {
   "cell_type": "code",
   "execution_count": 3,
   "id": "f6d91f4a",
   "metadata": {},
   "outputs": [],
   "source": [
    "pd.set_option('display.max_rows', 100)\n",
    "pd.set_option('display.max_columns', 100)"
   ]
  },
  {
   "cell_type": "markdown",
   "id": "802000d2",
   "metadata": {},
   "source": [
    "## Trend実験"
   ]
  },
  {
   "cell_type": "code",
   "execution_count": 5,
   "id": "1250dee0",
   "metadata": {},
   "outputs": [
    {
     "name": "stderr",
     "output_type": "stream",
     "text": [
      "/tmp/working/code-analysis/../modules/utils.py:293: DtypeWarning: Columns (102) have mixed types.Specify dtype option on import or set low_memory=False.\n",
      "  df_census = load_census(BASE)\n"
     ]
    }
   ],
   "source": [
    "# mbd = 'microbusiness_density'\n",
    "\n",
    "df_train, df_test, df_subm = utils.load_dataset()\n",
    "df_all, df_census = utils.merge_dataset(df_train, df_test, pop=False, unemploy=False, census=False, coord=False, co_est=True, fix_pop=False, add_location=False, outlier=False)\n",
    "# df_all = preprocess.add_lag_features(df_all)"
   ]
  },
  {
   "cell_type": "code",
   "execution_count": 143,
   "id": "6aff0aac",
   "metadata": {},
   "outputs": [
    {
     "name": "stdout",
     "output_type": "stream",
     "text": [
      "13\n"
     ]
    },
    {
     "data": {
      "text/plain": [
       "{13025: 1.004,\n",
       " 13193: 0.999,\n",
       " 18025: 0.999,\n",
       " 21147: 1.004,\n",
       " 31093: 1.0033846255390906,\n",
       " 40005: 1.004,\n",
       " 40069: 1.00303696951699,\n",
       " 46091: 1.0016915440454517,\n",
       " 48305: 1.004,\n",
       " 48385: 1.0026579234749724,\n",
       " 5067: 1.004,\n",
       " 54023: 0.999,\n",
       " 8033: 1.004}"
      ]
     },
     "execution_count": 143,
     "metadata": {},
     "output_type": "execute_result"
    }
   ],
   "source": [
    "low_trend_params = {\n",
    "    1: {\n",
    "        'n':3,\n",
    "        'thre':3,\n",
    "        'thre_r':0,\n",
    "        'lower_bound': 60,\n",
    "        'upper_bound': 140,\n",
    "        'use_regularize': True,\n",
    "        'v_regularize': [0.03, 0.02],\n",
    "        'v_clip':[0.999, 1.004]\n",
    "    }\n",
    "}\n",
    "params = low_trend_params[1]\n",
    "df_trend, trend_dict = preprocess.get_trend_dict(df_all, **params)\n",
    "print(len(trend_dict))\n",
    "trend_dict"
   ]
  },
  {
   "cell_type": "code",
   "execution_count": 144,
   "id": "00c90915",
   "metadata": {},
   "outputs": [
    {
     "name": "stdout",
     "output_type": "stream",
     "text": [
      "20\n"
     ]
    },
    {
     "data": {
      "text/plain": [
       "{12031: 1.0086328445657107,\n",
       " 12101: 1.006481142747778,\n",
       " 17197: 1.0080206078421285,\n",
       " 20091: 1.0060327304334955,\n",
       " 25025: 1.0061688635360524,\n",
       " 36085: 1.0173209335038416,\n",
       " 37119: 1.006098418566488,\n",
       " 40109: 1.0129319463023307,\n",
       " 40143: 1.008331800893501,\n",
       " 42003: 1.0233533145463996,\n",
       " 47065: 1.008465009610966,\n",
       " 47187: 1.0075341777021485,\n",
       " 48113: 1.0045559762608431,\n",
       " 48121: 1.0118033817358585,\n",
       " 48157: 1.013289253684673,\n",
       " 48491: 1.0074687019144728,\n",
       " 55133: 1.0069273342745635,\n",
       " 6001: 1.0116187765330433,\n",
       " 6073: 1.0100269518719414,\n",
       " 6079: 1.0050638864187709}"
      ]
     },
     "execution_count": 144,
     "metadata": {},
     "output_type": "execute_result"
    }
   ],
   "source": [
    "high_trend_params = {\n",
    "    1: {\n",
    "        'n':3,\n",
    "        'thre':3,\n",
    "        'thre_r':0.004,\n",
    "        'lower_bound': 20000,\n",
    "        'upper_bound': 99999999,\n",
    "        'use_regularize': True,\n",
    "        'v_regularize': [0.002, 0],\n",
    "        'v_clip':[None, None]\n",
    "    }\n",
    "}\n",
    "params = high_trend_params[1]\n",
    "df_trend, high_trend_dict = preprocess.get_trend_dict(df_all, **params)\n",
    "print(len(high_trend_dict))\n",
    "high_trend_dict"
   ]
  },
  {
   "cell_type": "code",
   "execution_count": 152,
   "id": "fabeba43",
   "metadata": {},
   "outputs": [
    {
     "name": "stdout",
     "output_type": "stream",
     "text": [
      "14\n"
     ]
    },
    {
     "data": {
      "text/plain": [
       "{10001: 1.0109092831459714,\n",
       " 1095: 1.00643036937373,\n",
       " 1125: 1.0134365581307192,\n",
       " 13285: 1.015,\n",
       " 16021: 1.015,\n",
       " 17049: 1.0125560358189618,\n",
       " 17119: 1.0140362909866192,\n",
       " 18073: 1.015,\n",
       " 23017: 1.015,\n",
       " 37097: 1.0061955726074097,\n",
       " 37175: 1.014698297128553,\n",
       " 42013: 0.9857070309055211,\n",
       " 53007: 1.015,\n",
       " 8037: 1.0135254279577202}"
      ]
     },
     "execution_count": 152,
     "metadata": {},
     "output_type": "execute_result"
    }
   ],
   "source": [
    "middle_trend_params = {\n",
    "    1: {\n",
    "        'n':7,\n",
    "        'thre':7,\n",
    "        'thre_r':0.002,\n",
    "        'lower_bound': 2000,\n",
    "        'upper_bound': 20000,\n",
    "        'use_regularize': True,\n",
    "        'v_regularize': [0.002, 0.002],\n",
    "        'v_clip':[None, 1.015]\n",
    "    }\n",
    "}\n",
    "params = middle_trend_params[1]\n",
    "df_trend, middle_trend_dict = preprocess.get_trend_dict(df_all, **params)\n",
    "print(len(middle_trend_dict))\n",
    "middle_trend_dict"
   ]
  },
  {
   "cell_type": "code",
   "execution_count": 153,
   "id": "39cc4200",
   "metadata": {},
   "outputs": [],
   "source": [
    "for keys in middle_trend_dict.keys():\n",
    "    if keys in high_trend_dict.keys():\n",
    "        print(keys)"
   ]
  },
  {
   "cell_type": "code",
   "execution_count": 154,
   "id": "d1921adf",
   "metadata": {
    "scrolled": true
   },
   "outputs": [],
   "source": [
    "df_sub1 = pd.read_csv('../submission/submission_13820.csv', index_col='row_id')\n",
    "df_sub1, df_extract, var_dict = utils.insert_trend(df_sub1, df_all, df_census, trend_dict)\n",
    "df_sub1, df_extract, var_dict = utils.insert_trend(df_sub1, df_all, df_census, high_trend_dict, method='replace')\n",
    "df_sub1, df_extract, var_dict = utils.insert_trend(df_sub1, df_all, df_census, middle_trend_dict, method='replace')\n",
    "df_sub1.to_csv('../submission/submission_13820_trend.csv')"
   ]
  },
  {
   "cell_type": "code",
   "execution_count": 155,
   "id": "c0de0918",
   "metadata": {},
   "outputs": [
    {
     "data": {
      "text/plain": [
       "(47, 6)"
      ]
     },
     "execution_count": 155,
     "metadata": {},
     "output_type": "execute_result"
    }
   ],
   "source": [
    "df_merged = utils.compare_submission(df_sub1, 'submission_13820')\n",
    "df_diff = df_merged[df_merged['smape']>0.001].copy()\n",
    "df_diff.shape"
   ]
  },
  {
   "cell_type": "code",
   "execution_count": 156,
   "id": "40d312ca",
   "metadata": {},
   "outputs": [
    {
     "data": {
      "text/plain": [
       "25.271103703018476"
      ]
     },
     "execution_count": 156,
     "metadata": {},
     "output_type": "execute_result"
    }
   ],
   "source": [
    "df_merged['smape'].sum()"
   ]
  },
  {
   "cell_type": "code",
   "execution_count": 157,
   "id": "8f883eb1",
   "metadata": {},
   "outputs": [
    {
     "data": {
      "text/html": [
       "<div>\n",
       "<style scoped>\n",
       "    .dataframe tbody tr th:only-of-type {\n",
       "        vertical-align: middle;\n",
       "    }\n",
       "\n",
       "    .dataframe tbody tr th {\n",
       "        vertical-align: top;\n",
       "    }\n",
       "\n",
       "    .dataframe thead th {\n",
       "        text-align: right;\n",
       "    }\n",
       "</style>\n",
       "<table border=\"1\" class=\"dataframe\">\n",
       "  <thead>\n",
       "    <tr style=\"text-align: right;\">\n",
       "      <th></th>\n",
       "      <th>row_id</th>\n",
       "      <th>microbusiness_density</th>\n",
       "      <th>cfips</th>\n",
       "      <th>month</th>\n",
       "      <th>baseline</th>\n",
       "      <th>smape</th>\n",
       "    </tr>\n",
       "  </thead>\n",
       "  <tbody>\n",
       "    <tr>\n",
       "      <th>480</th>\n",
       "      <td>13193_2023-01-01</td>\n",
       "      <td>0.921605</td>\n",
       "      <td>13193</td>\n",
       "      <td>2023-01-01</td>\n",
       "      <td>0.922528</td>\n",
       "      <td>0.100050</td>\n",
       "    </tr>\n",
       "    <tr>\n",
       "      <th>707</th>\n",
       "      <td>18025_2023-01-01</td>\n",
       "      <td>1.314474</td>\n",
       "      <td>18025</td>\n",
       "      <td>2023-01-01</td>\n",
       "      <td>1.315789</td>\n",
       "      <td>0.100050</td>\n",
       "    </tr>\n",
       "    <tr>\n",
       "      <th>2247</th>\n",
       "      <td>42013_2023-01-01</td>\n",
       "      <td>3.031008</td>\n",
       "      <td>42013</td>\n",
       "      <td>2023-01-01</td>\n",
       "      <td>3.071815</td>\n",
       "      <td>1.337329</td>\n",
       "    </tr>\n",
       "    <tr>\n",
       "      <th>2996</th>\n",
       "      <td>54023_2023-01-01</td>\n",
       "      <td>0.763968</td>\n",
       "      <td>54023</td>\n",
       "      <td>2023-01-01</td>\n",
       "      <td>0.764732</td>\n",
       "      <td>0.100050</td>\n",
       "    </tr>\n",
       "  </tbody>\n",
       "</table>\n",
       "</div>"
      ],
      "text/plain": [
       "                row_id  microbusiness_density  cfips       month  baseline  \\\n",
       "480   13193_2023-01-01               0.921605  13193  2023-01-01  0.922528   \n",
       "707   18025_2023-01-01               1.314474  18025  2023-01-01  1.315789   \n",
       "2247  42013_2023-01-01               3.031008  42013  2023-01-01  3.071815   \n",
       "2996  54023_2023-01-01               0.763968  54023  2023-01-01  0.764732   \n",
       "\n",
       "         smape  \n",
       "480   0.100050  \n",
       "707   0.100050  \n",
       "2247  1.337329  \n",
       "2996  0.100050  "
      ]
     },
     "execution_count": 157,
     "metadata": {},
     "output_type": "execute_result"
    }
   ],
   "source": [
    "df_merged[df_merged['microbusiness_density']<df_merged['baseline']]"
   ]
  },
  {
   "cell_type": "code",
   "execution_count": 7,
   "id": "80072629",
   "metadata": {},
   "outputs": [
    {
     "name": "stdout",
     "output_type": "stream",
     "text": [
      "0.016963210799712435\n"
     ]
    }
   ],
   "source": [
    "# df_submission = pd.read_csv('../submission/submission_2023-02-27_16_35_41.csv', index_col='row_id')\n",
    "df_submission = pd.read_csv('../submission/submission_2023-02-28_18_21_26.csv', index_col='row_id')\n",
    "# df_submission = pd.read_csv('../submission/submission_2023-02-27_19_41_33.csv', index_col='row_id')\n",
    "# df_submission = pd.read_csv('../submission/submission_2023-02-27_21_15_16.csv', index_col='row_id')\n",
    "df_merged = utils.compare_submission(df_submission, 'submission_13827')\n",
    "print(df_merged['smape'].mean())"
   ]
  },
  {
   "cell_type": "code",
   "execution_count": 235,
   "id": "5e0264a6",
   "metadata": {},
   "outputs": [
    {
     "data": {
      "text/plain": [
       "3135"
      ]
     },
     "execution_count": 235,
     "metadata": {},
     "output_type": "execute_result"
    }
   ],
   "source": [
    "len(df_all['cfips'].unique())"
   ]
  },
  {
   "cell_type": "code",
   "execution_count": null,
   "id": "335fa35c",
   "metadata": {},
   "outputs": [],
   "source": [
    "0.01944239446655972"
   ]
  }
 ],
 "metadata": {
  "kernelspec": {
   "display_name": "Python 3 (ipykernel)",
   "language": "python",
   "name": "python3"
  },
  "language_info": {
   "codemirror_mode": {
    "name": "ipython",
    "version": 3
   },
   "file_extension": ".py",
   "mimetype": "text/x-python",
   "name": "python",
   "nbconvert_exporter": "python",
   "pygments_lexer": "ipython3",
   "version": "3.7.12"
  }
 },
 "nbformat": 4,
 "nbformat_minor": 5
}
