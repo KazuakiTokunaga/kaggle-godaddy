{
 "cells": [
  {
   "cell_type": "code",
   "execution_count": 54,
   "id": "97936a91",
   "metadata": {},
   "outputs": [],
   "source": [
    "import numpy as np\n",
    "import pandas as pd\n",
    "import pickle"
   ]
  },
  {
   "cell_type": "code",
   "execution_count": 55,
   "id": "03f6a762",
   "metadata": {},
   "outputs": [],
   "source": [
    "# Import my modules.\n",
    "import sys, os\n",
    "from pathlib import Path\n",
    "current_dir = os.path.join(Path().resolve())\n",
    "sys.path.append(str(current_dir) + '/../')\n",
    "\n",
    "from modules import utils\n",
    "from modules import models\n",
    "from modules import preprocess\n",
    "\n",
    "import importlib\n",
    "for m in [utils, models, preprocess]:\n",
    "    importlib.reload(m)"
   ]
  },
  {
   "cell_type": "code",
   "execution_count": 56,
   "id": "946860d8",
   "metadata": {},
   "outputs": [],
   "source": [
    "pd.set_option('display.max_rows', 300)\n",
    "pd.set_option('display.max_columns', 150)"
   ]
  },
  {
   "cell_type": "code",
   "execution_count": 57,
   "id": "92d2a437",
   "metadata": {
    "scrolled": true
   },
   "outputs": [
    {
     "name": "stderr",
     "output_type": "stream",
     "text": [
      "/tmp/working/code-analysis/../modules/utils.py:222: DtypeWarning: Columns (102) have mixed types.Specify dtype option on import or set low_memory=False.\n",
      "  if fix_pop:\n"
     ]
    },
    {
     "name": "stdout",
     "output_type": "stream",
     "text": [
      "smooth_outlier: max_scale=40\n",
      "# of fixed cfips: 557\n",
      "# of fixed value: 922\n"
     ]
    }
   ],
   "source": [
    "mbd = 'microbusiness_density'\n",
    "\n",
    "df_train, df_test, df_subm = utils.load_dataset()\n",
    "df_all, df_census = utils.merge_dataset(df_train, df_test, pop=False, unemploy=False, census=True, coord=True, fix_pop=True, outlier=True)"
   ]
  },
  {
   "cell_type": "code",
   "execution_count": 24,
   "id": "420aee5d",
   "metadata": {},
   "outputs": [],
   "source": [
    "params={\n",
    "        \"act_thre\": 140,\n",
    "        \"abs_thre\": 0,\n",
    "        \"USE_LAG\": 7,\n",
    "        \"USE_TREND\": False,\n",
    "        \"USE_TREND_MULTI\": False,\n",
    "        \"blacklist\": [],\n",
    "        \"blacklistcfips\": [],\n",
    "        \"clip\": (-0.0044, 0.0046),\n",
    "        \"model\": 'lgb',\n",
    "        \"light\": True\n",
    "    }"
   ]
  },
  {
   "cell_type": "markdown",
   "id": "e82ceddf",
   "metadata": {},
   "source": [
    "## バリデーション"
   ]
  },
  {
   "cell_type": "markdown",
   "id": "1da156f4",
   "metadata": {},
   "source": [
    "### 前の予測結果を用いて予測していく"
   ]
  },
  {
   "cell_type": "code",
   "execution_count": 25,
   "id": "23fe18b5",
   "metadata": {
    "scrolled": true
   },
   "outputs": [
    {
     "name": "stdout",
     "output_type": "stream",
     "text": [
      "add lag features: max_scale=35\n",
      "created df_all_dict[35]\n",
      "add lag features: max_scale=36\n",
      "created df_all_dict[36]\n",
      "add lag features: max_scale=37\n",
      "created df_all_dict[37]\n",
      "add lag features: max_scale=38\n",
      "created df_all_dict[38]\n",
      "add lag features: max_scale=39\n",
      "created df_all_dict[39]\n",
      "add lag features: max_scale=40\n",
      "created df_all_dict[40]\n",
      "valid_times:  40\n",
      "pred_m:  1\n",
      "train_times:  39\n",
      "use df_all_dict[39]\n",
      "['scale', 'state_i', 'pct_bb_2017', 'pct_bb_2018', 'pct_bb_2019', 'pct_bb_2020', 'pct_bb_2021', 'pct_college_2017', 'pct_college_2018', 'pct_college_2019', 'pct_college_2020', 'pct_college_2021', 'pct_foreign_born_2017', 'pct_foreign_born_2018', 'pct_foreign_born_2019', 'pct_foreign_born_2020', 'pct_foreign_born_2021', 'pct_it_workers_2017', 'pct_it_workers_2018', 'pct_it_workers_2019', 'pct_it_workers_2020', 'pct_it_workers_2021', 'median_hh_inc_2017', 'median_hh_inc_2018', 'median_hh_inc_2019', 'median_hh_inc_2020', 'median_hh_inc_2021', 'lng', 'lat', 'select_rate1_lag1', 'select_rate1_lag2', 'select_rate1_lag3', 'select_rate1_lag4', 'select_rate1_lag5', 'select_rate1_lag6', 'select_rate1_lag7', 'select_rate1_rsum2', 'select_rate1_rsum4', 'select_rate1_rsum6', 'select_rate1_rsum8', 'select_rate1_rsum10', 'select_active_lag1_diff1', 'select_active_lag1_diff2', 'select_active_lag1_diff3', 'select_active_lag1_diff4', 'select_active_lag1_diff5', 'select_active_lag1_diff6', 'select_active_lag1_diff7']\n",
      "use lgb.\n",
      "[LightGBM] [Warning] lambda_l2 is set=0.5, reg_lambda=0.0 will be ignored. Current value: lambda_l2=0.5\n",
      "[LightGBM] [Warning] min_data_in_leaf is set=213, min_child_samples=20 will be ignored. Current value: min_data_in_leaf=213\n",
      "[LightGBM] [Warning] seed is set=42, random_state=42 will be ignored. Current value: seed=42\n",
      "[LightGBM] [Warning] num_iterations is set=30, n_iter=30 will be ignored. Current value: num_iterations=30\n"
     ]
    },
    {
     "name": "stderr",
     "output_type": "stream",
     "text": [
      "/opt/conda/lib/python3.7/site-packages/lightgbm/engine.py:177: UserWarning: Found `n_iter` in params. Will use it instead of argument\n",
      "  _log_warning(f\"Found `{alias}` in params. Will use it instead of argument\")\n"
     ]
    },
    {
     "name": "stdout",
     "output_type": "stream",
     "text": [
      "valid_times:  39\n",
      "pred_m:  1\n",
      "train_times:  38\n",
      "use df_all_dict[38]\n",
      "use lgb.\n",
      "[LightGBM] [Warning] lambda_l2 is set=0.5, reg_lambda=0.0 will be ignored. Current value: lambda_l2=0.5\n",
      "[LightGBM] [Warning] min_data_in_leaf is set=213, min_child_samples=20 will be ignored. Current value: min_data_in_leaf=213\n",
      "[LightGBM] [Warning] seed is set=42, random_state=42 will be ignored. Current value: seed=42\n",
      "[LightGBM] [Warning] num_iterations is set=30, n_iter=30 will be ignored. Current value: num_iterations=30\n",
      "valid_times:  38\n",
      "pred_m:  1\n",
      "train_times:  37\n",
      "use df_all_dict[37]\n",
      "use lgb.\n",
      "[LightGBM] [Warning] lambda_l2 is set=0.5, reg_lambda=0.0 will be ignored. Current value: lambda_l2=0.5\n",
      "[LightGBM] [Warning] min_data_in_leaf is set=213, min_child_samples=20 will be ignored. Current value: min_data_in_leaf=213\n",
      "[LightGBM] [Warning] seed is set=42, random_state=42 will be ignored. Current value: seed=42\n",
      "[LightGBM] [Warning] num_iterations is set=30, n_iter=30 will be ignored. Current value: num_iterations=30\n",
      "valid_times:  37\n",
      "pred_m:  1\n",
      "train_times:  36\n",
      "use df_all_dict[36]\n",
      "use lgb.\n",
      "[LightGBM] [Warning] lambda_l2 is set=0.5, reg_lambda=0.0 will be ignored. Current value: lambda_l2=0.5\n",
      "[LightGBM] [Warning] min_data_in_leaf is set=213, min_child_samples=20 will be ignored. Current value: min_data_in_leaf=213\n",
      "[LightGBM] [Warning] seed is set=42, random_state=42 will be ignored. Current value: seed=42\n",
      "[LightGBM] [Warning] num_iterations is set=30, n_iter=30 will be ignored. Current value: num_iterations=30\n",
      "valid_times:  36\n",
      "pred_m:  1\n",
      "train_times:  35\n",
      "use df_all_dict[35]\n",
      "use lgb.\n",
      "[LightGBM] [Warning] lambda_l2 is set=0.5, reg_lambda=0.0 will be ignored. Current value: lambda_l2=0.5\n",
      "[LightGBM] [Warning] min_data_in_leaf is set=213, min_child_samples=20 will be ignored. Current value: min_data_in_leaf=213\n",
      "[LightGBM] [Warning] seed is set=42, random_state=42 will be ignored. Current value: seed=42\n",
      "[LightGBM] [Warning] num_iterations is set=30, n_iter=30 will be ignored. Current value: num_iterations=30\n",
      "saved output_dic[1].\n",
      "saved output/params_accum_2023-02-26_22:33:52.csv\n"
     ]
    }
   ],
   "source": [
    "accum_pred = models.LgbmBaseline('params_accum',df_subm, df_all, df_census, start_all_dict=35, params=params)\n",
    "accum_pred.accum_validation(m_len=2, max_pred_m=1)"
   ]
  },
  {
   "cell_type": "markdown",
   "id": "44e52cee",
   "metadata": {},
   "source": [
    "## Submissionの作成"
   ]
  },
  {
   "cell_type": "markdown",
   "id": "96fdc219",
   "metadata": {},
   "source": [
    "### 予測結果を活用して予測"
   ]
  },
  {
   "cell_type": "code",
   "execution_count": 26,
   "id": "af23fc16",
   "metadata": {
    "scrolled": true
   },
   "outputs": [
    {
     "name": "stdout",
     "output_type": "stream",
     "text": [
      "add lag features: max_scale=40\n",
      "created df_all_dict[40]\n",
      "valid_times:  41\n",
      "pred_m:  1\n",
      "train_times:  40\n",
      "use df_all_dict[40]\n",
      "['scale', 'state_i', 'pct_bb_2017', 'pct_bb_2018', 'pct_bb_2019', 'pct_bb_2020', 'pct_bb_2021', 'pct_college_2017', 'pct_college_2018', 'pct_college_2019', 'pct_college_2020', 'pct_college_2021', 'pct_foreign_born_2017', 'pct_foreign_born_2018', 'pct_foreign_born_2019', 'pct_foreign_born_2020', 'pct_foreign_born_2021', 'pct_it_workers_2017', 'pct_it_workers_2018', 'pct_it_workers_2019', 'pct_it_workers_2020', 'pct_it_workers_2021', 'median_hh_inc_2017', 'median_hh_inc_2018', 'median_hh_inc_2019', 'median_hh_inc_2020', 'median_hh_inc_2021', 'lng', 'lat', 'select_rate1_lag1', 'select_rate1_lag2', 'select_rate1_lag3', 'select_rate1_lag4', 'select_rate1_lag5', 'select_rate1_lag6', 'select_rate1_lag7', 'select_rate1_rsum2', 'select_rate1_rsum4', 'select_rate1_rsum6', 'select_rate1_rsum8', 'select_rate1_rsum10', 'select_active_lag1_diff1', 'select_active_lag1_diff2', 'select_active_lag1_diff3', 'select_active_lag1_diff4', 'select_active_lag1_diff5', 'select_active_lag1_diff6', 'select_active_lag1_diff7']\n",
      "use lgb.\n",
      "[LightGBM] [Warning] lambda_l2 is set=0.5, reg_lambda=0.0 will be ignored. Current value: lambda_l2=0.5\n",
      "[LightGBM] [Warning] min_data_in_leaf is set=213, min_child_samples=20 will be ignored. Current value: min_data_in_leaf=213\n",
      "[LightGBM] [Warning] seed is set=42, random_state=42 will be ignored. Current value: seed=42\n",
      "[LightGBM] [Warning] num_iterations is set=30, n_iter=30 will be ignored. Current value: num_iterations=30\n",
      "saved output_dic[1].\n",
      "saved test_subm_accum_2023-02-26_22:34:32\n"
     ]
    }
   ],
   "source": [
    "test_subm = models.LgbmBaseline('test_subm_accum', df_subm, df_all, df_census, start_all_dict=40, params=params)\n",
    "test_subm.create_submission(target_scale=[41])"
   ]
  },
  {
   "cell_type": "code",
   "execution_count": 34,
   "id": "af559f9f",
   "metadata": {},
   "outputs": [
    {
     "data": {
      "text/html": [
       "<div>\n",
       "<style scoped>\n",
       "    .dataframe tbody tr th:only-of-type {\n",
       "        vertical-align: middle;\n",
       "    }\n",
       "\n",
       "    .dataframe tbody tr th {\n",
       "        vertical-align: top;\n",
       "    }\n",
       "\n",
       "    .dataframe thead th {\n",
       "        text-align: right;\n",
       "    }\n",
       "</style>\n",
       "<table border=\"1\" class=\"dataframe\">\n",
       "  <thead>\n",
       "    <tr style=\"text-align: right;\">\n",
       "      <th></th>\n",
       "      <th>cfips</th>\n",
       "      <th>county</th>\n",
       "      <th>state</th>\n",
       "      <th>state_i</th>\n",
       "      <th>microbusiness_density</th>\n",
       "      <th>mbd_origin</th>\n",
       "      <th>active</th>\n",
       "      <th>year</th>\n",
       "      <th>month</th>\n",
       "      <th>scale</th>\n",
       "      <th>mbd_pred</th>\n",
       "      <th>mbd_model</th>\n",
       "      <th>mbd_last</th>\n",
       "      <th>mbd_trend</th>\n",
       "      <th>mbd_trend_multi</th>\n",
       "      <th>y_base</th>\n",
       "      <th>y_pred</th>\n",
       "      <th>smape</th>\n",
       "      <th>smape_origin</th>\n",
       "    </tr>\n",
       "    <tr>\n",
       "      <th>row_id</th>\n",
       "      <th></th>\n",
       "      <th></th>\n",
       "      <th></th>\n",
       "      <th></th>\n",
       "      <th></th>\n",
       "      <th></th>\n",
       "      <th></th>\n",
       "      <th></th>\n",
       "      <th></th>\n",
       "      <th></th>\n",
       "      <th></th>\n",
       "      <th></th>\n",
       "      <th></th>\n",
       "      <th></th>\n",
       "      <th></th>\n",
       "      <th></th>\n",
       "      <th></th>\n",
       "      <th></th>\n",
       "      <th></th>\n",
       "    </tr>\n",
       "  </thead>\n",
       "  <tbody>\n",
       "  </tbody>\n",
       "</table>\n",
       "</div>"
      ],
      "text/plain": [
       "Empty DataFrame\n",
       "Columns: [cfips, county, state, state_i, microbusiness_density, mbd_origin, active, year, month, scale, mbd_pred, mbd_model, mbd_last, mbd_trend, mbd_trend_multi, y_base, y_pred, smape, smape_origin]\n",
       "Index: []"
      ]
     },
     "execution_count": 34,
     "metadata": {},
     "output_type": "execute_result"
    }
   ],
   "source": []
  },
  {
   "cell_type": "code",
   "execution_count": 27,
   "id": "632bb122",
   "metadata": {},
   "outputs": [],
   "source": [
    "df_submission = pd.read_csv('../submission/test_subm_accum_2023-02-25_21:02:46.csv', index_col='row_id')\n",
    "df_merged = utils.compare_submission(df_submission, 'submission_19346')"
   ]
  },
  {
   "cell_type": "code",
   "execution_count": 28,
   "id": "6f056b68",
   "metadata": {},
   "outputs": [
    {
     "data": {
      "text/plain": [
       "0.009844264000484165"
      ]
     },
     "execution_count": 28,
     "metadata": {},
     "output_type": "execute_result"
    }
   ],
   "source": [
    "df_merged['smape'].mean()"
   ]
  },
  {
   "cell_type": "code",
   "execution_count": 29,
   "id": "b8bf0fd9",
   "metadata": {},
   "outputs": [
    {
     "data": {
      "text/plain": [
       "0.03200090765098272"
      ]
     },
     "execution_count": 29,
     "metadata": {},
     "output_type": "execute_result"
    }
   ],
   "source": [
    "# ensemble\n",
    "0.01261112205424169\n",
    "\n",
    "# trend_multi有り\n",
    "0.03200090765098272"
   ]
  },
  {
   "cell_type": "code",
   "execution_count": 52,
   "id": "9ef60fd0",
   "metadata": {},
   "outputs": [],
   "source": [
    "target = 'a' if False else 'b'"
   ]
  },
  {
   "cell_type": "code",
   "execution_count": 53,
   "id": "1c0458d8",
   "metadata": {},
   "outputs": [
    {
     "data": {
      "text/plain": [
       "'b'"
      ]
     },
     "execution_count": 53,
     "metadata": {},
     "output_type": "execute_result"
    }
   ],
   "source": [
    "target"
   ]
  },
  {
   "cell_type": "code",
   "execution_count": null,
   "id": "29b0c9cb",
   "metadata": {},
   "outputs": [],
   "source": []
  }
 ],
 "metadata": {
  "kernelspec": {
   "display_name": "Python 3 (ipykernel)",
   "language": "python",
   "name": "python3"
  },
  "language_info": {
   "codemirror_mode": {
    "name": "ipython",
    "version": 3
   },
   "file_extension": ".py",
   "mimetype": "text/x-python",
   "name": "python",
   "nbconvert_exporter": "python",
   "pygments_lexer": "ipython3",
   "version": "3.7.12"
  }
 },
 "nbformat": 4,
 "nbformat_minor": 5
}
