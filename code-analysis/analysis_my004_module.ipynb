{
 "cells": [
  {
   "cell_type": "code",
   "execution_count": 566,
   "id": "97936a91",
   "metadata": {},
   "outputs": [],
   "source": [
    "import numpy as np\n",
    "import pandas as pd\n",
    "\n",
    "import lightgbm as lgb\n",
    "import pickle"
   ]
  },
  {
   "cell_type": "code",
   "execution_count": 567,
   "id": "03f6a762",
   "metadata": {},
   "outputs": [],
   "source": [
    "# Import my modules.\n",
    "import sys, os\n",
    "from pathlib import Path\n",
    "current_dir = os.path.join(Path().resolve())\n",
    "sys.path.append(str(current_dir) + '/../')\n",
    "\n",
    "from modules import utils\n",
    "from modules import models\n",
    "from modules import preprocess\n",
    "\n",
    "import importlib\n",
    "for m in [utils, models, preprocess]:\n",
    "    importlib.reload(m)"
   ]
  },
  {
   "cell_type": "code",
   "execution_count": 568,
   "id": "946860d8",
   "metadata": {},
   "outputs": [],
   "source": [
    "pd.set_option('display.max_rows', 300)\n",
    "pd.set_option('display.max_columns', 150)"
   ]
  },
  {
   "cell_type": "code",
   "execution_count": 569,
   "id": "92d2a437",
   "metadata": {
    "scrolled": true
   },
   "outputs": [
    {
     "name": "stdout",
     "output_type": "stream",
     "text": [
      "smooth_outlier: max_scale=40\n"
     ]
    },
    {
     "name": "stderr",
     "output_type": "stream",
     "text": [
      "/tmp/working/code-analysis/../modules/utils.py:194: RuntimeWarning: divide by zero encountered in double_scalars\n",
      "  var[:i] *= (var[i]/var[i-1])\n",
      "/tmp/working/code-analysis/../modules/utils.py:194: RuntimeWarning: invalid value encountered in multiply\n",
      "  var[:i] *= (var[i]/var[i-1])\n",
      "/tmp/working/code-analysis/../modules/utils.py:192: RuntimeWarning: invalid value encountered in double_scalars\n",
      "  difa = abs(var[i]-var[i-1])\n"
     ]
    },
    {
     "name": "stdout",
     "output_type": "stream",
     "text": [
      "# of fixed cfips: 552\n",
      "# of fixed value: 903\n"
     ]
    },
    {
     "name": "stderr",
     "output_type": "stream",
     "text": [
      "/opt/conda/lib/python3.7/site-packages/ipykernel_launcher.py:5: DtypeWarning: Columns (102) have mixed types.Specify dtype option on import or set low_memory=False.\n",
      "  \"\"\"\n"
     ]
    }
   ],
   "source": [
    "mbd = 'microbusiness_density'\n",
    "\n",
    "df_train, df_test, df_subm = utils.load_dataset()\n",
    "df_all = utils.merge_dataset(df_train, df_test, pop=False, unemploy=False, census=True, coord=True, outlier=True)\n",
    "df_census = utils.load_census()"
   ]
  },
  {
   "cell_type": "code",
   "execution_count": 570,
   "id": "420aee5d",
   "metadata": {},
   "outputs": [],
   "source": [
    "params={\n",
    "        \"act_thre\": 140,\n",
    "        \"abs_thre\": 0,\n",
    "        \"USE_LAG\": 7,\n",
    "        \"USE_TREND\": False,\n",
    "        \"blacklist\": [],\n",
    "        \"blacklistcfips\": [],\n",
    "        \"clip\": (-0.0044, 0.0046),\n",
    "        \"model\": 'ensemble'\n",
    "    }"
   ]
  },
  {
   "cell_type": "code",
   "execution_count": 571,
   "id": "4312b21a",
   "metadata": {},
   "outputs": [],
   "source": [
    "# params={\n",
    "#         \"ensemble\": False,\n",
    "#         \"act_thre\": 2,\n",
    "#         \"USE_LAG\": 5,\n",
    "#         \"USE_OLD_LOG\": False,\n",
    "#         \"USE_TREND\": False,\n",
    "#         \"blacklist\": [],\n",
    "#         \"blacklistcfips\": [],\n",
    "#         \"clip\": (None, None)\n",
    "#     }"
   ]
  },
  {
   "cell_type": "markdown",
   "id": "e82ceddf",
   "metadata": {},
   "source": [
    "## バリデーション"
   ]
  },
  {
   "cell_type": "markdown",
   "id": "1da156f4",
   "metadata": {},
   "source": [
    "### 前の予測結果を用いて予測していく"
   ]
  },
  {
   "cell_type": "code",
   "execution_count": 572,
   "id": "23fe18b5",
   "metadata": {
    "scrolled": true
   },
   "outputs": [],
   "source": [
    "# accum_pred = models.LgbmBaseline('params_accum',df_subm, df_all, df_census, params=params)\n",
    "# accum_pred.accum_validation(m_len=5)"
   ]
  },
  {
   "cell_type": "markdown",
   "id": "44e52cee",
   "metadata": {},
   "source": [
    "## Submissionの作成"
   ]
  },
  {
   "cell_type": "markdown",
   "id": "96fdc219",
   "metadata": {},
   "source": [
    "### 予測結果を活用して予測"
   ]
  },
  {
   "cell_type": "code",
   "execution_count": 573,
   "id": "af23fc16",
   "metadata": {
    "scrolled": true
   },
   "outputs": [
    {
     "name": "stdout",
     "output_type": "stream",
     "text": [
      "add lag features: max_scale=40\n",
      "created df_all_dict[40]\n",
      "valid_times:  41\n",
      "pred_m:  1\n",
      "train_times:  40\n",
      "use df_all_dict[40]\n",
      "['scale', 'state_i', 'pct_bb_2017', 'pct_bb_2018', 'pct_bb_2019', 'pct_bb_2020', 'pct_bb_2021', 'pct_college_2017', 'pct_college_2018', 'pct_college_2019', 'pct_college_2020', 'pct_college_2021', 'pct_foreign_born_2017', 'pct_foreign_born_2018', 'pct_foreign_born_2019', 'pct_foreign_born_2020', 'pct_foreign_born_2021', 'pct_it_workers_2017', 'pct_it_workers_2018', 'pct_it_workers_2019', 'pct_it_workers_2020', 'pct_it_workers_2021', 'median_hh_inc_2017', 'median_hh_inc_2018', 'median_hh_inc_2019', 'median_hh_inc_2020', 'median_hh_inc_2021', 'lng', 'lat', 'select_rate1_lag1', 'select_rate1_lag2', 'select_rate1_lag3', 'select_rate1_lag4', 'select_rate1_lag5', 'select_rate1_lag6', 'select_rate1_lag7', 'select_rate1_rsum2', 'select_rate1_rsum4', 'select_rate1_rsum6', 'select_rate1_rsum8', 'select_rate1_rsum10', 'select_active_lag1_diff1', 'select_active_lag1_diff2', 'select_active_lag1_diff3', 'select_active_lag1_diff4', 'select_active_lag1_diff5', 'select_active_lag1_diff6', 'select_active_lag1_diff7']\n",
      "use ensemble model.\n"
     ]
    },
    {
     "name": "stderr",
     "output_type": "stream",
     "text": [
      "/opt/conda/lib/python3.7/site-packages/lightgbm/engine.py:177: UserWarning: Found `n_iter` in params. Will use it instead of argument\n",
      "  _log_warning(f\"Found `{alias}` in params. Will use it instead of argument\")\n"
     ]
    },
    {
     "name": "stdout",
     "output_type": "stream",
     "text": [
      "[LightGBM] [Warning] lambda_l1 is set=1.8386216853616875, reg_alpha=0.0 will be ignored. Current value: lambda_l1=1.8386216853616875\n",
      "[LightGBM] [Warning] lambda_l2 is set=7.557660410418351, reg_lambda=0.0 will be ignored. Current value: lambda_l2=7.557660410418351\n",
      "[LightGBM] [Warning] min_data_in_leaf is set=213, min_child_samples=20 will be ignored. Current value: min_data_in_leaf=213\n",
      "[LightGBM] [Warning] seed is set=42, random_state=42 will be ignored. Current value: seed=42\n",
      "[LightGBM] [Warning] num_iterations is set=200, n_iter=200 will be ignored. Current value: num_iterations=200\n",
      "saved output_dic[1].\n",
      "saved test_subm_accum_2023-02-24_22:46:22\n"
     ]
    }
   ],
   "source": [
    "test_subm = models.LgbmBaseline('test_subm_accum', df_subm, df_all, df_census, params=params)\n",
    "test_subm.create_submission(accum=True, target_scale=[41])"
   ]
  },
  {
   "cell_type": "code",
   "execution_count": 574,
   "id": "c6638867",
   "metadata": {},
   "outputs": [],
   "source": [
    "# df_all40 = test_subm.df_all_dict[40]\n",
    "# df_all40target = df_all40[df_all40['scale']==2]\n",
    "# df_all40target[['select_rate1_lag1', 'select_rate1_lag2', 'select_rate1_lag3', 'select_rate1_lag4', 'select_rate1_lag5', 'select_rate1_lag6', 'select_rate1_lag7', 'select_rate1_rsum2', 'select_rate1_rsum4', 'select_rate1_rsum6', 'select_rate1_rsum8', 'select_rate1_rsum10', 'select_active_lag1_diff1', 'select_active_lag1_diff2', 'select_active_lag1_diff3', 'select_active_lag1_diff4', 'select_active_lag1_diff5', 'select_active_lag1_diff6', 'select_active_lag1_diff7']]"
   ]
  },
  {
   "cell_type": "code",
   "execution_count": 575,
   "id": "557be11f",
   "metadata": {},
   "outputs": [],
   "source": [
    "df_submission= test_subm.df_submission\n",
    "df_submission = df_submission.reset_index()\n",
    "df_submission['cfips'] = df_submission['row_id'].apply(lambda x: int(x.split('_')[0]))\n",
    "df_submission['month'] = df_submission['row_id'].apply(lambda x: x.split('_')[1])\n",
    "df_subm202301 = df_submission[df_submission['month']=='2023-01-01']"
   ]
  },
  {
   "cell_type": "code",
   "execution_count": 576,
   "id": "2374697b",
   "metadata": {},
   "outputs": [],
   "source": [
    "# df_baseline = pd.read_csv('../submission/submission_13992.csv')\n",
    "df_baseline = pd.read_csv('../submission/submission_13973.csv')\n",
    "# df_baseline = pd.read_csv('../submission/submission_14308.csv')\n",
    "df_baseline['cfips'] = df_baseline['row_id'].apply(lambda x: int(x.split('_')[0]))\n",
    "df_baseline['month'] = df_baseline['row_id'].apply(lambda x: x.split('_')[1])\n",
    "df_baseline202301 = df_baseline[df_baseline['month']=='2023-01-01'].copy()\n",
    "df_baseline202301.rename(columns={mbd: 'baseline'}, inplace=True)"
   ]
  },
  {
   "cell_type": "code",
   "execution_count": 577,
   "id": "87395821",
   "metadata": {},
   "outputs": [],
   "source": [
    "df_merged = df_subm202301.merge(df_baseline202301[['row_id', 'baseline']], how='left', on='row_id')\n",
    "df_merged['smape'] = utils.smape_arr(df_merged[mbd], df_merged['baseline'])"
   ]
  },
  {
   "cell_type": "code",
   "execution_count": 578,
   "id": "632bb122",
   "metadata": {},
   "outputs": [
    {
     "data": {
      "text/html": [
       "<div>\n",
       "<style scoped>\n",
       "    .dataframe tbody tr th:only-of-type {\n",
       "        vertical-align: middle;\n",
       "    }\n",
       "\n",
       "    .dataframe tbody tr th {\n",
       "        vertical-align: top;\n",
       "    }\n",
       "\n",
       "    .dataframe thead th {\n",
       "        text-align: right;\n",
       "    }\n",
       "</style>\n",
       "<table border=\"1\" class=\"dataframe\">\n",
       "  <thead>\n",
       "    <tr style=\"text-align: right;\">\n",
       "      <th></th>\n",
       "      <th>row_id</th>\n",
       "      <th>microbusiness_density</th>\n",
       "      <th>cfips</th>\n",
       "      <th>month</th>\n",
       "      <th>baseline</th>\n",
       "      <th>smape</th>\n",
       "    </tr>\n",
       "  </thead>\n",
       "  <tbody>\n",
       "    <tr>\n",
       "      <th>1038</th>\n",
       "      <td>21095_2023-01-01</td>\n",
       "      <td>0.687887</td>\n",
       "      <td>21095</td>\n",
       "      <td>2023-01-01</td>\n",
       "      <td>0.688482</td>\n",
       "      <td>0.086558</td>\n",
       "    </tr>\n",
       "    <tr>\n",
       "      <th>1760</th>\n",
       "      <td>32510_2023-01-01</td>\n",
       "      <td>10.424712</td>\n",
       "      <td>32510</td>\n",
       "      <td>2023-01-01</td>\n",
       "      <td>10.433808</td>\n",
       "      <td>0.087216</td>\n",
       "    </tr>\n",
       "    <tr>\n",
       "      <th>1792</th>\n",
       "      <td>35001_2023-01-01</td>\n",
       "      <td>6.231929</td>\n",
       "      <td>35001</td>\n",
       "      <td>2023-01-01</td>\n",
       "      <td>6.226243</td>\n",
       "      <td>0.091281</td>\n",
       "    </tr>\n",
       "    <tr>\n",
       "      <th>1809</th>\n",
       "      <td>35031_2023-01-01</td>\n",
       "      <td>1.143672</td>\n",
       "      <td>35031</td>\n",
       "      <td>2023-01-01</td>\n",
       "      <td>1.142757</td>\n",
       "      <td>0.080019</td>\n",
       "    </tr>\n",
       "    <tr>\n",
       "      <th>2026</th>\n",
       "      <td>38079_2023-01-01</td>\n",
       "      <td>1.854692</td>\n",
       "      <td>38079</td>\n",
       "      <td>2023-01-01</td>\n",
       "      <td>1.852889</td>\n",
       "      <td>0.097253</td>\n",
       "    </tr>\n",
       "    <tr>\n",
       "      <th>2531</th>\n",
       "      <td>48025_2023-01-01</td>\n",
       "      <td>1.164205</td>\n",
       "      <td>48025</td>\n",
       "      <td>2023-01-01</td>\n",
       "      <td>1.163255</td>\n",
       "      <td>0.081714</td>\n",
       "    </tr>\n",
       "    <tr>\n",
       "      <th>2646</th>\n",
       "      <td>48255_2023-01-01</td>\n",
       "      <td>2.936382</td>\n",
       "      <td>48255</td>\n",
       "      <td>2023-01-01</td>\n",
       "      <td>2.933919</td>\n",
       "      <td>0.083914</td>\n",
       "    </tr>\n",
       "    <tr>\n",
       "      <th>2751</th>\n",
       "      <td>48465_2023-01-01</td>\n",
       "      <td>1.951516</td>\n",
       "      <td>48465</td>\n",
       "      <td>2023-01-01</td>\n",
       "      <td>1.953301</td>\n",
       "      <td>0.091414</td>\n",
       "    </tr>\n",
       "  </tbody>\n",
       "</table>\n",
       "</div>"
      ],
      "text/plain": [
       "                row_id  microbusiness_density  cfips       month   baseline  \\\n",
       "1038  21095_2023-01-01               0.687887  21095  2023-01-01   0.688482   \n",
       "1760  32510_2023-01-01              10.424712  32510  2023-01-01  10.433808   \n",
       "1792  35001_2023-01-01               6.231929  35001  2023-01-01   6.226243   \n",
       "1809  35031_2023-01-01               1.143672  35031  2023-01-01   1.142757   \n",
       "2026  38079_2023-01-01               1.854692  38079  2023-01-01   1.852889   \n",
       "2531  48025_2023-01-01               1.164205  48025  2023-01-01   1.163255   \n",
       "2646  48255_2023-01-01               2.936382  48255  2023-01-01   2.933919   \n",
       "2751  48465_2023-01-01               1.951516  48465  2023-01-01   1.953301   \n",
       "\n",
       "         smape  \n",
       "1038  0.086558  \n",
       "1760  0.087216  \n",
       "1792  0.091281  \n",
       "1809  0.080019  \n",
       "2026  0.097253  \n",
       "2531  0.081714  \n",
       "2646  0.083914  \n",
       "2751  0.091414  "
      ]
     },
     "execution_count": 578,
     "metadata": {},
     "output_type": "execute_result"
    }
   ],
   "source": [
    "df_merged[df_merged['smape']>=0.08]"
   ]
  },
  {
   "cell_type": "code",
   "execution_count": 579,
   "id": "705dee72",
   "metadata": {},
   "outputs": [
    {
     "data": {
      "text/plain": [
       "0.01261112205424169"
      ]
     },
     "execution_count": 579,
     "metadata": {},
     "output_type": "execute_result"
    }
   ],
   "source": [
    "df_merged['smape'].mean()"
   ]
  }
 ],
 "metadata": {
  "kernelspec": {
   "display_name": "Python 3 (ipykernel)",
   "language": "python",
   "name": "python3"
  },
  "language_info": {
   "codemirror_mode": {
    "name": "ipython",
    "version": 3
   },
   "file_extension": ".py",
   "mimetype": "text/x-python",
   "name": "python",
   "nbconvert_exporter": "python",
   "pygments_lexer": "ipython3",
   "version": "3.7.12"
  }
 },
 "nbformat": 4,
 "nbformat_minor": 5
}
