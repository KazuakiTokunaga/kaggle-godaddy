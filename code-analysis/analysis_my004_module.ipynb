{
 "cells": [
  {
   "cell_type": "code",
   "execution_count": 1,
   "id": "97936a91",
   "metadata": {},
   "outputs": [],
   "source": [
    "import numpy as np\n",
    "import pandas as pd\n",
    "import pickle"
   ]
  },
  {
   "cell_type": "code",
   "execution_count": 2,
   "id": "03f6a762",
   "metadata": {},
   "outputs": [
    {
     "data": {
      "text/html": [
       "<style type='text/css'>\n",
       ".datatable table.frame { margin-bottom: 0; }\n",
       ".datatable table.frame thead { border-bottom: none; }\n",
       ".datatable table.frame tr.coltypes td {  color: #FFFFFF;  line-height: 6px;  padding: 0 0.5em;}\n",
       ".datatable .bool    { background: #DDDD99; }\n",
       ".datatable .object  { background: #565656; }\n",
       ".datatable .int     { background: #5D9E5D; }\n",
       ".datatable .float   { background: #4040CC; }\n",
       ".datatable .str     { background: #CC4040; }\n",
       ".datatable .time    { background: #40CC40; }\n",
       ".datatable .row_index {  background: var(--jp-border-color3);  border-right: 1px solid var(--jp-border-color0);  color: var(--jp-ui-font-color3);  font-size: 9px;}\n",
       ".datatable .frame tbody td { text-align: left; }\n",
       ".datatable .frame tr.coltypes .row_index {  background: var(--jp-border-color0);}\n",
       ".datatable th:nth-child(2) { padding-left: 12px; }\n",
       ".datatable .hellipsis {  color: var(--jp-cell-editor-border-color);}\n",
       ".datatable .vellipsis {  background: var(--jp-layout-color0);  color: var(--jp-cell-editor-border-color);}\n",
       ".datatable .na {  color: var(--jp-cell-editor-border-color);  font-size: 80%;}\n",
       ".datatable .sp {  opacity: 0.25;}\n",
       ".datatable .footer { font-size: 9px; }\n",
       ".datatable .frame_dimensions {  background: var(--jp-border-color3);  border-top: 1px solid var(--jp-border-color0);  color: var(--jp-ui-font-color3);  display: inline-block;  opacity: 0.6;  padding: 1px 10px 1px 5px;}\n",
       "</style>\n"
      ],
      "text/plain": [
       "<IPython.core.display.HTML object>"
      ]
     },
     "metadata": {},
     "output_type": "display_data"
    }
   ],
   "source": [
    "# Import my modules.\n",
    "import sys, os\n",
    "from pathlib import Path\n",
    "current_dir = os.path.join(Path().resolve())\n",
    "sys.path.append(str(current_dir) + '/../')\n",
    "\n",
    "from modules import utils\n",
    "from modules import models\n",
    "from modules import preprocess\n",
    "\n",
    "import importlib\n",
    "for m in [utils, models, preprocess]:\n",
    "    importlib.reload(m)"
   ]
  },
  {
   "cell_type": "code",
   "execution_count": 3,
   "id": "946860d8",
   "metadata": {},
   "outputs": [],
   "source": [
    "pd.set_option('display.max_rows', 300)\n",
    "pd.set_option('display.max_columns', 150)"
   ]
  },
  {
   "cell_type": "code",
   "execution_count": 7,
   "id": "92d2a437",
   "metadata": {
    "scrolled": true
   },
   "outputs": [],
   "source": [
    "mbd = 'microbusiness_density'\n",
    "\n",
    "df_train, df_test, df_subm = utils.load_dataset(subm='../submission/submission_13732_trend.csv')\n",
    "df_all, df_census = utils.merge_dataset(df_train, df_test, pop=False, unemploy=False, census=False, co_est=False, coord=False, \n",
    "                                        fix_pop=False, merge41=True, df_subm=df_subm)"
   ]
  },
  {
   "cell_type": "code",
   "execution_count": 5,
   "id": "420aee5d",
   "metadata": {},
   "outputs": [],
   "source": [
    "params={\n",
    "        \"act_thre\": 140,\n",
    "        \"abs_thre\": 0,\n",
    "        \"USE_LAG\": 8,\n",
    "        \"USE_TREND\": False,\n",
    "        \"blacklist\": [],\n",
    "        \"blacklistcfips\": [],\n",
    "        \"clip\": (-0.0044, 0.0046),\n",
    "        \"model\": 'lgb',\n",
    "        \"max_window\": 12,\n",
    "        \"light\": True,\n",
    "        \"start_max_scale\": 41,\n",
    "        \"start_all_dict\": 35,\n",
    "        \"smooth_method\": 'v3',\n",
    "        \"save_output_dic\": True\n",
    "    }\n",
    "trend_params = {\n",
    "        \"high_trend_params\": {\n",
    "            1: {\n",
    "                'params':{\n",
    "                    'n':3,\n",
    "                    'thre':3,\n",
    "                    'thre_r':0,\n",
    "                    'lower_bound': 15000,\n",
    "                    'upper_bound': 999999,\n",
    "                    'use_regularize': True,\n",
    "                    'v_regularize': [0.01, 0.008],\n",
    "                    'v_clip':[0.999, 1.004]\n",
    "                },\n",
    "                'method': 'mean'\n",
    "            },\n",
    "            2: {\n",
    "                'params':{\n",
    "                    'n':4,\n",
    "                    'thre':4,\n",
    "                    'thre_r':0,\n",
    "                    'lower_bound': 15000,\n",
    "                    'upper_bound': 999999,\n",
    "                    'use_regularize': True,\n",
    "                    'v_regularize': [0.01, 0.008],\n",
    "                    'v_clip':[0.999, 1.004]\n",
    "                },\n",
    "                'method': 'mean'\n",
    "            },\n",
    "            3: {\n",
    "                'params':{\n",
    "                    'n':5,\n",
    "                    'thre':5,\n",
    "                    'thre_r':0,\n",
    "                    'lower_bound': 15000,\n",
    "                    'upper_bound': 999999,\n",
    "                    'use_regularize': True,\n",
    "                    'v_regularize': [0.01, 0.008],\n",
    "                    'v_clip':[0.999, 1.004]\n",
    "                },\n",
    "                'method': 'mean'\n",
    "            }\n",
    "        },\n",
    "        \"low_trend_params\": {\n",
    "            1: {\n",
    "                'params':{\n",
    "                    'n':3,\n",
    "                    'thre':3,\n",
    "                    'thre_r':0,\n",
    "                    'lower_bound': 60,\n",
    "                    'upper_bound': 140,\n",
    "                    'use_regularize': True,\n",
    "                    'v_regularize': [0.03, 0.02],\n",
    "                    'v_clip':[0.999, 1.004]\n",
    "                },\n",
    "                'method': 'replace'\n",
    "            },\n",
    "            2: {\n",
    "                'params':{\n",
    "                    'n':4,\n",
    "                    'thre':4,\n",
    "                    'thre_r':0,\n",
    "                    'lower_bound': 60,\n",
    "                    'upper_bound': 140,\n",
    "                    'use_regularize': True,\n",
    "                    'v_regularize': [0.03, 0.02],\n",
    "                    'v_clip':[0.999, 1.004]\n",
    "                },\n",
    "                'method': 'replace'\n",
    "            },\n",
    "            3: {\n",
    "                'params':{\n",
    "                    'n':5,\n",
    "                    'thre':5,\n",
    "                    'thre_r':0,\n",
    "                    'lower_bound': 60,\n",
    "                    'upper_bound': 140,\n",
    "                    'use_regularize': True,\n",
    "                    'v_regularize': [0.03, 0.02],\n",
    "                    'v_clip':[0.999, 1.004]\n",
    "                },\n",
    "                'method': 'replace'\n",
    "            }\n",
    "        }\n",
    "}"
   ]
  },
  {
   "cell_type": "markdown",
   "id": "e82ceddf",
   "metadata": {},
   "source": [
    "## バリデーション"
   ]
  },
  {
   "cell_type": "markdown",
   "id": "1da156f4",
   "metadata": {},
   "source": [
    "### 前の予測結果を用いて予測していく"
   ]
  },
  {
   "cell_type": "code",
   "execution_count": 8,
   "id": "23fe18b5",
   "metadata": {
    "scrolled": true
   },
   "outputs": [
    {
     "name": "stdout",
     "output_type": "stream",
     "text": [
      "create df_all_dict[35] and df_all_dict_original[35]\n",
      "add lag features: max_scale=35\n",
      "smooth_outlier: max_scale=35\n",
      "used method: v3\n",
      "# of fixed cfips: 1159\n",
      "# of fixed value: 2167\n",
      "create df_all_dict[36] and df_all_dict_original[36]\n",
      "add lag features: max_scale=36\n",
      "smooth_outlier: max_scale=36\n",
      "used method: v3\n",
      "# of fixed cfips: 1159\n",
      "# of fixed value: 2181\n",
      "create df_all_dict[37] and df_all_dict_original[37]\n",
      "add lag features: max_scale=37\n",
      "smooth_outlier: max_scale=37\n",
      "used method: v3\n",
      "# of fixed cfips: 1168\n",
      "# of fixed value: 2234\n",
      "create df_all_dict[38] and df_all_dict_original[38]\n",
      "add lag features: max_scale=38\n",
      "smooth_outlier: max_scale=38\n",
      "used method: v3\n",
      "# of fixed cfips: 1186\n",
      "# of fixed value: 2278\n",
      "create df_all_dict[39] and df_all_dict_original[39]\n",
      "add lag features: max_scale=39\n",
      "smooth_outlier: max_scale=39\n",
      "used method: v3\n",
      "# of fixed cfips: 1189\n",
      "# of fixed value: 2321\n",
      "create df_all_dict[40] and df_all_dict_original[40]\n",
      "add lag features: max_scale=40\n",
      "smooth_outlier: max_scale=40\n",
      "used method: v3\n",
      "# of fixed cfips: 1195\n",
      "# of fixed value: 2358\n",
      "create df_all_dict[41] and df_all_dict_original[41]\n",
      "add lag features: max_scale=41\n",
      "smooth_outlier: max_scale=41\n",
      "used method: v3\n",
      "# of fixed cfips: 1200\n",
      "# of fixed value: 2389\n",
      "valid_times:  40\n",
      "pred_m:  1\n",
      "train_times:  39\n",
      "use df_all_dict[39]\n",
      "['scale', 'state_i', 'select_rate1_lag1', 'select_rate1_lag2', 'select_rate1_lag3', 'select_rate1_lag4', 'select_rate1_lag5', 'select_rate1_lag6', 'select_rate1_lag7', 'select_rate1_lag8', 'select_rate1_rsum2', 'select_rate1_rsum4', 'select_rate1_rsum6', 'select_rate1_rsum8', 'select_rate1_rsum10', 'select_rate1_rsum12', 'select_active_lag1_diff1', 'select_active_lag1_diff2', 'select_active_lag1_diff3', 'select_active_lag1_diff4', 'select_active_lag1_diff5', 'select_active_lag1_diff6', 'select_active_lag1_diff7', 'select_active_lag1_diff8']\n",
      "use lgb.\n",
      "[LightGBM] [Warning] lambda_l2 is set=0.5, reg_lambda=0.0 will be ignored. Current value: lambda_l2=0.5\n",
      "[LightGBM] [Warning] min_data_in_leaf is set=213, min_child_samples=20 will be ignored. Current value: min_data_in_leaf=213\n",
      "[LightGBM] [Warning] seed is set=42, random_state=42 will be ignored. Current value: seed=42\n",
      "[LightGBM] [Warning] num_iterations is set=30, n_iter=30 will be ignored. Current value: num_iterations=30\n"
     ]
    },
    {
     "name": "stderr",
     "output_type": "stream",
     "text": [
      "/opt/conda/lib/python3.7/site-packages/lightgbm/engine.py:177: UserWarning: Found `n_iter` in params. Will use it instead of argument\n",
      "  _log_warning(f\"Found `{alias}` in params. Will use it instead of argument\")\n"
     ]
    },
    {
     "name": "stdout",
     "output_type": "stream",
     "text": [
      "valid_times:  39\n",
      "pred_m:  1\n",
      "train_times:  38\n",
      "use df_all_dict[38]\n",
      "use lgb.\n",
      "[LightGBM] [Warning] lambda_l2 is set=0.5, reg_lambda=0.0 will be ignored. Current value: lambda_l2=0.5\n",
      "[LightGBM] [Warning] min_data_in_leaf is set=213, min_child_samples=20 will be ignored. Current value: min_data_in_leaf=213\n",
      "[LightGBM] [Warning] seed is set=42, random_state=42 will be ignored. Current value: seed=42\n",
      "[LightGBM] [Warning] num_iterations is set=30, n_iter=30 will be ignored. Current value: num_iterations=30\n",
      "valid_times:  38\n",
      "pred_m:  1\n",
      "train_times:  37\n",
      "use df_all_dict[37]\n",
      "use lgb.\n",
      "[LightGBM] [Warning] lambda_l2 is set=0.5, reg_lambda=0.0 will be ignored. Current value: lambda_l2=0.5\n",
      "[LightGBM] [Warning] min_data_in_leaf is set=213, min_child_samples=20 will be ignored. Current value: min_data_in_leaf=213\n",
      "[LightGBM] [Warning] seed is set=42, random_state=42 will be ignored. Current value: seed=42\n",
      "[LightGBM] [Warning] num_iterations is set=30, n_iter=30 will be ignored. Current value: num_iterations=30\n",
      "valid_times:  37\n",
      "pred_m:  1\n",
      "train_times:  36\n",
      "use df_all_dict[36]\n",
      "use lgb.\n",
      "[LightGBM] [Warning] lambda_l2 is set=0.5, reg_lambda=0.0 will be ignored. Current value: lambda_l2=0.5\n",
      "[LightGBM] [Warning] min_data_in_leaf is set=213, min_child_samples=20 will be ignored. Current value: min_data_in_leaf=213\n",
      "[LightGBM] [Warning] seed is set=42, random_state=42 will be ignored. Current value: seed=42\n",
      "[LightGBM] [Warning] num_iterations is set=30, n_iter=30 will be ignored. Current value: num_iterations=30\n",
      "valid_times:  36\n",
      "pred_m:  1\n",
      "train_times:  35\n",
      "use df_all_dict[35]\n",
      "use lgb.\n",
      "[LightGBM] [Warning] lambda_l2 is set=0.5, reg_lambda=0.0 will be ignored. Current value: lambda_l2=0.5\n",
      "[LightGBM] [Warning] min_data_in_leaf is set=213, min_child_samples=20 will be ignored. Current value: min_data_in_leaf=213\n",
      "[LightGBM] [Warning] seed is set=42, random_state=42 will be ignored. Current value: seed=42\n",
      "[LightGBM] [Warning] num_iterations is set=30, n_iter=30 will be ignored. Current value: num_iterations=30\n",
      "saved output_dic[1].\n",
      "saved params_accum_2023-03-06_21:58:08.pickle\n",
      "saved output/params_accum_2023-03-06_21:58:08.csv\n"
     ]
    }
   ],
   "source": [
    "accum_pred = models.LgbmBaseline('params_accum',df_subm, df_all, df_census, params=params)\n",
    "accum_pred.accum_validation(m_len=2, max_pred_m=1)"
   ]
  },
  {
   "cell_type": "markdown",
   "id": "44e52cee",
   "metadata": {},
   "source": [
    "## Submissionの作成"
   ]
  },
  {
   "cell_type": "markdown",
   "id": "96fdc219",
   "metadata": {},
   "source": [
    "### 予測結果を活用して予測"
   ]
  },
  {
   "cell_type": "code",
   "execution_count": 23,
   "id": "af23fc16",
   "metadata": {
    "scrolled": true
   },
   "outputs": [
    {
     "name": "stdout",
     "output_type": "stream",
     "text": [
      "add lag features: max_scale=40\n",
      "created df_all_dict[40]\n",
      "add lag features: max_scale=41\n",
      "created df_all_dict[41]\n",
      "valid_times:  42\n",
      "pred_m:  1\n",
      "train_times:  41\n",
      "use df_all_dict[41]\n",
      "['scale', 'state_i', 'select_rate1_lag1', 'select_rate1_lag2', 'select_rate1_lag3', 'select_rate1_lag4', 'select_rate1_lag5', 'select_rate1_lag6', 'select_rate1_lag7', 'select_rate1_rsum2', 'select_rate1_rsum4', 'select_rate1_rsum6', 'select_rate1_rsum8', 'select_rate1_rsum10', 'select_rate1_rsum12', 'select_active_lag1_diff1', 'select_active_lag1_diff2', 'select_active_lag1_diff3', 'select_active_lag1_diff4', 'select_active_lag1_diff5', 'select_active_lag1_diff6', 'select_active_lag1_diff7']\n",
      "use lgb.\n",
      "[LightGBM] [Warning] lambda_l2 is set=0.5, reg_lambda=0.0 will be ignored. Current value: lambda_l2=0.5\n",
      "[LightGBM] [Warning] min_data_in_leaf is set=213, min_child_samples=20 will be ignored. Current value: min_data_in_leaf=213\n",
      "[LightGBM] [Warning] seed is set=42, random_state=42 will be ignored. Current value: seed=42\n",
      "[LightGBM] [Warning] num_iterations is set=30, n_iter=30 will be ignored. Current value: num_iterations=30\n",
      "saved output_dic[1].\n",
      "create df_all_dict[42].\n",
      "add lag features: max_scale=42\n",
      "success in updating df_all_dict\n",
      "valid_times:  43\n",
      "pred_m:  1\n",
      "train_times:  42\n",
      "use df_all_dict[42]\n",
      "use lgb.\n",
      "[LightGBM] [Warning] lambda_l2 is set=0.5, reg_lambda=0.0 will be ignored. Current value: lambda_l2=0.5\n",
      "[LightGBM] [Warning] min_data_in_leaf is set=213, min_child_samples=20 will be ignored. Current value: min_data_in_leaf=213\n",
      "[LightGBM] [Warning] seed is set=42, random_state=42 will be ignored. Current value: seed=42\n",
      "[LightGBM] [Warning] num_iterations is set=30, n_iter=30 will be ignored. Current value: num_iterations=30\n",
      "saved output_dic[2].\n"
     ]
    }
   ],
   "source": [
    "test_subm = models.LgbmBaseline('test_subm_accum', df_subm, df_all, df_census, start_all_dict=40, params=params)\n",
    "test_subm.create_submission(target_scale=[42, 43], save=False)"
   ]
  },
  {
   "cell_type": "code",
   "execution_count": 24,
   "id": "632bb122",
   "metadata": {},
   "outputs": [],
   "source": [
    "df_submission =test_subm.df_submission\n",
    "df_merged = utils.compare_submission(df_subm, 'submission_13818_trend')"
   ]
  },
  {
   "cell_type": "code",
   "execution_count": null,
   "id": "b8bf0fd9",
   "metadata": {},
   "outputs": [],
   "source": [
    "# ensemble\n",
    "0.01261112205424169\n",
    "\n",
    "# trend_multi有り\n",
    "0.03200090765098272"
   ]
  },
  {
   "cell_type": "code",
   "execution_count": null,
   "id": "f54949ca",
   "metadata": {},
   "outputs": [],
   "source": []
  }
 ],
 "metadata": {
  "kernelspec": {
   "display_name": "Python 3 (ipykernel)",
   "language": "python",
   "name": "python3"
  },
  "language_info": {
   "codemirror_mode": {
    "name": "ipython",
    "version": 3
   },
   "file_extension": ".py",
   "mimetype": "text/x-python",
   "name": "python",
   "nbconvert_exporter": "python",
   "pygments_lexer": "ipython3",
   "version": "3.7.12"
  }
 },
 "nbformat": 4,
 "nbformat_minor": 5
}
