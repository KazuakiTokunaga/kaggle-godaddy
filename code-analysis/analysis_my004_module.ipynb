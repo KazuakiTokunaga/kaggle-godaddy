{
 "cells": [
  {
   "cell_type": "code",
   "execution_count": 43,
   "id": "97936a91",
   "metadata": {},
   "outputs": [],
   "source": [
    "import numpy as np\n",
    "import pandas as pd\n",
    "import pickle"
   ]
  },
  {
   "cell_type": "code",
   "execution_count": 50,
   "id": "03f6a762",
   "metadata": {},
   "outputs": [],
   "source": [
    "# Import my modules.\n",
    "import sys, os\n",
    "from pathlib import Path\n",
    "current_dir = os.path.join(Path().resolve())\n",
    "sys.path.append(str(current_dir) + '/../')\n",
    "\n",
    "from modules import utils\n",
    "from modules import models\n",
    "from modules import preprocess\n",
    "\n",
    "import importlib\n",
    "for m in [utils, models, preprocess]:\n",
    "    importlib.reload(m)"
   ]
  },
  {
   "cell_type": "code",
   "execution_count": 45,
   "id": "946860d8",
   "metadata": {},
   "outputs": [],
   "source": [
    "pd.set_option('display.max_rows', 300)\n",
    "pd.set_option('display.max_columns', 150)"
   ]
  },
  {
   "cell_type": "code",
   "execution_count": 13,
   "id": "92d2a437",
   "metadata": {
    "scrolled": true
   },
   "outputs": [
    {
     "name": "stdout",
     "output_type": "stream",
     "text": [
      "merge scale=41 of df_submission to df_all.\n"
     ]
    }
   ],
   "source": [
    "mbd = 'microbusiness_density'\n",
    "\n",
    "df_train, df_test, df_subm = utils.load_dataset(subm='../submission/submission_13730_trend.csv')\n",
    "df_all, df_census = utils.merge_dataset(df_train, df_test, unemploy=False, census=True, co_est=False, coord=True, add_location=True, \n",
    "                                        fix_pop=True, merge41=True, df_subm=df_subm)"
   ]
  },
  {
   "cell_type": "code",
   "execution_count": 51,
   "id": "420aee5d",
   "metadata": {},
   "outputs": [],
   "source": [
    "params={\n",
    "        \"act_thre\": 140,\n",
    "        \"abs_thre\": 0,\n",
    "        \"USE_LAG\": 8,\n",
    "        \"USE_TREND\": True,\n",
    "        \"blacklist\": [],\n",
    "        \"blacklistcfips\": [],\n",
    "        \"clip\": (-0.0044, 0.0046),\n",
    "        \"model\": 'lgb',\n",
    "        \"max_window\": 12,\n",
    "        \"start_max_scale\": 41,\n",
    "        \"start_all_dict\": 32,\n",
    "        \"smooth_method\": 'v3',\n",
    "        \"save_output_dic\": True,\n",
    "        \"light\": True,\n",
    "        \"USE_SEASON\": True\n",
    "    }\n",
    "trend_params = {\n",
    "        \"high_trend_params\": {\n",
    "            1: {\n",
    "                'params':{\n",
    "                    'n':3,\n",
    "                    'thre':3,\n",
    "                    'thre_r':0,\n",
    "                    'lower_bound': 20000,\n",
    "                    'upper_bound': 99999999,\n",
    "                    'use_regularize': True,\n",
    "                    'v_regularize': [0.002, 0.001],\n",
    "                    'v_clip':[0.98, 1.01]\n",
    "                },\n",
    "                'method': 'mean'\n",
    "            },\n",
    "            2: {\n",
    "                'params':{\n",
    "                    'n':4,\n",
    "                    'thre':4,\n",
    "                    'thre_r':0.001,\n",
    "                    'lower_bound': 20000,\n",
    "                    'upper_bound': 99999999,\n",
    "                    'use_regularize': True,\n",
    "                    'v_regularize': [0.002, 0.001],\n",
    "                    'v_clip':[0.98, 1.01]\n",
    "                },\n",
    "                'method': 'mean'\n",
    "            },\n",
    "            3: {\n",
    "                'params':{\n",
    "                    'n':5,\n",
    "                    'thre':5,\n",
    "                    'thre_r':0.002,\n",
    "                    'lower_bound': 20000,\n",
    "                    'upper_bound': 99999999,\n",
    "                    'use_regularize': True,\n",
    "                    'v_regularize': [0.002, 0.001],\n",
    "                    'v_clip':[0.98, 1.01]\n",
    "                },\n",
    "                'method': 'mean'\n",
    "            }\n",
    "        },\n",
    "        \"low_trend_params\": {\n",
    "            1: {\n",
    "                'params':{\n",
    "                    'n':5,\n",
    "                    'thre':5,\n",
    "                    'thre_r':0,\n",
    "                    'lower_bound': 2000,\n",
    "                    'upper_bound': 20000,\n",
    "                    'use_regularize': True,\n",
    "                    'v_regularize': [0.002, 0.001],\n",
    "                    'v_clip':[0.98, 1.02]\n",
    "                },\n",
    "                'method': 'mean'\n",
    "            },\n",
    "            2: {\n",
    "                'params':{\n",
    "                    'n':6,\n",
    "                    'thre':6,\n",
    "                    'thre_r':0.001,\n",
    "                    'lower_bound': 2000,\n",
    "                    'upper_bound': 20000,\n",
    "                    'use_regularize': True,\n",
    "                    'v_regularize': [0.002, 0.001],\n",
    "                    'v_clip':[0.98, 1.02]\n",
    "                },\n",
    "                'method': 'mean'\n",
    "            },\n",
    "            3: {\n",
    "                'params':{\n",
    "                    'n':7,\n",
    "                    'thre':7,\n",
    "                    'thre_r':0.002,\n",
    "                    'lower_bound': 2000,\n",
    "                    'upper_bound': 20000,\n",
    "                    'use_regularize': True,\n",
    "                    'v_regularize': [0.002, 0.001],\n",
    "                    'v_clip':[0.98, 1.02]\n",
    "                },\n",
    "                'method': 'mean'\n",
    "            }\n",
    "        }\n",
    "}\n",
    "season_params = {\n",
    "    \"abs_thre\": [-0.006, 0.006],\n",
    "    \"active_thre\": 5000,\n",
    "    \"v_clip\": [-0.01, 0.01],\n",
    "    \"method\": \"trend_mean\"\n",
    "}"
   ]
  },
  {
   "cell_type": "markdown",
   "id": "e82ceddf",
   "metadata": {},
   "source": [
    "## バリデーション"
   ]
  },
  {
   "cell_type": "markdown",
   "id": "1da156f4",
   "metadata": {},
   "source": [
    "### 前の予測結果を用いて予測していく"
   ]
  },
  {
   "cell_type": "code",
   "execution_count": null,
   "id": "23fe18b5",
   "metadata": {
    "scrolled": true
   },
   "outputs": [
    {
     "name": "stdout",
     "output_type": "stream",
     "text": [
      "create df_all_dict[32] and df_all_dict_original[32]\n",
      "add lag features: max_scale=32\n",
      "smooth_outlier: max_scale=32\n",
      "used method: v3\n",
      "# of fixed cfips: 1123\n",
      "# of fixed value: 2015\n"
     ]
    }
   ],
   "source": [
    "accum_pred = models.LgbmBaseline('params_accum',df_subm, df_all, df_census, params=params)\n",
    "accum_pred.accum_validation()"
   ]
  },
  {
   "cell_type": "markdown",
   "id": "44e52cee",
   "metadata": {},
   "source": [
    "## Submissionの作成"
   ]
  },
  {
   "cell_type": "markdown",
   "id": "96fdc219",
   "metadata": {},
   "source": [
    "### 予測結果を活用して予測"
   ]
  },
  {
   "cell_type": "code",
   "execution_count": 38,
   "id": "af23fc16",
   "metadata": {
    "scrolled": true
   },
   "outputs": [
    {
     "name": "stdout",
     "output_type": "stream",
     "text": [
      "create df_all_dict[40] and df_all_dict_original[40]\n",
      "add lag features: max_scale=40\n",
      "smooth_outlier: max_scale=40\n",
      "used method: v3\n",
      "# of fixed cfips: 1189\n",
      "# of fixed value: 2310\n",
      "create df_all_dict[41] and df_all_dict_original[41]\n",
      "add lag features: max_scale=41\n",
      "smooth_outlier: max_scale=41\n",
      "used method: v3\n",
      "# of fixed cfips: 1195\n",
      "# of fixed value: 2343\n",
      "create df_season, max_scale: 40, validate: False\n",
      "valid_times:  42\n",
      "pred_m:  1\n",
      "train_times:  41\n",
      "use df_all_dict[41]\n",
      "['scale', 'state_i', 'pct_bb_2017', 'pct_bb_2018', 'pct_bb_2019', 'pct_bb_2020', 'pct_bb_2021', 'pct_college_2017', 'pct_college_2018', 'pct_college_2019', 'pct_college_2020', 'pct_college_2021', 'pct_foreign_born_2017', 'pct_foreign_born_2018', 'pct_foreign_born_2019', 'pct_foreign_born_2020', 'pct_foreign_born_2021', 'pct_it_workers_2017', 'pct_it_workers_2018', 'pct_it_workers_2019', 'pct_it_workers_2020', 'pct_it_workers_2021', 'median_hh_inc_2017', 'median_hh_inc_2018', 'median_hh_inc_2019', 'median_hh_inc_2020', 'median_hh_inc_2021', 'lng', 'lat', 'rot_15_x', 'rot_15_y', 'rot_30_x', 'rot_30_y', 'rot_45_x', 'rot_45_y', 'select_rate1_lag1', 'select_rate1_lag2', 'select_rate1_lag3', 'select_rate1_lag4', 'select_rate1_lag5', 'select_rate1_lag6', 'select_rate1_lag7', 'select_rate1_lag8', 'select_rate1_rsum2', 'select_rate1_rsum4', 'select_rate1_rsum6', 'select_rate1_rsum8', 'select_rate1_rsum10', 'select_rate1_rsum12', 'select_active_lag1_diff1', 'select_active_lag1_diff2', 'select_active_lag1_diff3', 'select_active_lag1_diff4', 'select_active_lag1_diff5', 'select_active_lag1_diff6', 'select_active_lag1_diff7', 'select_active_lag1_diff8']\n",
      "use lgb.\n",
      "[LightGBM] [Warning] lambda_l2 is set=0.5, reg_lambda=0.0 will be ignored. Current value: lambda_l2=0.5\n",
      "[LightGBM] [Warning] min_data_in_leaf is set=213, min_child_samples=20 will be ignored. Current value: min_data_in_leaf=213\n",
      "[LightGBM] [Warning] seed is set=42, random_state=42 will be ignored. Current value: seed=42\n",
      "[LightGBM] [Warning] num_iterations is set=30, n_iter=30 will be ignored. Current value: num_iterations=30\n",
      "# of cfips that have high trend : 111\n",
      "use method:  mean\n",
      "# of cfips that have low trend : 177\n",
      "use method:  mean\n",
      "use SEASON.\n",
      "# of cfips season affected:  71\n",
      "# of cfips season/trend/model mean:  64\n",
      "saved output_dic[1].\n",
      "create df_all_dict[42] with 1 predicted months from df_all_dict_original[41].\n",
      "insert mbd and mbd_origin of scale: [42]\n",
      "add lag features: max_scale=42\n",
      "success in updating df_all_dict\n",
      "valid_times:  43\n",
      "pred_m:  1\n",
      "train_times:  42\n",
      "use df_all_dict[42]\n",
      "use lgb.\n",
      "[LightGBM] [Warning] lambda_l2 is set=0.5, reg_lambda=0.0 will be ignored. Current value: lambda_l2=0.5\n",
      "[LightGBM] [Warning] min_data_in_leaf is set=213, min_child_samples=20 will be ignored. Current value: min_data_in_leaf=213\n",
      "[LightGBM] [Warning] seed is set=42, random_state=42 will be ignored. Current value: seed=42\n",
      "[LightGBM] [Warning] num_iterations is set=30, n_iter=30 will be ignored. Current value: num_iterations=30\n",
      "# of cfips that have high trend : 57\n",
      "use method:  mean\n",
      "# of cfips that have low trend : 106\n",
      "use method:  mean\n",
      "use SEASON.\n",
      "# of cfips season affected:  140\n",
      "# of cfips season/trend/model mean:  57\n",
      "saved output_dic[2].\n",
      "create df_all_dict[43] with 2 predicted months from df_all_dict_original[41].\n",
      "insert mbd and mbd_origin of scale: [42 43]\n",
      "add lag features: max_scale=43\n",
      "success in updating df_all_dict\n",
      "valid_times:  44\n",
      "pred_m:  1\n",
      "train_times:  43\n",
      "use df_all_dict[43]\n",
      "use lgb.\n",
      "[LightGBM] [Warning] lambda_l2 is set=0.5, reg_lambda=0.0 will be ignored. Current value: lambda_l2=0.5\n",
      "[LightGBM] [Warning] min_data_in_leaf is set=213, min_child_samples=20 will be ignored. Current value: min_data_in_leaf=213\n",
      "[LightGBM] [Warning] seed is set=42, random_state=42 will be ignored. Current value: seed=42\n",
      "[LightGBM] [Warning] num_iterations is set=30, n_iter=30 will be ignored. Current value: num_iterations=30\n",
      "# of cfips that have high trend : 42\n",
      "use method:  mean\n",
      "# of cfips that have low trend : 63\n",
      "use method:  mean\n",
      "use SEASON.\n",
      "# of cfips season affected:  152\n",
      "# of cfips season/trend/model mean:  46\n",
      "saved output_dic[3].\n",
      "create df_all_dict[44] with 3 predicted months from df_all_dict_original[41].\n",
      "insert mbd and mbd_origin of scale: [42 43 44]\n",
      "add lag features: max_scale=44\n",
      "success in updating df_all_dict\n",
      "valid_times:  45\n",
      "pred_m:  1\n",
      "train_times:  44\n",
      "use df_all_dict[44]\n",
      "use lgb.\n",
      "[LightGBM] [Warning] lambda_l2 is set=0.5, reg_lambda=0.0 will be ignored. Current value: lambda_l2=0.5\n",
      "[LightGBM] [Warning] min_data_in_leaf is set=213, min_child_samples=20 will be ignored. Current value: min_data_in_leaf=213\n",
      "[LightGBM] [Warning] seed is set=42, random_state=42 will be ignored. Current value: seed=42\n",
      "[LightGBM] [Warning] num_iterations is set=30, n_iter=30 will be ignored. Current value: num_iterations=30\n",
      "use SEASON.\n",
      "# of cfips season affected:  16\n",
      "# of cfips season/trend/model mean:  0\n",
      "saved output_dic[4].\n"
     ]
    }
   ],
   "source": [
    "test_subm = models.LgbmBaseline('test_subm_accum', df_subm, df_all, df_census, params=params, trend_params=trend_params)\n",
    "test_subm.create_submission(target_scale=[42, 43,44,45], save=False)"
   ]
  },
  {
   "cell_type": "code",
   "execution_count": 9,
   "id": "632bb122",
   "metadata": {},
   "outputs": [
    {
     "data": {
      "text/plain": [
       "0.0"
      ]
     },
     "execution_count": 9,
     "metadata": {},
     "output_type": "execute_result"
    }
   ],
   "source": [
    "df_submission =test_subm.df_submission\n",
    "df_merged = utils.compare_submission(df_subm, 'submission_13730_trend')\n",
    "df_merged['smape'].sum()"
   ]
  },
  {
   "cell_type": "code",
   "execution_count": 8,
   "id": "b8bf0fd9",
   "metadata": {},
   "outputs": [
    {
     "data": {
      "text/plain": [
       "0.03200090765098272"
      ]
     },
     "execution_count": 8,
     "metadata": {},
     "output_type": "execute_result"
    }
   ],
   "source": [
    "# ensemble\n",
    "0.01261112205424169\n",
    "\n",
    "# trend_multi有り\n",
    "0.03200090765098272"
   ]
  },
  {
   "cell_type": "code",
   "execution_count": 24,
   "id": "f54949ca",
   "metadata": {},
   "outputs": [],
   "source": [
    "id1 = (df_all['county']==20)|(df_all['county']==40)\n",
    "id2 = (df_all['scale']==41)&id1"
   ]
  },
  {
   "cell_type": "code",
   "execution_count": 26,
   "id": "9b027152",
   "metadata": {},
   "outputs": [
    {
     "data": {
      "text/plain": [
       "2"
      ]
     },
     "execution_count": 26,
     "metadata": {},
     "output_type": "execute_result"
    }
   ],
   "source": [
    "sum(id2)"
   ]
  },
  {
   "cell_type": "code",
   "execution_count": null,
   "id": "7216e086",
   "metadata": {},
   "outputs": [],
   "source": []
  }
 ],
 "metadata": {
  "kernelspec": {
   "display_name": "Python 3 (ipykernel)",
   "language": "python",
   "name": "python3"
  },
  "language_info": {
   "codemirror_mode": {
    "name": "ipython",
    "version": 3
   },
   "file_extension": ".py",
   "mimetype": "text/x-python",
   "name": "python",
   "nbconvert_exporter": "python",
   "pygments_lexer": "ipython3",
   "version": "3.7.12"
  }
 },
 "nbformat": 4,
 "nbformat_minor": 5
}
