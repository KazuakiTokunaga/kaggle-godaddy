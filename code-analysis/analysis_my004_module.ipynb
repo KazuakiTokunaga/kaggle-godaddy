{
 "cells": [
  {
   "cell_type": "code",
   "execution_count": 26,
   "id": "97936a91",
   "metadata": {},
   "outputs": [],
   "source": [
    "import numpy as np\n",
    "import pandas as pd\n",
    "import pickle"
   ]
  },
  {
   "cell_type": "code",
   "execution_count": 27,
   "id": "03f6a762",
   "metadata": {},
   "outputs": [],
   "source": [
    "# Import my modules.\n",
    "import sys, os\n",
    "from pathlib import Path\n",
    "current_dir = os.path.join(Path().resolve())\n",
    "sys.path.append(str(current_dir) + '/../')\n",
    "\n",
    "from modules import utils\n",
    "from modules import models\n",
    "from modules import preprocess\n",
    "\n",
    "import importlib\n",
    "for m in [utils, models, preprocess]:\n",
    "    importlib.reload(m)"
   ]
  },
  {
   "cell_type": "code",
   "execution_count": 28,
   "id": "946860d8",
   "metadata": {},
   "outputs": [],
   "source": [
    "pd.set_option('display.max_rows', 300)\n",
    "pd.set_option('display.max_columns', 150)"
   ]
  },
  {
   "cell_type": "code",
   "execution_count": 29,
   "id": "92d2a437",
   "metadata": {
    "scrolled": true
   },
   "outputs": [
    {
     "name": "stdout",
     "output_type": "stream",
     "text": [
      "merge scale=41 of df_submission to df_all.\n"
     ]
    }
   ],
   "source": [
    "mbd = 'microbusiness_density'\n",
    "\n",
    "df_train, df_test, df_subm = utils.load_dataset(subm='../submission/submission_13730_trend.csv')\n",
    "df_all, df_census = utils.merge_dataset(df_train, df_test, unemploy=False, census=True, co_est=False, coord=True, add_location=True, \n",
    "                                        fix_pop=True, merge41=True, df_subm=df_subm)"
   ]
  },
  {
   "cell_type": "code",
   "execution_count": 33,
   "id": "420aee5d",
   "metadata": {},
   "outputs": [],
   "source": [
    "params={\n",
    "        \"act_thre\": 140,\n",
    "        \"abs_thre\": 0,\n",
    "        \"USE_LAG\": 8,\n",
    "        \"USE_TREND\": True,\n",
    "        \"USE_SHORT_TREND\": True,\n",
    "        \"USE_SEASON\": True,\n",
    "        \"blacklist\": [],\n",
    "        \"blacklistcfips\": [],\n",
    "        \"clip\": (-0.0044, 0.0046),\n",
    "        \"model\": 'lgb',\n",
    "        \"max_window\": 12,\n",
    "        \"start_max_scale\": 41,\n",
    "        \"start_all_dict\": 32,\n",
    "        \"smooth_method\": 'v3',\n",
    "        \"save_output_dic\": True,\n",
    "        \"light\": True,\n",
    "    }\n",
    "trend_params = {\n",
    "        \"high_trend_params\": {\n",
    "            1: {\n",
    "                'params':{\n",
    "                    'n':12,\n",
    "                    'thre':10,\n",
    "                    'thre_r':0,\n",
    "                    'lower_bound': 10000,\n",
    "                    'upper_bound': 99999999,\n",
    "                    'use_regularize': True,\n",
    "                    'v_regularize': [0.001, 0],\n",
    "                    'trend_clip': [0.95, 1.05],\n",
    "                    'v_clip':[0.98, 1.02],\n",
    "\n",
    "                },\n",
    "                'method': 'mean'\n",
    "            },\n",
    "            2: {\n",
    "                'params':{\n",
    "                    'n':13,\n",
    "                    'thre':11,\n",
    "                    'thre_r':0.001,\n",
    "                    'lower_bound': 10000,\n",
    "                    'upper_bound': 99999999,\n",
    "                    'use_regularize': True,\n",
    "                    'v_regularize': [0.002, 0.001],\n",
    "                    'trend_clip': [0.95, 1.05],\n",
    "                    'v_clip':[0.99, 1.01]\n",
    "                },\n",
    "                'method': 'mean'\n",
    "            },\n",
    "            3: {\n",
    "                'params':{\n",
    "                    'n':14,\n",
    "                    'thre':12,\n",
    "                    'thre_r':0.002,\n",
    "                    'lower_bound': 10000,\n",
    "                    'upper_bound': 99999999,\n",
    "                    'use_regularize': True,\n",
    "                    'v_regularize': [0.004, 0.003],\n",
    "                    'trend_clip': [0.95, 1.05],\n",
    "                    'v_clip':[0.995, 1.005]\n",
    "                },\n",
    "                'method': 'mean'\n",
    "            },\n",
    "            4: {\n",
    "                'params':{\n",
    "                    'n':15,\n",
    "                    'thre':13,\n",
    "                    'thre_r':0.003,\n",
    "                    'lower_bound': 10000,\n",
    "                    'upper_bound': 99999999,\n",
    "                    'use_regularize': True,\n",
    "                    'v_regularize': [0.008, 0.005],\n",
    "                    'trend_clip': [0.95, 1.05],\n",
    "                    'v_clip':[0.995, 1.005]\n",
    "                },\n",
    "                'method': 'mean'\n",
    "            }\n",
    "        },\n",
    "        \"low_trend_params\": {\n",
    "            1: {\n",
    "                'params':{\n",
    "                    'n':8,\n",
    "                    'thre':7,\n",
    "                    'thre_r':0,\n",
    "                    'lower_bound': 2000,\n",
    "                    'upper_bound': 10000,\n",
    "                    'use_regularize': True,\n",
    "                    'v_regularize': [0.001, 0],\n",
    "                    'trend_clip': [0.95, 1.05],\n",
    "                    'v_clip':[0.98, 1.02]\n",
    "                },\n",
    "                'method': 'mean'\n",
    "            },\n",
    "            2: {\n",
    "                'params':{\n",
    "                    'n':9,\n",
    "                    'thre':8,\n",
    "                    'thre_r':0.001,\n",
    "                    'lower_bound': 2000,\n",
    "                    'upper_bound': 10000,\n",
    "                    'use_regularize': True,\n",
    "                    'v_regularize': [0.002, 0.001],\n",
    "                    'trend_clip': [0.95, 1.05],\n",
    "                    'v_clip':[0.99, 1.01]\n",
    "                },\n",
    "                'method': 'mean'\n",
    "            },\n",
    "            3: {\n",
    "                'params':{\n",
    "                    'n':10,\n",
    "                    'thre':9,\n",
    "                    'thre_r':0.002,\n",
    "                    'lower_bound': 2000,\n",
    "                    'upper_bound': 10000,\n",
    "                    'use_regularize': True,\n",
    "                    'v_regularize': [0.004, 0.003],\n",
    "                    'trend_clip': [0.95, 1.05],\n",
    "                    'v_clip':[0.995, 1.005]\n",
    "                },\n",
    "                'method': 'mean'\n",
    "            },\n",
    "            4: {\n",
    "                'params':{\n",
    "                    'n':11,\n",
    "                    'thre':10,\n",
    "                    'thre_r':0.003,\n",
    "                    'lower_bound': 2000,\n",
    "                    'upper_bound': 10000,\n",
    "                    'use_regularize': True,\n",
    "                    'v_regularize': [0.008, 0.005],\n",
    "                    'trend_clip': [0.95, 1.05],\n",
    "                    'v_clip':[0.995, 1.005]\n",
    "                },\n",
    "                'method': 'mean'\n",
    "            }\n",
    "        },\n",
    "        \"short_trend_params\": {\n",
    "            1: {\n",
    "                'params':{\n",
    "                    'n':4,\n",
    "                    'thre':4,\n",
    "                    'thre_r':0.003,\n",
    "                    'lower_bound': 2000,\n",
    "                    'upper_bound': 99999999,\n",
    "                    'use_regularize': True,\n",
    "                    'v_regularize': [0.002, 0.001],\n",
    "                    'trend_clip': [0.95, 1.05],\n",
    "                    'v_clip':[0.98, 1.02]\n",
    "                },\n",
    "                'method': 'mix'\n",
    "            },\n",
    "            2: {\n",
    "                'params':{\n",
    "                    'n':5,\n",
    "                    'thre':5,\n",
    "                    'thre_r':0.005,\n",
    "                    'lower_bound': 2000,\n",
    "                    'upper_bound': 99999999,\n",
    "                    'use_regularize': True,\n",
    "                    'v_regularize': [0.002, 0.001],\n",
    "                    'trend_clip': [0.95, 1.05],\n",
    "                    'v_clip':[0.99, 1.01]\n",
    "                },\n",
    "                'method': ''\n",
    "            },\n",
    "            3: {\n",
    "                'params':{\n",
    "                    'n':6,\n",
    "                    'thre':6,\n",
    "                    'thre_r':0.006,\n",
    "                    'lower_bound': 2000,\n",
    "                    'upper_bound': 99999999,\n",
    "                    'use_regularize': True,\n",
    "                    'v_regularize': [0.01, 0.01],\n",
    "                    'trend_clip': [0.95, 1.05],\n",
    "                    'v_clip':[0.995, 1.005]\n",
    "                },\n",
    "                'method': ''\n",
    "            },\n",
    "            4: {\n",
    "                'params':{\n",
    "                    'n':7,\n",
    "                    'thre':7,\n",
    "                    'thre_r':0.007,\n",
    "                    'lower_bound': 2000,\n",
    "                    'upper_bound': 99999999,\n",
    "                    'use_regularize': True,\n",
    "                    'v_regularize': [0.02, 0.02],\n",
    "                    'trend_clip': [0.95, 1.05],\n",
    "                    'v_clip':[0.995, 1.005]\n",
    "                },\n",
    "                'method': ''\n",
    "            }\n",
    "        }\n",
    "}\n",
    "season_params = {\n",
    "    \"abs_thre\": [-0.006, 0.006],\n",
    "    \"active_thre\": 2000,\n",
    "    \"v_clip\": [-0.01, 0.01],\n",
    "    \"method\": \"trend_mean\"\n",
    "}"
   ]
  },
  {
   "cell_type": "markdown",
   "id": "e82ceddf",
   "metadata": {},
   "source": [
    "## バリデーション"
   ]
  },
  {
   "cell_type": "markdown",
   "id": "1da156f4",
   "metadata": {},
   "source": [
    "### 前の予測結果を用いて予測していく"
   ]
  },
  {
   "cell_type": "code",
   "execution_count": 24,
   "id": "23fe18b5",
   "metadata": {
    "scrolled": true
   },
   "outputs": [
    {
     "name": "stdout",
     "output_type": "stream",
     "text": [
      "create df_all_dict[32] and df_all_dict_original[32]\n",
      "add lag features: max_scale=32\n",
      "smooth_outlier: max_scale=32\n",
      "used method: v3\n",
      "# of fixed cfips: 1123\n",
      "# of fixed value: 2015\n",
      "create df_all_dict[33] and df_all_dict_original[33]\n",
      "add lag features: max_scale=33\n",
      "smooth_outlier: max_scale=33\n",
      "used method: v3\n",
      "# of fixed cfips: 1132\n",
      "# of fixed value: 2041\n",
      "create df_all_dict[34] and df_all_dict_original[34]\n",
      "add lag features: max_scale=34\n",
      "smooth_outlier: max_scale=34\n",
      "used method: v3\n",
      "# of fixed cfips: 1140\n",
      "# of fixed value: 2081\n",
      "create df_all_dict[35] and df_all_dict_original[35]\n",
      "add lag features: max_scale=35\n",
      "smooth_outlier: max_scale=35\n",
      "used method: v3\n",
      "# of fixed cfips: 1152\n",
      "# of fixed value: 2114\n",
      "create df_all_dict[36] and df_all_dict_original[36]\n",
      "add lag features: max_scale=36\n",
      "smooth_outlier: max_scale=36\n",
      "used method: v3\n",
      "# of fixed cfips: 1152\n",
      "# of fixed value: 2128\n",
      "create df_all_dict[37] and df_all_dict_original[37]\n",
      "add lag features: max_scale=37\n",
      "smooth_outlier: max_scale=37\n",
      "used method: v3\n",
      "# of fixed cfips: 1161\n",
      "# of fixed value: 2182\n",
      "create df_all_dict[38] and df_all_dict_original[38]\n",
      "add lag features: max_scale=38\n",
      "smooth_outlier: max_scale=38\n",
      "used method: v3\n",
      "# of fixed cfips: 1178\n",
      "# of fixed value: 2232\n",
      "create df_all_dict[39] and df_all_dict_original[39]\n",
      "add lag features: max_scale=39\n",
      "smooth_outlier: max_scale=39\n",
      "used method: v3\n",
      "# of fixed cfips: 1182\n",
      "# of fixed value: 2271\n",
      "create df_all_dict[40] and df_all_dict_original[40]\n",
      "add lag features: max_scale=40\n",
      "smooth_outlier: max_scale=40\n",
      "used method: v3\n",
      "# of fixed cfips: 1189\n",
      "# of fixed value: 2310\n",
      "create df_all_dict[41] and df_all_dict_original[41]\n",
      "add lag features: max_scale=41\n",
      "smooth_outlier: max_scale=41\n",
      "used method: v3\n",
      "# of fixed cfips: 1195\n",
      "# of fixed value: 2343\n",
      "create df_season, max_scale: 32, validate: True\n",
      "valid_times:  40\n",
      "pred_m:  1\n",
      "train_times:  39\n",
      "use df_all_dict[39]\n",
      "['scale', 'state_i', 'pct_bb_2017', 'pct_bb_2018', 'pct_bb_2019', 'pct_bb_2020', 'pct_bb_2021', 'pct_college_2017', 'pct_college_2018', 'pct_college_2019', 'pct_college_2020', 'pct_college_2021', 'pct_foreign_born_2017', 'pct_foreign_born_2018', 'pct_foreign_born_2019', 'pct_foreign_born_2020', 'pct_foreign_born_2021', 'pct_it_workers_2017', 'pct_it_workers_2018', 'pct_it_workers_2019', 'pct_it_workers_2020', 'pct_it_workers_2021', 'median_hh_inc_2017', 'median_hh_inc_2018', 'median_hh_inc_2019', 'median_hh_inc_2020', 'median_hh_inc_2021', 'lng', 'lat', 'rot_15_x', 'rot_15_y', 'rot_30_x', 'rot_30_y', 'rot_45_x', 'rot_45_y', 'select_rate1_lag1', 'select_rate1_lag2', 'select_rate1_lag3', 'select_rate1_lag4', 'select_rate1_lag5', 'select_rate1_lag6', 'select_rate1_lag7', 'select_rate1_lag8', 'select_rate1_rsum2', 'select_rate1_rsum4', 'select_rate1_rsum6', 'select_rate1_rsum8', 'select_rate1_rsum10', 'select_rate1_rsum12', 'select_active_lag1_diff1', 'select_active_lag1_diff2', 'select_active_lag1_diff3', 'select_active_lag1_diff4', 'select_active_lag1_diff5', 'select_active_lag1_diff6', 'select_active_lag1_diff7', 'select_active_lag1_diff8']\n",
      "use lgb.\n",
      "[LightGBM] [Warning] lambda_l2 is set=0.5, reg_lambda=0.0 will be ignored. Current value: lambda_l2=0.5\n",
      "[LightGBM] [Warning] min_data_in_leaf is set=213, min_child_samples=20 will be ignored. Current value: min_data_in_leaf=213\n",
      "[LightGBM] [Warning] seed is set=42, random_state=42 will be ignored. Current value: seed=42\n",
      "[LightGBM] [Warning] num_iterations is set=30, n_iter=30 will be ignored. Current value: num_iterations=30\n"
     ]
    },
    {
     "name": "stderr",
     "output_type": "stream",
     "text": [
      "/opt/conda/lib/python3.7/site-packages/pandas/core/generic.py:7246: SettingWithCopyWarning: \n",
      "A value is trying to be set on a copy of a slice from a DataFrame\n",
      "\n",
      "See the caveats in the documentation: https://pandas.pydata.org/pandas-docs/stable/user_guide/indexing.html#returning-a-view-versus-a-copy\n",
      "  result[mask] = np.nan\n"
     ]
    },
    {
     "name": "stdout",
     "output_type": "stream",
     "text": [
      "# of cfips that have high trend : 23\n",
      "use method:  mean\n",
      "# of cfips that have low trend : 15\n",
      "use method:  replace\n"
     ]
    },
    {
     "ename": "AttributeError",
     "evalue": "'NoneType' object has no attribute 'get'",
     "output_type": "error",
     "traceback": [
      "\u001b[0;31m---------------------------------------------------------------------------\u001b[0m",
      "\u001b[0;31mAttributeError\u001b[0m                            Traceback (most recent call last)",
      "\u001b[0;32m/tmp/ipykernel_80/3297777485.py\u001b[0m in \u001b[0;36m<module>\u001b[0;34m\u001b[0m\n\u001b[1;32m      1\u001b[0m \u001b[0maccum_pred\u001b[0m \u001b[0;34m=\u001b[0m \u001b[0mmodels\u001b[0m\u001b[0;34m.\u001b[0m\u001b[0mLgbmBaseline\u001b[0m\u001b[0;34m(\u001b[0m\u001b[0;34m'params_accum'\u001b[0m\u001b[0;34m,\u001b[0m\u001b[0mdf_subm\u001b[0m\u001b[0;34m,\u001b[0m \u001b[0mdf_all\u001b[0m\u001b[0;34m,\u001b[0m \u001b[0mdf_census\u001b[0m\u001b[0;34m,\u001b[0m \u001b[0mparams\u001b[0m\u001b[0;34m=\u001b[0m\u001b[0mparams\u001b[0m\u001b[0;34m)\u001b[0m\u001b[0;34m\u001b[0m\u001b[0;34m\u001b[0m\u001b[0m\n\u001b[0;32m----> 2\u001b[0;31m \u001b[0maccum_pred\u001b[0m\u001b[0;34m.\u001b[0m\u001b[0maccum_validation\u001b[0m\u001b[0;34m(\u001b[0m\u001b[0;34m)\u001b[0m\u001b[0;34m\u001b[0m\u001b[0;34m\u001b[0m\u001b[0m\n\u001b[0m",
      "\u001b[0;32m/tmp/working/code-analysis/../modules/models.py\u001b[0m in \u001b[0;36maccum_validation\u001b[0;34m(self, max_month, max_pred_m, m_len, export)\u001b[0m\n\u001b[1;32m    531\u001b[0m             \u001b[0mm_len\u001b[0m\u001b[0;34m=\u001b[0m\u001b[0mm_len\u001b[0m\u001b[0;34m+\u001b[0m\u001b[0;36m3\u001b[0m\u001b[0;34m,\u001b[0m\u001b[0;34m\u001b[0m\u001b[0;34m\u001b[0m\u001b[0m\n\u001b[1;32m    532\u001b[0m             \u001b[0mpred_ms\u001b[0m\u001b[0;34m=\u001b[0m\u001b[0;34m[\u001b[0m\u001b[0;36m1\u001b[0m\u001b[0;34m]\u001b[0m\u001b[0;34m,\u001b[0m\u001b[0;34m\u001b[0m\u001b[0;34m\u001b[0m\u001b[0m\n\u001b[0;32m--> 533\u001b[0;31m             \u001b[0mexport\u001b[0m\u001b[0;34m=\u001b[0m\u001b[0;32mFalse\u001b[0m\u001b[0;34m\u001b[0m\u001b[0;34m\u001b[0m\u001b[0m\n\u001b[0m\u001b[1;32m    534\u001b[0m         )\n\u001b[1;32m    535\u001b[0m \u001b[0;34m\u001b[0m\u001b[0m\n",
      "\u001b[0;32m/tmp/working/code-analysis/../modules/models.py\u001b[0m in \u001b[0;36mrun_validation\u001b[0;34m(self, max_month, m_len, pred_ms, export, filename, accum_cnt, out_idx)\u001b[0m\n\u001b[1;32m    507\u001b[0m         \u001b[0;32mfor\u001b[0m \u001b[0mpred_m\u001b[0m\u001b[0;34m,\u001b[0m \u001b[0mout_id\u001b[0m \u001b[0;32min\u001b[0m \u001b[0mzip\u001b[0m\u001b[0;34m(\u001b[0m\u001b[0mpred_ms\u001b[0m\u001b[0;34m,\u001b[0m \u001b[0mout_idx\u001b[0m\u001b[0;34m)\u001b[0m\u001b[0;34m:\u001b[0m\u001b[0;34m\u001b[0m\u001b[0;34m\u001b[0m\u001b[0m\n\u001b[1;32m    508\u001b[0m             \u001b[0mpred_m_len\u001b[0m \u001b[0;34m=\u001b[0m \u001b[0;34m[\u001b[0m\u001b[0mpred_m\u001b[0m\u001b[0;34m]\u001b[0m \u001b[0;34m*\u001b[0m \u001b[0mm_len\u001b[0m\u001b[0;34m\u001b[0m\u001b[0;34m\u001b[0m\u001b[0m\n\u001b[0;32m--> 509\u001b[0;31m             \u001b[0mdf_output\u001b[0m \u001b[0;34m=\u001b[0m \u001b[0mself\u001b[0m\u001b[0;34m.\u001b[0m\u001b[0mrun_validation_for_pred_m\u001b[0m\u001b[0;34m(\u001b[0m\u001b[0mvalidation_times\u001b[0m\u001b[0;34m,\u001b[0m \u001b[0mpred_m_len\u001b[0m\u001b[0;34m)\u001b[0m\u001b[0;34m\u001b[0m\u001b[0;34m\u001b[0m\u001b[0m\n\u001b[0m\u001b[1;32m    510\u001b[0m             \u001b[0moutput_dic\u001b[0m\u001b[0;34m[\u001b[0m\u001b[0mout_id\u001b[0m\u001b[0;34m]\u001b[0m \u001b[0;34m=\u001b[0m \u001b[0mdf_output\u001b[0m\u001b[0;34m\u001b[0m\u001b[0;34m\u001b[0m\u001b[0m\n\u001b[1;32m    511\u001b[0m             \u001b[0mprint\u001b[0m\u001b[0;34m(\u001b[0m\u001b[0;34mf'saved output_dic[{out_id}].'\u001b[0m\u001b[0;34m)\u001b[0m\u001b[0;34m\u001b[0m\u001b[0;34m\u001b[0m\u001b[0m\n",
      "\u001b[0;32m/tmp/working/code-analysis/../modules/models.py\u001b[0m in \u001b[0;36mrun_validation_for_pred_m\u001b[0;34m(self, validation_times, pred_ms)\u001b[0m\n\u001b[1;32m    445\u001b[0m         \u001b[0mdf_output\u001b[0m \u001b[0;34m=\u001b[0m \u001b[0mpd\u001b[0m\u001b[0;34m.\u001b[0m\u001b[0mDataFrame\u001b[0m\u001b[0;34m(\u001b[0m\u001b[0mcolumns\u001b[0m\u001b[0;34m=\u001b[0m\u001b[0mself\u001b[0m\u001b[0;34m.\u001b[0m\u001b[0moutput_features\u001b[0m\u001b[0;34m)\u001b[0m\u001b[0;34m\u001b[0m\u001b[0;34m\u001b[0m\u001b[0m\n\u001b[1;32m    446\u001b[0m         \u001b[0;32mfor\u001b[0m \u001b[0mvalidation_time\u001b[0m\u001b[0;34m,\u001b[0m \u001b[0mpred_m\u001b[0m \u001b[0;32min\u001b[0m \u001b[0mzip\u001b[0m\u001b[0;34m(\u001b[0m\u001b[0mvalidation_times\u001b[0m\u001b[0;34m,\u001b[0m \u001b[0mpred_ms\u001b[0m\u001b[0;34m)\u001b[0m\u001b[0;34m:\u001b[0m\u001b[0;34m\u001b[0m\u001b[0;34m\u001b[0m\u001b[0m\n\u001b[0;32m--> 447\u001b[0;31m             \u001b[0mdf\u001b[0m \u001b[0;34m=\u001b[0m \u001b[0mself\u001b[0m\u001b[0;34m.\u001b[0m\u001b[0mrun_fit_predict\u001b[0m\u001b[0;34m(\u001b[0m\u001b[0mvalidation_time\u001b[0m\u001b[0;34m,\u001b[0m \u001b[0mpred_m\u001b[0m\u001b[0;34m)\u001b[0m\u001b[0;34m\u001b[0m\u001b[0;34m\u001b[0m\u001b[0m\n\u001b[0m\u001b[1;32m    448\u001b[0m             \u001b[0mdf_output\u001b[0m \u001b[0;34m=\u001b[0m \u001b[0mpd\u001b[0m\u001b[0;34m.\u001b[0m\u001b[0mconcat\u001b[0m\u001b[0;34m(\u001b[0m\u001b[0;34m[\u001b[0m\u001b[0mdf\u001b[0m\u001b[0;34m,\u001b[0m \u001b[0mdf_output\u001b[0m\u001b[0;34m]\u001b[0m\u001b[0;34m)\u001b[0m\u001b[0;34m\u001b[0m\u001b[0;34m\u001b[0m\u001b[0m\n\u001b[1;32m    449\u001b[0m \u001b[0;34m\u001b[0m\u001b[0m\n",
      "\u001b[0;32m/tmp/working/code-analysis/../modules/models.py\u001b[0m in \u001b[0;36mrun_fit_predict\u001b[0;34m(self, valid_time, pred_m)\u001b[0m\n\u001b[1;32m    392\u001b[0m \u001b[0;34m\u001b[0m\u001b[0m\n\u001b[1;32m    393\u001b[0m             \u001b[0;31m# pass if trend params don't exist.\u001b[0m\u001b[0;34m\u001b[0m\u001b[0;34m\u001b[0m\u001b[0;34m\u001b[0m\u001b[0m\n\u001b[0;32m--> 394\u001b[0;31m             \u001b[0;32mif\u001b[0m \u001b[0mself\u001b[0m\u001b[0;34m.\u001b[0m\u001b[0mtrend_params\u001b[0m\u001b[0;34m.\u001b[0m\u001b[0mget\u001b[0m\u001b[0;34m(\u001b[0m\u001b[0;34mf'short_trend_params'\u001b[0m\u001b[0;34m)\u001b[0m\u001b[0;34m.\u001b[0m\u001b[0mget\u001b[0m\u001b[0;34m(\u001b[0m\u001b[0mself\u001b[0m\u001b[0;34m.\u001b[0m\u001b[0maccum_cnt\u001b[0m\u001b[0;34m+\u001b[0m\u001b[0;36m1\u001b[0m\u001b[0;34m)\u001b[0m\u001b[0;34m:\u001b[0m\u001b[0;34m\u001b[0m\u001b[0;34m\u001b[0m\u001b[0m\n\u001b[0m\u001b[1;32m    395\u001b[0m \u001b[0;34m\u001b[0m\u001b[0m\n\u001b[1;32m    396\u001b[0m                 \u001b[0mtrend_params\u001b[0m \u001b[0;34m=\u001b[0m \u001b[0mself\u001b[0m\u001b[0;34m.\u001b[0m\u001b[0mtrend_params\u001b[0m\u001b[0;34m.\u001b[0m\u001b[0mget\u001b[0m\u001b[0;34m(\u001b[0m\u001b[0;34mf'short_trend_params'\u001b[0m\u001b[0;34m)\u001b[0m\u001b[0;34m.\u001b[0m\u001b[0mget\u001b[0m\u001b[0;34m(\u001b[0m\u001b[0mself\u001b[0m\u001b[0;34m.\u001b[0m\u001b[0maccum_cnt\u001b[0m\u001b[0;34m+\u001b[0m\u001b[0;36m1\u001b[0m\u001b[0;34m)\u001b[0m\u001b[0;34m.\u001b[0m\u001b[0mget\u001b[0m\u001b[0;34m(\u001b[0m\u001b[0;34m'params'\u001b[0m\u001b[0;34m)\u001b[0m\u001b[0;34m\u001b[0m\u001b[0;34m\u001b[0m\u001b[0m\n",
      "\u001b[0;31mAttributeError\u001b[0m: 'NoneType' object has no attribute 'get'"
     ]
    }
   ],
   "source": [
    "accum_pred = models.LgbmBaseline('params_accum',df_subm, df_all, df_census, params=params, trend_params=trend_params, season_params=season_params)\n",
    "accum_pred.accum_validation()"
   ]
  },
  {
   "cell_type": "markdown",
   "id": "44e52cee",
   "metadata": {},
   "source": [
    "## Submissionの作成"
   ]
  },
  {
   "cell_type": "markdown",
   "id": "96fdc219",
   "metadata": {},
   "source": [
    "### 予測結果を活用して予測"
   ]
  },
  {
   "cell_type": "code",
   "execution_count": 34,
   "id": "af23fc16",
   "metadata": {
    "scrolled": true
   },
   "outputs": [
    {
     "name": "stdout",
     "output_type": "stream",
     "text": [
      "create df_all_dict[40] and df_all_dict_original[40]\n",
      "add lag features: max_scale=40\n",
      "smooth_outlier: max_scale=40\n",
      "used method: v3\n",
      "# of fixed cfips: 1189\n",
      "# of fixed value: 2310\n",
      "create df_all_dict[41] and df_all_dict_original[41]\n",
      "add lag features: max_scale=41\n",
      "smooth_outlier: max_scale=41\n",
      "used method: v3\n",
      "# of fixed cfips: 1195\n",
      "# of fixed value: 2343\n",
      "create df_season, max_scale: 40, validate: False\n",
      "valid_times:  42\n",
      "pred_m:  1\n",
      "train_times:  41\n",
      "use df_all_dict[41]\n",
      "['scale', 'state_i', 'pct_bb_2017', 'pct_bb_2018', 'pct_bb_2019', 'pct_bb_2020', 'pct_bb_2021', 'pct_college_2017', 'pct_college_2018', 'pct_college_2019', 'pct_college_2020', 'pct_college_2021', 'pct_foreign_born_2017', 'pct_foreign_born_2018', 'pct_foreign_born_2019', 'pct_foreign_born_2020', 'pct_foreign_born_2021', 'pct_it_workers_2017', 'pct_it_workers_2018', 'pct_it_workers_2019', 'pct_it_workers_2020', 'pct_it_workers_2021', 'median_hh_inc_2017', 'median_hh_inc_2018', 'median_hh_inc_2019', 'median_hh_inc_2020', 'median_hh_inc_2021', 'lng', 'lat', 'rot_15_x', 'rot_15_y', 'rot_30_x', 'rot_30_y', 'rot_45_x', 'rot_45_y', 'select_rate1_lag1', 'select_rate1_lag2', 'select_rate1_lag3', 'select_rate1_lag4', 'select_rate1_lag5', 'select_rate1_lag6', 'select_rate1_lag7', 'select_rate1_lag8', 'select_rate1_rsum2', 'select_rate1_rsum4', 'select_rate1_rsum6', 'select_rate1_rsum8', 'select_rate1_rsum10', 'select_rate1_rsum12', 'select_active_lag1_diff1', 'select_active_lag1_diff2', 'select_active_lag1_diff3', 'select_active_lag1_diff4', 'select_active_lag1_diff5', 'select_active_lag1_diff6', 'select_active_lag1_diff7', 'select_active_lag1_diff8']\n",
      "use lgb.\n",
      "[LightGBM] [Warning] lambda_l2 is set=0.5, reg_lambda=0.0 will be ignored. Current value: lambda_l2=0.5\n",
      "[LightGBM] [Warning] min_data_in_leaf is set=213, min_child_samples=20 will be ignored. Current value: min_data_in_leaf=213\n",
      "[LightGBM] [Warning] seed is set=42, random_state=42 will be ignored. Current value: seed=42\n",
      "[LightGBM] [Warning] num_iterations is set=30, n_iter=30 will be ignored. Current value: num_iterations=30\n",
      "# of cfips that have high trend : 107\n",
      "use method:  mean\n",
      "# of cfips that have low trend : 148\n",
      "use method:  mean\n",
      "use method:  mix\n",
      "# of cfips that have only short trend : 56\n",
      "# of cfips that have both short and long trend : 40\n",
      "use SEASON.\n",
      "# of cfips season affected:  138\n",
      "# of cfips season/trend/model mean:  27\n",
      "saved output_dic[1].\n",
      "create df_all_dict[42] with 1 predicted months from df_all_dict_original[41].\n",
      "insert mbd and mbd_origin of scale: [42]\n",
      "add lag features: max_scale=42\n",
      "success in updating df_all_dict\n",
      "valid_times:  43\n",
      "pred_m:  1\n",
      "train_times:  42\n",
      "use df_all_dict[42]\n",
      "use lgb.\n",
      "[LightGBM] [Warning] lambda_l2 is set=0.5, reg_lambda=0.0 will be ignored. Current value: lambda_l2=0.5\n",
      "[LightGBM] [Warning] min_data_in_leaf is set=213, min_child_samples=20 will be ignored. Current value: min_data_in_leaf=213\n",
      "[LightGBM] [Warning] seed is set=42, random_state=42 will be ignored. Current value: seed=42\n",
      "[LightGBM] [Warning] num_iterations is set=30, n_iter=30 will be ignored. Current value: num_iterations=30\n",
      "# of cfips that have high trend : 61\n",
      "use method:  mean\n",
      "# of cfips that have low trend : 85\n",
      "use method:  mean\n",
      "use method:  \n",
      "# of cfips that have only short trend : 10\n",
      "use SEASON.\n",
      "# of cfips season affected:  251\n",
      "# of cfips season/trend/model mean:  33\n",
      "saved output_dic[2].\n",
      "create df_all_dict[43] with 2 predicted months from df_all_dict_original[41].\n",
      "insert mbd and mbd_origin of scale: [42 43]\n",
      "add lag features: max_scale=43\n",
      "success in updating df_all_dict\n",
      "valid_times:  44\n",
      "pred_m:  1\n",
      "train_times:  43\n",
      "use df_all_dict[43]\n",
      "use lgb.\n",
      "[LightGBM] [Warning] lambda_l2 is set=0.5, reg_lambda=0.0 will be ignored. Current value: lambda_l2=0.5\n",
      "[LightGBM] [Warning] min_data_in_leaf is set=213, min_child_samples=20 will be ignored. Current value: min_data_in_leaf=213\n",
      "[LightGBM] [Warning] seed is set=42, random_state=42 will be ignored. Current value: seed=42\n",
      "[LightGBM] [Warning] num_iterations is set=30, n_iter=30 will be ignored. Current value: num_iterations=30\n",
      "# of cfips that have high trend : 35\n",
      "use method:  mean\n",
      "# of cfips that have low trend : 51\n",
      "use method:  mean\n",
      "use method:  \n",
      "# of cfips that have only short trend : 3\n",
      "use SEASON.\n",
      "# of cfips season affected:  258\n",
      "# of cfips season/trend/model mean:  21\n",
      "saved output_dic[3].\n",
      "create df_all_dict[44] with 3 predicted months from df_all_dict_original[41].\n",
      "insert mbd and mbd_origin of scale: [42 43 44]\n",
      "add lag features: max_scale=44\n"
     ]
    },
    {
     "ename": "KeyboardInterrupt",
     "evalue": "",
     "output_type": "error",
     "traceback": [
      "\u001b[0;31m---------------------------------------------------------------------------\u001b[0m",
      "\u001b[0;31mKeyboardInterrupt\u001b[0m                         Traceback (most recent call last)",
      "\u001b[0;32m/tmp/ipykernel_80/2284765742.py\u001b[0m in \u001b[0;36m<module>\u001b[0;34m\u001b[0m\n\u001b[1;32m      1\u001b[0m \u001b[0mtest_subm\u001b[0m \u001b[0;34m=\u001b[0m \u001b[0mmodels\u001b[0m\u001b[0;34m.\u001b[0m\u001b[0mLgbmBaseline\u001b[0m\u001b[0;34m(\u001b[0m\u001b[0;34m'test_subm_accum'\u001b[0m\u001b[0;34m,\u001b[0m \u001b[0mdf_subm\u001b[0m\u001b[0;34m,\u001b[0m \u001b[0mdf_all\u001b[0m\u001b[0;34m,\u001b[0m \u001b[0mdf_census\u001b[0m\u001b[0;34m,\u001b[0m \u001b[0mparams\u001b[0m\u001b[0;34m=\u001b[0m\u001b[0mparams\u001b[0m\u001b[0;34m,\u001b[0m \u001b[0mtrend_params\u001b[0m\u001b[0;34m=\u001b[0m\u001b[0mtrend_params\u001b[0m\u001b[0;34m,\u001b[0m \u001b[0mseason_params\u001b[0m\u001b[0;34m=\u001b[0m\u001b[0mseason_params\u001b[0m\u001b[0;34m)\u001b[0m\u001b[0;34m\u001b[0m\u001b[0;34m\u001b[0m\u001b[0m\n\u001b[0;32m----> 2\u001b[0;31m \u001b[0mtest_subm\u001b[0m\u001b[0;34m.\u001b[0m\u001b[0mcreate_submission\u001b[0m\u001b[0;34m(\u001b[0m\u001b[0mtarget_scale\u001b[0m\u001b[0;34m=\u001b[0m\u001b[0;34m[\u001b[0m\u001b[0;36m42\u001b[0m\u001b[0;34m,\u001b[0m \u001b[0;36m43\u001b[0m\u001b[0;34m,\u001b[0m\u001b[0;36m44\u001b[0m\u001b[0;34m,\u001b[0m\u001b[0;36m45\u001b[0m\u001b[0;34m]\u001b[0m\u001b[0;34m,\u001b[0m \u001b[0msave\u001b[0m\u001b[0;34m=\u001b[0m\u001b[0;32mFalse\u001b[0m\u001b[0;34m)\u001b[0m\u001b[0;34m\u001b[0m\u001b[0;34m\u001b[0m\u001b[0m\n\u001b[0m",
      "\u001b[0;32m/tmp/working/code-analysis/../modules/models.py\u001b[0m in \u001b[0;36mcreate_submission\u001b[0;34m(self, target_scale, save, filename)\u001b[0m\n\u001b[1;32m    573\u001b[0m                 \u001b[0maccum_cnt\u001b[0m\u001b[0;34m=\u001b[0m\u001b[0mk\u001b[0m\u001b[0;34m+\u001b[0m\u001b[0;36m1\u001b[0m\u001b[0;34m,\u001b[0m\u001b[0;34m\u001b[0m\u001b[0;34m\u001b[0m\u001b[0m\n\u001b[1;32m    574\u001b[0m                 \u001b[0mout_idx\u001b[0m\u001b[0;34m=\u001b[0m\u001b[0;34m[\u001b[0m\u001b[0mk\u001b[0m\u001b[0;34m+\u001b[0m\u001b[0;36m2\u001b[0m\u001b[0;34m]\u001b[0m\u001b[0;34m,\u001b[0m\u001b[0;34m\u001b[0m\u001b[0;34m\u001b[0m\u001b[0m\n\u001b[0;32m--> 575\u001b[0;31m                 \u001b[0mexport\u001b[0m \u001b[0;34m=\u001b[0m \u001b[0;32mFalse\u001b[0m\u001b[0;34m\u001b[0m\u001b[0;34m\u001b[0m\u001b[0m\n\u001b[0m\u001b[1;32m    576\u001b[0m             )\n\u001b[1;32m    577\u001b[0m             \u001b[0mdf_pred\u001b[0m \u001b[0;34m=\u001b[0m \u001b[0mpd\u001b[0m\u001b[0;34m.\u001b[0m\u001b[0mconcat\u001b[0m\u001b[0;34m(\u001b[0m\u001b[0;34m[\u001b[0m\u001b[0mdf_pred\u001b[0m\u001b[0;34m,\u001b[0m \u001b[0mself\u001b[0m\u001b[0;34m.\u001b[0m\u001b[0moutput_dic\u001b[0m\u001b[0;34m[\u001b[0m\u001b[0mk\u001b[0m\u001b[0;34m+\u001b[0m\u001b[0;36m2\u001b[0m\u001b[0;34m]\u001b[0m\u001b[0;34m]\u001b[0m\u001b[0;34m)\u001b[0m\u001b[0;34m\u001b[0m\u001b[0;34m\u001b[0m\u001b[0m\n",
      "\u001b[0;32m/tmp/working/code-analysis/../modules/models.py\u001b[0m in \u001b[0;36mrun_validation\u001b[0;34m(self, max_month, m_len, pred_ms, export, filename, accum_cnt, out_idx)\u001b[0m\n\u001b[1;32m    497\u001b[0m         \u001b[0mself\u001b[0m\u001b[0;34m.\u001b[0m\u001b[0maccum_cnt\u001b[0m \u001b[0;34m=\u001b[0m \u001b[0maccum_cnt\u001b[0m\u001b[0;34m\u001b[0m\u001b[0;34m\u001b[0m\u001b[0m\n\u001b[1;32m    498\u001b[0m         \u001b[0;32mif\u001b[0m \u001b[0maccum_cnt\u001b[0m\u001b[0;34m:\u001b[0m\u001b[0;34m\u001b[0m\u001b[0;34m\u001b[0m\u001b[0m\n\u001b[0;32m--> 499\u001b[0;31m             \u001b[0mself\u001b[0m\u001b[0;34m.\u001b[0m\u001b[0mget_df_all_dict\u001b[0m\u001b[0;34m(\u001b[0m\u001b[0mlist\u001b[0m\u001b[0;34m(\u001b[0m\u001b[0mrange\u001b[0m\u001b[0;34m(\u001b[0m\u001b[0mmax_month\u001b[0m\u001b[0;34m-\u001b[0m\u001b[0mm_len\u001b[0m\u001b[0;34m,\u001b[0m \u001b[0mmax_month\u001b[0m\u001b[0;34m)\u001b[0m\u001b[0;34m)\u001b[0m\u001b[0;34m,\u001b[0m \u001b[0msmooth\u001b[0m\u001b[0;34m=\u001b[0m\u001b[0;32mFalse\u001b[0m\u001b[0;34m)\u001b[0m\u001b[0;34m\u001b[0m\u001b[0;34m\u001b[0m\u001b[0m\n\u001b[0m\u001b[1;32m    500\u001b[0m             \u001b[0mprint\u001b[0m\u001b[0;34m(\u001b[0m\u001b[0;34m'success in updating df_all_dict'\u001b[0m\u001b[0;34m)\u001b[0m\u001b[0;34m\u001b[0m\u001b[0;34m\u001b[0m\u001b[0m\n\u001b[1;32m    501\u001b[0m \u001b[0;34m\u001b[0m\u001b[0m\n",
      "\u001b[0;32m/tmp/working/code-analysis/../modules/models.py\u001b[0m in \u001b[0;36mget_df_all_dict\u001b[0;34m(self, train_times, smooth)\u001b[0m\n\u001b[1;32m    302\u001b[0m                 \u001b[0mmax_window\u001b[0m\u001b[0;34m=\u001b[0m\u001b[0mself\u001b[0m\u001b[0;34m.\u001b[0m\u001b[0mmax_window\u001b[0m\u001b[0;34m,\u001b[0m\u001b[0;34m\u001b[0m\u001b[0;34m\u001b[0m\u001b[0m\n\u001b[1;32m    303\u001b[0m                 \u001b[0msmooth\u001b[0m\u001b[0;34m=\u001b[0m\u001b[0msmooth\u001b[0m\u001b[0;34m,\u001b[0m\u001b[0;34m\u001b[0m\u001b[0;34m\u001b[0m\u001b[0m\n\u001b[0;32m--> 304\u001b[0;31m                 \u001b[0msmooth_method\u001b[0m\u001b[0;34m=\u001b[0m\u001b[0mself\u001b[0m\u001b[0;34m.\u001b[0m\u001b[0msmooth_method\u001b[0m\u001b[0;34m\u001b[0m\u001b[0;34m\u001b[0m\u001b[0m\n\u001b[0m\u001b[1;32m    305\u001b[0m             )\n\u001b[1;32m    306\u001b[0m \u001b[0;34m\u001b[0m\u001b[0m\n",
      "\u001b[0;32m/tmp/working/code-analysis/../modules/preprocess.py\u001b[0m in \u001b[0;36madd_lag_features\u001b[0;34m(df_all, max_scale, USE_LAG, max_window, smooth, smooth_method)\u001b[0m\n\u001b[1;32m     35\u001b[0m \u001b[0;34m\u001b[0m\u001b[0m\n\u001b[1;32m     36\u001b[0m     \u001b[0;32mfor\u001b[0m \u001b[0mk\u001b[0m \u001b[0;32min\u001b[0m \u001b[0mrange\u001b[0m\u001b[0;34m(\u001b[0m\u001b[0;36m1\u001b[0m\u001b[0;34m,\u001b[0m \u001b[0mUSE_LAG\u001b[0m\u001b[0;34m+\u001b[0m\u001b[0;36m1\u001b[0m\u001b[0;34m)\u001b[0m\u001b[0;34m:\u001b[0m\u001b[0;34m\u001b[0m\u001b[0;34m\u001b[0m\u001b[0m\n\u001b[0;32m---> 37\u001b[0;31m         \u001b[0mdf_all\u001b[0m\u001b[0;34m[\u001b[0m\u001b[0;34mf'select_active_lag1_diff{k}'\u001b[0m\u001b[0;34m]\u001b[0m \u001b[0;34m=\u001b[0m \u001b[0mdf_all\u001b[0m\u001b[0;34m.\u001b[0m\u001b[0mgroupby\u001b[0m\u001b[0;34m(\u001b[0m\u001b[0;34m'cfips'\u001b[0m\u001b[0;34m)\u001b[0m\u001b[0;34m[\u001b[0m\u001b[0;34mf'select_active_lag1'\u001b[0m\u001b[0;34m]\u001b[0m\u001b[0;34m.\u001b[0m\u001b[0mdiff\u001b[0m\u001b[0;34m(\u001b[0m\u001b[0mk\u001b[0m\u001b[0;34m)\u001b[0m\u001b[0;34m\u001b[0m\u001b[0;34m\u001b[0m\u001b[0m\n\u001b[0m\u001b[1;32m     38\u001b[0m \u001b[0;34m\u001b[0m\u001b[0m\n\u001b[1;32m     39\u001b[0m     \u001b[0;32mfor\u001b[0m \u001b[0mi\u001b[0m \u001b[0;32min\u001b[0m \u001b[0mrange\u001b[0m\u001b[0;34m(\u001b[0m\u001b[0;36m1\u001b[0m\u001b[0;34m,\u001b[0m \u001b[0mUSE_LAG\u001b[0m\u001b[0;34m+\u001b[0m\u001b[0;36m1\u001b[0m\u001b[0;34m)\u001b[0m\u001b[0;34m:\u001b[0m\u001b[0;34m\u001b[0m\u001b[0;34m\u001b[0m\u001b[0m\n",
      "\u001b[0;32m/opt/conda/lib/python3.7/site-packages/pandas/core/groupby/groupby.py\u001b[0m in \u001b[0;36mwrapper\u001b[0;34m(*args, **kwargs)\u001b[0m\n\u001b[1;32m    946\u001b[0m                 \u001b[0;32mreturn\u001b[0m \u001b[0mself\u001b[0m\u001b[0;34m.\u001b[0m\u001b[0mapply\u001b[0m\u001b[0;34m(\u001b[0m\u001b[0mcurried\u001b[0m\u001b[0;34m)\u001b[0m\u001b[0;34m\u001b[0m\u001b[0;34m\u001b[0m\u001b[0m\n\u001b[1;32m    947\u001b[0m \u001b[0;34m\u001b[0m\u001b[0m\n\u001b[0;32m--> 948\u001b[0;31m             \u001b[0;32mreturn\u001b[0m \u001b[0mself\u001b[0m\u001b[0;34m.\u001b[0m\u001b[0m_python_apply_general\u001b[0m\u001b[0;34m(\u001b[0m\u001b[0mcurried\u001b[0m\u001b[0;34m,\u001b[0m \u001b[0mself\u001b[0m\u001b[0;34m.\u001b[0m\u001b[0m_obj_with_exclusions\u001b[0m\u001b[0;34m)\u001b[0m\u001b[0;34m\u001b[0m\u001b[0;34m\u001b[0m\u001b[0m\n\u001b[0m\u001b[1;32m    949\u001b[0m \u001b[0;34m\u001b[0m\u001b[0m\n\u001b[1;32m    950\u001b[0m         \u001b[0mwrapper\u001b[0m\u001b[0;34m.\u001b[0m\u001b[0m__name__\u001b[0m \u001b[0;34m=\u001b[0m \u001b[0mname\u001b[0m\u001b[0;34m\u001b[0m\u001b[0;34m\u001b[0m\u001b[0m\n",
      "\u001b[0;32m/opt/conda/lib/python3.7/site-packages/pandas/core/groupby/groupby.py\u001b[0m in \u001b[0;36m_python_apply_general\u001b[0;34m(self, f, data)\u001b[0m\n\u001b[1;32m   1307\u001b[0m             \u001b[0mdata\u001b[0m \u001b[0mafter\u001b[0m \u001b[0mapplying\u001b[0m \u001b[0mf\u001b[0m\u001b[0;34m\u001b[0m\u001b[0;34m\u001b[0m\u001b[0m\n\u001b[1;32m   1308\u001b[0m         \"\"\"\n\u001b[0;32m-> 1309\u001b[0;31m         \u001b[0mkeys\u001b[0m\u001b[0;34m,\u001b[0m \u001b[0mvalues\u001b[0m\u001b[0;34m,\u001b[0m \u001b[0mmutated\u001b[0m \u001b[0;34m=\u001b[0m \u001b[0mself\u001b[0m\u001b[0;34m.\u001b[0m\u001b[0mgrouper\u001b[0m\u001b[0;34m.\u001b[0m\u001b[0mapply\u001b[0m\u001b[0;34m(\u001b[0m\u001b[0mf\u001b[0m\u001b[0;34m,\u001b[0m \u001b[0mdata\u001b[0m\u001b[0;34m,\u001b[0m \u001b[0mself\u001b[0m\u001b[0;34m.\u001b[0m\u001b[0maxis\u001b[0m\u001b[0;34m)\u001b[0m\u001b[0;34m\u001b[0m\u001b[0;34m\u001b[0m\u001b[0m\n\u001b[0m\u001b[1;32m   1310\u001b[0m \u001b[0;34m\u001b[0m\u001b[0m\n\u001b[1;32m   1311\u001b[0m         return self._wrap_applied_output(\n",
      "\u001b[0;32m/opt/conda/lib/python3.7/site-packages/pandas/core/groupby/ops.py\u001b[0m in \u001b[0;36mapply\u001b[0;34m(self, f, data, axis)\u001b[0m\n\u001b[1;32m    845\u001b[0m             \u001b[0mnext\u001b[0m\u001b[0;34m(\u001b[0m\u001b[0mzipped\u001b[0m\u001b[0;34m)\u001b[0m\u001b[0;34m\u001b[0m\u001b[0;34m\u001b[0m\u001b[0m\n\u001b[1;32m    846\u001b[0m \u001b[0;34m\u001b[0m\u001b[0m\n\u001b[0;32m--> 847\u001b[0;31m         \u001b[0;32mfor\u001b[0m \u001b[0mkey\u001b[0m\u001b[0;34m,\u001b[0m \u001b[0mgroup\u001b[0m \u001b[0;32min\u001b[0m \u001b[0mzipped\u001b[0m\u001b[0;34m:\u001b[0m\u001b[0;34m\u001b[0m\u001b[0;34m\u001b[0m\u001b[0m\n\u001b[0m\u001b[1;32m    848\u001b[0m             \u001b[0mobject\u001b[0m\u001b[0;34m.\u001b[0m\u001b[0m__setattr__\u001b[0m\u001b[0;34m(\u001b[0m\u001b[0mgroup\u001b[0m\u001b[0;34m,\u001b[0m \u001b[0;34m\"name\"\u001b[0m\u001b[0;34m,\u001b[0m \u001b[0mkey\u001b[0m\u001b[0;34m)\u001b[0m\u001b[0;34m\u001b[0m\u001b[0;34m\u001b[0m\u001b[0m\n\u001b[1;32m    849\u001b[0m \u001b[0;34m\u001b[0m\u001b[0m\n",
      "\u001b[0;32m/opt/conda/lib/python3.7/site-packages/pandas/core/groupby/ops.py\u001b[0m in \u001b[0;36m__iter__\u001b[0;34m(self)\u001b[0m\n\u001b[1;32m   1330\u001b[0m \u001b[0;34m\u001b[0m\u001b[0m\n\u001b[1;32m   1331\u001b[0m         \u001b[0;32mfor\u001b[0m \u001b[0mstart\u001b[0m\u001b[0;34m,\u001b[0m \u001b[0mend\u001b[0m \u001b[0;32min\u001b[0m \u001b[0mzip\u001b[0m\u001b[0;34m(\u001b[0m\u001b[0mstarts\u001b[0m\u001b[0;34m,\u001b[0m \u001b[0mends\u001b[0m\u001b[0;34m)\u001b[0m\u001b[0;34m:\u001b[0m\u001b[0;34m\u001b[0m\u001b[0;34m\u001b[0m\u001b[0m\n\u001b[0;32m-> 1332\u001b[0;31m             \u001b[0;32myield\u001b[0m \u001b[0mself\u001b[0m\u001b[0;34m.\u001b[0m\u001b[0m_chop\u001b[0m\u001b[0;34m(\u001b[0m\u001b[0msdata\u001b[0m\u001b[0;34m,\u001b[0m \u001b[0mslice\u001b[0m\u001b[0;34m(\u001b[0m\u001b[0mstart\u001b[0m\u001b[0;34m,\u001b[0m \u001b[0mend\u001b[0m\u001b[0;34m)\u001b[0m\u001b[0;34m)\u001b[0m\u001b[0;34m\u001b[0m\u001b[0;34m\u001b[0m\u001b[0m\n\u001b[0m\u001b[1;32m   1333\u001b[0m \u001b[0;34m\u001b[0m\u001b[0m\n\u001b[1;32m   1334\u001b[0m     \u001b[0;34m@\u001b[0m\u001b[0mcache_readonly\u001b[0m\u001b[0;34m\u001b[0m\u001b[0;34m\u001b[0m\u001b[0m\n",
      "\u001b[0;32m/opt/conda/lib/python3.7/site-packages/pandas/core/groupby/ops.py\u001b[0m in \u001b[0;36m_chop\u001b[0;34m(self, sdata, slice_obj)\u001b[0m\n\u001b[1;32m   1343\u001b[0m     \u001b[0;32mdef\u001b[0m \u001b[0m_chop\u001b[0m\u001b[0;34m(\u001b[0m\u001b[0mself\u001b[0m\u001b[0;34m,\u001b[0m \u001b[0msdata\u001b[0m\u001b[0;34m:\u001b[0m \u001b[0mSeries\u001b[0m\u001b[0;34m,\u001b[0m \u001b[0mslice_obj\u001b[0m\u001b[0;34m:\u001b[0m \u001b[0mslice\u001b[0m\u001b[0;34m)\u001b[0m \u001b[0;34m->\u001b[0m \u001b[0mSeries\u001b[0m\u001b[0;34m:\u001b[0m\u001b[0;34m\u001b[0m\u001b[0;34m\u001b[0m\u001b[0m\n\u001b[1;32m   1344\u001b[0m         \u001b[0;31m# fastpath equivalent to `sdata.iloc[slice_obj]`\u001b[0m\u001b[0;34m\u001b[0m\u001b[0;34m\u001b[0m\u001b[0;34m\u001b[0m\u001b[0m\n\u001b[0;32m-> 1345\u001b[0;31m         \u001b[0mmgr\u001b[0m \u001b[0;34m=\u001b[0m \u001b[0msdata\u001b[0m\u001b[0;34m.\u001b[0m\u001b[0m_mgr\u001b[0m\u001b[0;34m.\u001b[0m\u001b[0mget_slice\u001b[0m\u001b[0;34m(\u001b[0m\u001b[0mslice_obj\u001b[0m\u001b[0;34m)\u001b[0m\u001b[0;34m\u001b[0m\u001b[0;34m\u001b[0m\u001b[0m\n\u001b[0m\u001b[1;32m   1346\u001b[0m         \u001b[0;31m# __finalize__ not called here, must be applied by caller if applicable\u001b[0m\u001b[0;34m\u001b[0m\u001b[0;34m\u001b[0m\u001b[0;34m\u001b[0m\u001b[0m\n\u001b[1;32m   1347\u001b[0m \u001b[0;34m\u001b[0m\u001b[0m\n",
      "\u001b[0;32m/opt/conda/lib/python3.7/site-packages/pandas/core/internals/managers.py\u001b[0m in \u001b[0;36mget_slice\u001b[0;34m(self, slobj, axis)\u001b[0m\n\u001b[1;32m   1652\u001b[0m         \u001b[0mblk\u001b[0m \u001b[0;34m=\u001b[0m \u001b[0mself\u001b[0m\u001b[0;34m.\u001b[0m\u001b[0m_block\u001b[0m\u001b[0;34m\u001b[0m\u001b[0;34m\u001b[0m\u001b[0m\n\u001b[1;32m   1653\u001b[0m         \u001b[0marray\u001b[0m \u001b[0;34m=\u001b[0m \u001b[0mblk\u001b[0m\u001b[0;34m.\u001b[0m\u001b[0m_slice\u001b[0m\u001b[0;34m(\u001b[0m\u001b[0mslobj\u001b[0m\u001b[0;34m)\u001b[0m\u001b[0;34m\u001b[0m\u001b[0;34m\u001b[0m\u001b[0m\n\u001b[0;32m-> 1654\u001b[0;31m         \u001b[0mbp\u001b[0m \u001b[0;34m=\u001b[0m \u001b[0mBlockPlacement\u001b[0m\u001b[0;34m(\u001b[0m\u001b[0mslice\u001b[0m\u001b[0;34m(\u001b[0m\u001b[0;36m0\u001b[0m\u001b[0;34m,\u001b[0m \u001b[0mlen\u001b[0m\u001b[0;34m(\u001b[0m\u001b[0marray\u001b[0m\u001b[0;34m)\u001b[0m\u001b[0;34m)\u001b[0m\u001b[0;34m)\u001b[0m\u001b[0;34m\u001b[0m\u001b[0;34m\u001b[0m\u001b[0m\n\u001b[0m\u001b[1;32m   1655\u001b[0m         \u001b[0mblock\u001b[0m \u001b[0;34m=\u001b[0m \u001b[0mblk\u001b[0m\u001b[0;34m.\u001b[0m\u001b[0mmake_block_same_class\u001b[0m\u001b[0;34m(\u001b[0m\u001b[0marray\u001b[0m\u001b[0;34m,\u001b[0m \u001b[0mplacement\u001b[0m\u001b[0;34m=\u001b[0m\u001b[0mbp\u001b[0m\u001b[0;34m)\u001b[0m\u001b[0;34m\u001b[0m\u001b[0;34m\u001b[0m\u001b[0m\n\u001b[1;32m   1656\u001b[0m         \u001b[0mnew_index\u001b[0m \u001b[0;34m=\u001b[0m \u001b[0mself\u001b[0m\u001b[0;34m.\u001b[0m\u001b[0mindex\u001b[0m\u001b[0;34m.\u001b[0m\u001b[0m_getitem_slice\u001b[0m\u001b[0;34m(\u001b[0m\u001b[0mslobj\u001b[0m\u001b[0;34m)\u001b[0m\u001b[0;34m\u001b[0m\u001b[0;34m\u001b[0m\u001b[0m\n",
      "\u001b[0;31mKeyboardInterrupt\u001b[0m: "
     ]
    }
   ],
   "source": [
    "test_subm = models.LgbmBaseline('test_subm_accum', df_subm, df_all, df_census, params=params, trend_params=trend_params, season_params=season_params)\n",
    "test_subm.create_submission(target_scale=[42, 43,44,45], save=False)"
   ]
  },
  {
   "cell_type": "code",
   "execution_count": 9,
   "id": "632bb122",
   "metadata": {},
   "outputs": [
    {
     "data": {
      "text/plain": [
       "0.0"
      ]
     },
     "execution_count": 9,
     "metadata": {},
     "output_type": "execute_result"
    }
   ],
   "source": [
    "df_submission =test_subm.df_submission\n",
    "df_merged = utils.compare_submission(df_subm, 'submission_13730_trend')\n",
    "df_merged['smape'].sum()"
   ]
  },
  {
   "cell_type": "code",
   "execution_count": 8,
   "id": "b8bf0fd9",
   "metadata": {},
   "outputs": [
    {
     "data": {
      "text/plain": [
       "0.03200090765098272"
      ]
     },
     "execution_count": 8,
     "metadata": {},
     "output_type": "execute_result"
    }
   ],
   "source": [
    "# ensemble\n",
    "0.01261112205424169\n",
    "\n",
    "# trend_multi有り\n",
    "0.03200090765098272"
   ]
  },
  {
   "cell_type": "code",
   "execution_count": 24,
   "id": "f54949ca",
   "metadata": {},
   "outputs": [],
   "source": [
    "id1 = (df_all['county']==20)|(df_all['county']==40)\n",
    "id2 = (df_all['scale']==41)&id1"
   ]
  },
  {
   "cell_type": "code",
   "execution_count": 26,
   "id": "2afb1021",
   "metadata": {},
   "outputs": [
    {
     "data": {
      "text/plain": [
       "2"
      ]
     },
     "execution_count": 26,
     "metadata": {},
     "output_type": "execute_result"
    }
   ],
   "source": [
    "sum(id2)"
   ]
  },
  {
   "cell_type": "code",
   "execution_count": null,
   "id": "770a88d2",
   "metadata": {},
   "outputs": [],
   "source": []
  }
 ],
 "metadata": {
  "kernelspec": {
   "display_name": "Python 3 (ipykernel)",
   "language": "python",
   "name": "python3"
  },
  "language_info": {
   "codemirror_mode": {
    "name": "ipython",
    "version": 3
   },
   "file_extension": ".py",
   "mimetype": "text/x-python",
   "name": "python",
   "nbconvert_exporter": "python",
   "pygments_lexer": "ipython3",
   "version": "3.7.12"
  }
 },
 "nbformat": 4,
 "nbformat_minor": 5
}
