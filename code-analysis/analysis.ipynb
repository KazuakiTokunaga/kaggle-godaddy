{
 "cells": [
  {
   "cell_type": "code",
   "execution_count": 25,
   "id": "1d94a36a",
   "metadata": {},
   "outputs": [],
   "source": [
    "import pandas as pd\n",
    "import numpy as np\n",
    "import seaborn as sns\n",
    "import matplotlib as plt\n",
    "from tqdm.notebook import tqdm"
   ]
  },
  {
   "cell_type": "code",
   "execution_count": 26,
   "id": "bdc4b41b",
   "metadata": {},
   "outputs": [],
   "source": [
    "BASE = '../input/'"
   ]
  },
  {
   "cell_type": "code",
   "execution_count": 43,
   "id": "d1455afa",
   "metadata": {},
   "outputs": [],
   "source": [
    "df_census = pd.read_csv(BASE + 'census_starter.csv')\n",
    "df_train = pd.read_csv(BASE + 'train.csv')\n",
    "df_test = pd.read_csv(BASE + 'test.csv')"
   ]
  },
  {
   "cell_type": "code",
   "execution_count": 44,
   "id": "2dd566f7",
   "metadata": {},
   "outputs": [],
   "source": [
    "df_train['istest'] = 0\n",
    "df_test['istest'] = 1\n",
    "df_raw = pd.concat((df_train, df_test)).sort_values(['cfips','row_id']).reset_index(drop=True)"
   ]
  },
  {
   "cell_type": "code",
   "execution_count": 45,
   "id": "85b5257a",
   "metadata": {},
   "outputs": [],
   "source": [
    "df_raw['first_day_of_month'] = pd.to_datetime(df_raw[\"first_day_of_month\"])\n",
    "df_raw['county'] = df_raw.groupby('cfips')['county'].ffill()\n",
    "df_raw['state'] = df_raw.groupby('cfips')['state'].ffill()\n",
    "df_raw[\"year\"] = df_raw[\"first_day_of_month\"].dt.year\n",
    "df_raw[\"month\"] = df_raw[\"first_day_of_month\"].dt.month\n",
    "df_raw[\"dcount\"] = df_raw.groupby(['cfips'])['row_id'].cumcount()\n",
    "df_raw['county_i'] = (df_raw['county'] + df_raw['state']).factorize()[0]\n",
    "df_raw['state_i'] = df_raw['state'].factorize()[0]"
   ]
  },
  {
   "cell_type": "code",
   "execution_count": 46,
   "id": "73096614",
   "metadata": {},
   "outputs": [
    {
     "data": {
      "text/html": [
       "<div>\n",
       "<style scoped>\n",
       "    .dataframe tbody tr th:only-of-type {\n",
       "        vertical-align: middle;\n",
       "    }\n",
       "\n",
       "    .dataframe tbody tr th {\n",
       "        vertical-align: top;\n",
       "    }\n",
       "\n",
       "    .dataframe thead th {\n",
       "        text-align: right;\n",
       "    }\n",
       "</style>\n",
       "<table border=\"1\" class=\"dataframe\">\n",
       "  <thead>\n",
       "    <tr style=\"text-align: right;\">\n",
       "      <th></th>\n",
       "      <th>row_id</th>\n",
       "      <th>cfips</th>\n",
       "      <th>county</th>\n",
       "      <th>state</th>\n",
       "      <th>first_day_of_month</th>\n",
       "      <th>microbusiness_density</th>\n",
       "      <th>active</th>\n",
       "      <th>istest</th>\n",
       "      <th>year</th>\n",
       "      <th>month</th>\n",
       "      <th>dcount</th>\n",
       "      <th>county_i</th>\n",
       "      <th>state_i</th>\n",
       "    </tr>\n",
       "  </thead>\n",
       "  <tbody>\n",
       "    <tr>\n",
       "      <th>0</th>\n",
       "      <td>1001_2019-08-01</td>\n",
       "      <td>1001</td>\n",
       "      <td>Autauga County</td>\n",
       "      <td>Alabama</td>\n",
       "      <td>2019-08-01</td>\n",
       "      <td>3.007682</td>\n",
       "      <td>1249.0</td>\n",
       "      <td>0</td>\n",
       "      <td>2019</td>\n",
       "      <td>8</td>\n",
       "      <td>0</td>\n",
       "      <td>0</td>\n",
       "      <td>0</td>\n",
       "    </tr>\n",
       "    <tr>\n",
       "      <th>1</th>\n",
       "      <td>1001_2019-09-01</td>\n",
       "      <td>1001</td>\n",
       "      <td>Autauga County</td>\n",
       "      <td>Alabama</td>\n",
       "      <td>2019-09-01</td>\n",
       "      <td>2.884870</td>\n",
       "      <td>1198.0</td>\n",
       "      <td>0</td>\n",
       "      <td>2019</td>\n",
       "      <td>9</td>\n",
       "      <td>1</td>\n",
       "      <td>0</td>\n",
       "      <td>0</td>\n",
       "    </tr>\n",
       "    <tr>\n",
       "      <th>2</th>\n",
       "      <td>1001_2019-10-01</td>\n",
       "      <td>1001</td>\n",
       "      <td>Autauga County</td>\n",
       "      <td>Alabama</td>\n",
       "      <td>2019-10-01</td>\n",
       "      <td>3.055843</td>\n",
       "      <td>1269.0</td>\n",
       "      <td>0</td>\n",
       "      <td>2019</td>\n",
       "      <td>10</td>\n",
       "      <td>2</td>\n",
       "      <td>0</td>\n",
       "      <td>0</td>\n",
       "    </tr>\n",
       "    <tr>\n",
       "      <th>3</th>\n",
       "      <td>1001_2019-11-01</td>\n",
       "      <td>1001</td>\n",
       "      <td>Autauga County</td>\n",
       "      <td>Alabama</td>\n",
       "      <td>2019-11-01</td>\n",
       "      <td>2.993233</td>\n",
       "      <td>1243.0</td>\n",
       "      <td>0</td>\n",
       "      <td>2019</td>\n",
       "      <td>11</td>\n",
       "      <td>3</td>\n",
       "      <td>0</td>\n",
       "      <td>0</td>\n",
       "    </tr>\n",
       "    <tr>\n",
       "      <th>4</th>\n",
       "      <td>1001_2019-12-01</td>\n",
       "      <td>1001</td>\n",
       "      <td>Autauga County</td>\n",
       "      <td>Alabama</td>\n",
       "      <td>2019-12-01</td>\n",
       "      <td>2.993233</td>\n",
       "      <td>1243.0</td>\n",
       "      <td>0</td>\n",
       "      <td>2019</td>\n",
       "      <td>12</td>\n",
       "      <td>4</td>\n",
       "      <td>0</td>\n",
       "      <td>0</td>\n",
       "    </tr>\n",
       "  </tbody>\n",
       "</table>\n",
       "</div>"
      ],
      "text/plain": [
       "            row_id  cfips          county    state first_day_of_month  \\\n",
       "0  1001_2019-08-01   1001  Autauga County  Alabama         2019-08-01   \n",
       "1  1001_2019-09-01   1001  Autauga County  Alabama         2019-09-01   \n",
       "2  1001_2019-10-01   1001  Autauga County  Alabama         2019-10-01   \n",
       "3  1001_2019-11-01   1001  Autauga County  Alabama         2019-11-01   \n",
       "4  1001_2019-12-01   1001  Autauga County  Alabama         2019-12-01   \n",
       "\n",
       "   microbusiness_density  active  istest  year  month  dcount  county_i  \\\n",
       "0               3.007682  1249.0       0  2019      8       0         0   \n",
       "1               2.884870  1198.0       0  2019      9       1         0   \n",
       "2               3.055843  1269.0       0  2019     10       2         0   \n",
       "3               2.993233  1243.0       0  2019     11       3         0   \n",
       "4               2.993233  1243.0       0  2019     12       4         0   \n",
       "\n",
       "   state_i  \n",
       "0        0  \n",
       "1        0  \n",
       "2        0  \n",
       "3        0  \n",
       "4        0  "
      ]
     },
     "execution_count": 46,
     "metadata": {},
     "output_type": "execute_result"
    }
   ],
   "source": [
    "df_raw.head()"
   ]
  },
  {
   "cell_type": "code",
   "execution_count": 47,
   "id": "a4772d1c",
   "metadata": {},
   "outputs": [],
   "source": [
    "lag = 1\n",
    "\n",
    "df_raw[f'mbd_lag_{lag}'] = df_raw.groupby('cfips')['microbusiness_density'].shift(lag).bfill()"
   ]
  },
  {
   "cell_type": "code",
   "execution_count": 48,
   "id": "2038c326",
   "metadata": {},
   "outputs": [
    {
     "data": {
      "text/plain": [
       "<AxesSubplot:xlabel='dcount'>"
      ]
     },
     "execution_count": 48,
     "metadata": {},
     "output_type": "execute_result"
    },
    {
     "data": {
      "image/png": "[encoded data removed]",
      "text/plain": [
       "<Figure size 432x288 with 1 Axes>"
      ]
     },
     "metadata": {
      "needs_background": "light"
     },
     "output_type": "display_data"
    }
   ],
   "source": [
    "df_raw['dif'] = (df_raw['microbusiness_density'] / df_raw[f'mbd_lag_{lag}']).fillna(1).clip(0, None) - 1\n",
    "df_raw.loc[(df_raw[f'mbd_lag_{lag}']==0), 'dif'] = 0\n",
    "df_raw.loc[(df_raw[f'microbusiness_density']>0) & (df_raw[f'mbd_lag_{lag}']==0), 'dif'] = 1 \n",
    "df_raw['dif'] = df_raw['dif'].abs()\n",
    "df_raw.groupby('dcount')['dif'].sum().plot()"
   ]
  },
  {
   "cell_type": "code",
   "execution_count": 50,
   "id": "35144ec1",
   "metadata": {},
   "outputs": [
    {
     "data": {
      "application/vnd.jupyter.widget-view+json": {
       "model_id": "d79b04dc4f1b4c65bec6c0e3539fd065",
       "version_major": 2,
       "version_minor": 0
      },
      "text/plain": [
       "  0%|          | 0/3135 [00:00<?, ?it/s]"
      ]
     },
     "metadata": {},
     "output_type": "display_data"
    },
    {
     "name": "stderr",
     "output_type": "stream",
     "text": [
      "/opt/conda/lib/python3.7/site-packages/ipykernel_launcher.py:13: RuntimeWarning: invalid value encountered in double_scalars\n",
      "  del sys.path[0]\n",
      "/opt/conda/lib/python3.7/site-packages/ipykernel_launcher.py:13: RuntimeWarning: divide by zero encountered in double_scalars\n",
      "  del sys.path[0]\n",
      "/opt/conda/lib/python3.7/site-packages/ipykernel_launcher.py:13: RuntimeWarning: invalid value encountered in multiply\n",
      "  del sys.path[0]\n",
      "/opt/conda/lib/python3.7/site-packages/ipykernel_launcher.py:11: RuntimeWarning: invalid value encountered in double_scalars\n",
      "  # This is added back by InteractiveShellApp.init_path()\n"
     ]
    },
    {
     "data": {
      "text/plain": [
       "(481, 732)"
      ]
     },
     "execution_count": 50,
     "metadata": {},
     "output_type": "execute_result"
    }
   ],
   "source": [
    "outliers = []\n",
    "cnt = 0\n",
    "for o in tqdm(df_raw.cfips.unique()):\n",
    "    indices = (df_raw['cfips']==o)\n",
    "    tmp = df_raw.loc[indices].copy().reset_index(drop=True)\n",
    "    var = tmp.microbusiness_density.values.copy()\n",
    "    #vmax = np.max(var[:38]) - np.min(var[:38])\n",
    "    \n",
    "    for i in range(37, 2, -1):\n",
    "        thr = 0.20*np.mean(var[:i])\n",
    "        difa = abs(var[i]-var[i-1])\n",
    "        if (difa>=thr):\n",
    "            var[:i] *= (var[i]/var[i-1])\n",
    "            outliers.append(o)\n",
    "            cnt+=1\n",
    "    var[0] = var[1]*0.99\n",
    "    df_raw.loc[indices, 'microbusiness_density'] = var\n",
    "    \n",
    "outliers = np.unique(outliers)\n",
    "len(outliers), cnt"
   ]
  },
  {
   "cell_type": "code",
   "execution_count": 35,
   "id": "a6e11fa0",
   "metadata": {},
   "outputs": [
    {
     "data": {
      "text/plain": [
       "<AxesSubplot:xlabel='dcount'>"
      ]
     },
     "execution_count": 35,
     "metadata": {},
     "output_type": "execute_result"
    },
    {
     "data": {
      "image/png": "[encoded data removed]",
      "text/plain": [
       "<Figure size 432x288 with 1 Axes>"
      ]
     },
     "metadata": {
      "needs_background": "light"
     },
     "output_type": "display_data"
    }
   ],
   "source": [
    "lag = 1\n",
    "df_raw[f'mbd_lag_{lag}'] = df_raw.groupby('cfips')['microbusiness_density'].shift(lag).bfill()\n",
    "df_raw['dif'] = (df_raw['microbusiness_density'] / df_raw[f'mbd_lag_{lag}']).fillna(1).clip(0, None) - 1\n",
    "df_raw.loc[(df_raw[f'mbd_lag_{lag}']==0), 'dif'] = 0\n",
    "df_raw.loc[(df_raw[f'microbusiness_density']>0) & (df_raw[f'mbd_lag_{lag}']==0), 'dif'] = 1\n",
    "df_raw['dif'] = df_raw['dif'].abs()\n",
    "df_raw.groupby('dcount')['dif'].sum().plot()"
   ]
  },
  {
   "cell_type": "code",
   "execution_count": 36,
   "id": "f6816c93",
   "metadata": {},
   "outputs": [
    {
     "data": {
      "text/plain": [
       "array([ 1013,  1035,  1037,  1045,  1057,  1059,  1085,  1111,  1125,\n",
       "        1131,  1133,  2060,  2070,  2100,  2164,  2188,  2282,  5011,\n",
       "        5029,  5031,  5049,  5061,  5065,  5077,  5079,  5081,  5091,\n",
       "        5093,  5113,  5141,  6005,  6015,  8011,  8014,  8031,  8047,\n",
       "        8055,  8057,  8069,  8079,  8081,  8105,  8121, 10003, 10005,\n",
       "       12001, 12013, 12029, 12037, 12045, 12051, 12065, 12077, 12107,\n",
       "       12131, 13007, 13019, 13025, 13033, 13037, 13061, 13087, 13101,\n",
       "       13119, 13131, 13149, 13169, 13193, 13239, 13243, 13251, 13287,\n",
       "       13291, 13301, 13307, 13317, 15005, 16009, 16021, 16025, 16033,\n",
       "       16037, 16045, 16049, 16051, 16077, 16079, 17013, 17037, 17063,\n",
       "       17065, 17075, 17105, 17109, 17127, 17147, 17175, 17191, 18017,\n",
       "       18025, 18031, 18039, 18041, 18049, 18073, 18083, 18087, 18103,\n",
       "       18143, 18145, 18153, 18171, 19001, 19003, 19005, 19033, 19037,\n",
       "       19051, 19063, 19065, 19067, 19071, 19125, 19129, 19133, 19143,\n",
       "       19165, 19175, 19177, 19185, 19189, 19195, 20011, 20019, 20043,\n",
       "       20065, 20071, 20085, 20089, 20093, 20095, 20107, 20109, 20135,\n",
       "       20145, 20149, 20165, 20169, 20175, 20183, 20191, 20197, 20205,\n",
       "       21001, 21007, 21027, 21039, 21045, 21051, 21053, 21065, 21069,\n",
       "       21095, 21105, 21125, 21129, 21147, 21149, 21153, 21163, 21171,\n",
       "       21177, 21201, 21211, 21215, 21221, 22011, 22043, 22081, 22099,\n",
       "       22117, 22127, 23013, 23027, 24047, 26011, 26067, 26083, 26095,\n",
       "       26097, 26105, 26123, 26143, 27001, 27011, 27035, 27081, 27111,\n",
       "       27133, 27141, 27161, 27165, 28003, 28015, 28019, 28035, 28051,\n",
       "       28055, 28071, 28097, 28119, 28125, 28129, 28141, 29011, 29017,\n",
       "       29059, 29061, 29073, 29123, 29125, 29127, 29133, 29139, 29153,\n",
       "       29171, 29175, 29195, 29197, 29209, 29211, 29223, 29229, 30011,\n",
       "       30037, 30045, 30047, 30055, 30067, 30069, 30075, 30079, 30085,\n",
       "       30103, 30109, 31003, 31005, 31007, 31009, 31011, 31019, 31021,\n",
       "       31035, 31047, 31049, 31057, 31061, 31071, 31081, 31085, 31091,\n",
       "       31095, 31103, 31107, 31111, 31115, 31119, 31121, 31129, 31139,\n",
       "       31141, 31159, 31163, 31165, 31167, 31169, 31171, 31173, 31175,\n",
       "       31177, 31183, 32011, 32013, 32017, 32023, 32027, 32029, 32510,\n",
       "       34005, 34021, 35003, 35011, 35061, 36097, 36107, 37015, 37079,\n",
       "       37085, 37113, 37125, 37131, 37175, 37185, 37189, 38007, 38019,\n",
       "       38031, 38033, 38039, 38045, 38053, 38057, 38069, 38083, 38085,\n",
       "       38087, 38091, 38099, 38101, 38105, 39087, 39111, 40001, 40005,\n",
       "       40007, 40033, 40043, 40045, 40067, 40085, 40111, 40115, 40141,\n",
       "       41023, 41055, 42015, 42117, 45001, 45033, 46007, 46017, 46019,\n",
       "       46031, 46043, 46053, 46055, 46057, 46059, 46065, 46069, 46073,\n",
       "       46075, 46077, 46081, 46087, 46099, 46101, 46107, 46111, 46115,\n",
       "       46117, 46119, 46123, 46127, 46129, 46137, 47007, 47025, 47027,\n",
       "       47033, 47041, 47071, 47087, 47095, 47105, 47135, 47153, 47159,\n",
       "       47169, 47177, 47181, 47185, 48007, 48033, 48035, 48045, 48051,\n",
       "       48053, 48073, 48087, 48095, 48103, 48105, 48109, 48117, 48137,\n",
       "       48151, 48155, 48169, 48173, 48179, 48191, 48205, 48217, 48221,\n",
       "       48243, 48253, 48259, 48261, 48263, 48269, 48275, 48301, 48311,\n",
       "       48317, 48345, 48359, 48371, 48373, 48389, 48391, 48393, 48417,\n",
       "       48421, 48431, 48433, 48437, 48443, 48447, 48455, 48463, 48469,\n",
       "       48471, 48505, 49025, 49055, 50011, 51021, 51029, 51033, 51043,\n",
       "       51047, 51057, 51069, 51085, 51093, 51097, 51111, 51121, 51159,\n",
       "       51173, 51175, 51685, 51710, 51790, 51840, 53023, 53047, 53073,\n",
       "       54003, 54005, 54017, 54021, 54043, 54053, 54063, 54069, 54073,\n",
       "       54077, 54085, 54089, 54091, 54093, 54109, 55011, 55031, 55067,\n",
       "       55078, 55125, 56009, 56033])"
      ]
     },
     "execution_count": 36,
     "metadata": {},
     "output_type": "execute_result"
    }
   ],
   "source": [
    "outliers"
   ]
  },
  {
   "cell_type": "code",
   "execution_count": null,
   "id": "a3db3d98",
   "metadata": {},
   "outputs": [],
   "source": []
  }
 ],
 "metadata": {
  "kernelspec": {
   "display_name": "Python 3 (ipykernel)",
   "language": "python",
   "name": "python3"
  },
  "language_info": {
   "codemirror_mode": {
    "name": "ipython",
    "version": 3
   },
   "file_extension": ".py",
   "mimetype": "text/x-python",
   "name": "python",
   "nbconvert_exporter": "python",
   "pygments_lexer": "ipython3",
   "version": "3.7.12"
  }
 },
 "nbformat": 4,
 "nbformat_minor": 5
}
