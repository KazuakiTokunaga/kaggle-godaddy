{
 "cells": [
  {
   "cell_type": "code",
   "execution_count": 1,
   "id": "dcb01a1e",
   "metadata": {},
   "outputs": [],
   "source": [
    "import numpy as np\n",
    "import pandas as pd"
   ]
  },
  {
   "cell_type": "code",
   "execution_count": 2,
   "id": "7bcde41b",
   "metadata": {},
   "outputs": [],
   "source": [
    "def smape(y_true, y_pred):\n",
    "    smap = np.zeros(len(y_true))\n",
    "    \n",
    "    num = np.abs(y_true - y_pred)\n",
    "    dem = ((np.abs(y_true) + np.abs(y_pred)) / 2)\n",
    "    \n",
    "    pos_ind = (y_true != 0) | (y_pred != 0)\n",
    "    smap[pos_ind] = num[pos_ind] / dem[pos_ind]\n",
    "    \n",
    "    return 100 * np.mean(smap)"
   ]
  },
  {
   "cell_type": "code",
   "execution_count": 3,
   "id": "0cfd626e",
   "metadata": {},
   "outputs": [],
   "source": [
    "BASE = '../input/'\n",
    "date_col = 'first_day_of_month'\n",
    "cat_cols = ['county', 'state']\n",
    "mbd = 'microbusiness_density'\n",
    "mbd_rate = 'microbusiness_density_rate'\n",
    "idx = 'row_id'"
   ]
  },
  {
   "cell_type": "code",
   "execution_count": 4,
   "id": "da158889",
   "metadata": {},
   "outputs": [],
   "source": [
    "df_census = pd.read_csv(BASE + 'census_starter.csv', index_col='cfips')\n",
    "df_train = pd.read_csv(BASE + 'train.csv',  index_col=idx)\n",
    "df_test = pd.read_csv(BASE + 'test.csv',  index_col=idx)\n",
    "df_subm = pd.read_csv(BASE + 'sample_submission.csv',  index_col=idx)"
   ]
  },
  {
   "cell_type": "code",
   "execution_count": 41,
   "id": "2219e1d7",
   "metadata": {},
   "outputs": [
    {
     "data": {
      "text/plain": [
       "count    122265.000000\n",
       "mean          3.817671\n",
       "std           4.991087\n",
       "min           0.000000\n",
       "25%           1.639344\n",
       "50%           2.586543\n",
       "75%           4.519231\n",
       "max         284.340030\n",
       "Name: microbusiness_density, dtype: float64"
      ]
     },
     "execution_count": 41,
     "metadata": {},
     "output_type": "execute_result"
    }
   ],
   "source": [
    "df_train[mbd].describe()"
   ]
  },
  {
   "cell_type": "code",
   "execution_count": 40,
   "id": "dcbdd1c0",
   "metadata": {},
   "outputs": [
    {
     "data": {
      "text/plain": [
       "1.0939830929885526"
      ]
     },
     "execution_count": 40,
     "metadata": {},
     "output_type": "execute_result"
    }
   ],
   "source": [
    "smape(values, values1)"
   ]
  },
  {
   "cell_type": "code",
   "execution_count": null,
   "id": "4667bfcc",
   "metadata": {},
   "outputs": [],
   "source": []
  }
 ],
 "metadata": {
  "kernelspec": {
   "display_name": "Python 3 (ipykernel)",
   "language": "python",
   "name": "python3"
  },
  "language_info": {
   "codemirror_mode": {
    "name": "ipython",
    "version": 3
   },
   "file_extension": ".py",
   "mimetype": "text/x-python",
   "name": "python",
   "nbconvert_exporter": "python",
   "pygments_lexer": "ipython3",
   "version": "3.7.12"
  }
 },
 "nbformat": 4,
 "nbformat_minor": 5
}
