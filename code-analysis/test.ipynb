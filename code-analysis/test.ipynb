{
 "cells": [
  {
   "cell_type": "code",
   "execution_count": 2,
   "id": "de491df5",
   "metadata": {},
   "outputs": [
    {
     "data": {
      "text/html": [
       "<style type='text/css'>\n",
       ".datatable table.frame { margin-bottom: 0; }\n",
       ".datatable table.frame thead { border-bottom: none; }\n",
       ".datatable table.frame tr.coltypes td {  color: #FFFFFF;  line-height: 6px;  padding: 0 0.5em;}\n",
       ".datatable .bool    { background: #DDDD99; }\n",
       ".datatable .object  { background: #565656; }\n",
       ".datatable .int     { background: #5D9E5D; }\n",
       ".datatable .float   { background: #4040CC; }\n",
       ".datatable .str     { background: #CC4040; }\n",
       ".datatable .time    { background: #40CC40; }\n",
       ".datatable .row_index {  background: var(--jp-border-color3);  border-right: 1px solid var(--jp-border-color0);  color: var(--jp-ui-font-color3);  font-size: 9px;}\n",
       ".datatable .frame tbody td { text-align: left; }\n",
       ".datatable .frame tr.coltypes .row_index {  background: var(--jp-border-color0);}\n",
       ".datatable th:nth-child(2) { padding-left: 12px; }\n",
       ".datatable .hellipsis {  color: var(--jp-cell-editor-border-color);}\n",
       ".datatable .vellipsis {  background: var(--jp-layout-color0);  color: var(--jp-cell-editor-border-color);}\n",
       ".datatable .na {  color: var(--jp-cell-editor-border-color);  font-size: 80%;}\n",
       ".datatable .sp {  opacity: 0.25;}\n",
       ".datatable .footer { font-size: 9px; }\n",
       ".datatable .frame_dimensions {  background: var(--jp-border-color3);  border-top: 1px solid var(--jp-border-color0);  color: var(--jp-ui-font-color3);  display: inline-block;  opacity: 0.6;  padding: 1px 10px 1px 5px;}\n",
       "</style>\n"
      ],
      "text/plain": [
       "<IPython.core.display.HTML object>"
      ]
     },
     "metadata": {},
     "output_type": "display_data"
    }
   ],
   "source": [
    "# Import my modules.\n",
    "import sys, os\n",
    "from pathlib import Path\n",
    "current_dir = os.path.join(Path().resolve())\n",
    "sys.path.append(str(current_dir) + '/../')\n",
    "\n",
    "from modules import utils\n",
    "from modules import models\n",
    "from modules import preprocess\n",
    "\n",
    "import importlib\n",
    "for m in [utils, models, preprocess]:\n",
    "    importlib.reload(m)"
   ]
  },
  {
   "cell_type": "code",
   "execution_count": 5,
   "id": "73a29246",
   "metadata": {},
   "outputs": [
    {
     "name": "stdout",
     "output_type": "stream",
     "text": [
      "25080\n",
      "Checking 2023-01-01\n",
      "Checking 2023-02-01\n",
      "Checking 2023-03-01\n",
      "Checking 2023-04-01\n",
      "Checking 2023-05-01\n",
      "Checking 2023-06-01\n",
      "If no warnings were stated, all tests above passed.\n"
     ]
    }
   ],
   "source": [
    "import numpy as np # linear algebra\n",
    "import pandas as pd # data processing, CSV file I/O (e.g. pd.read_csv)\n",
    "\n",
    "train = pd.read_csv(\"../input/train.csv\")\n",
    "tr_unq_cfips = list(train.cfips.unique())\n",
    "tr_unq_count = len(tr_unq_cfips)\n",
    "\n",
    "#change this to your submission file\n",
    "fname = \"../submission/submission_2023-03-12_15_17_53.csv\" \n",
    "\n",
    "df = pd.read_csv(fname)\n",
    "print(len(df))\n",
    "\n",
    "#err case testing\n",
    "#df.loc[12540, 'microbusiness_density']=np.Inf\n",
    "#df.loc[12540, 'microbusiness_density']=np.NaN\n",
    "#df = df.append({'row_id':\"1001_2023-03-01\", 'microbusiness_density':np.NaN}, ignore_index = True)\n",
    "#df = df.append({'row_id':\"999444_2023-03-01\", 'microbusiness_density':43}, ignore_index = True)\n",
    "#df = df.drop(12540)\n",
    "\n",
    "df = df.replace([np.inf, -np.inf], np.nan)\n",
    "if len(df.dropna()) != len(df):\n",
    "    print(\"Warning, inf or nan values in submission, count is\", len(df) - len(df.dropna()))\n",
    "\n",
    "if len(df.columns) != 2:\n",
    "    print(\"Warning, should ideally be two columns is \", len(df.columns))\n",
    "\n",
    "if df.columns[0] != 'row_id':\n",
    "    print(\"Warning, first columns should ideally be 'row_id' is\", df.columns[0])\n",
    "\n",
    "if df.columns[1] != 'microbusiness_density':\n",
    "    print(\"Warning, second column should ideally be 'microbusiness_density' is\", df.columns[1])\n",
    "\n",
    "df['first_day_of_month'] = df['row_id'].apply(lambda x:x[-10:])\n",
    "df['cfips'] = df['row_id'].apply(lambda x:int(x[:x.index(\"_\")]))\n",
    "\n",
    "for d in [\"2023-01-01\", \"2023-02-01\", \"2023-03-01\",\"2023-04-01\",\"2023-05-01\", '2023-06-01']:\n",
    "    print(\"Checking\",d)\n",
    "    dfd = df.query(f\"first_day_of_month == '{d}'\")\n",
    "\n",
    "    sub_unq_cfips = list(dfd['cfips'].unique())\n",
    "    sub_unq_count = len(sub_unq_cfips)\n",
    "    if sub_unq_count != tr_unq_count:\n",
    "        print(f\"Invalid unique number of cfips for {d}, should be {tr_unq_count}\", sub_unq_count)\n",
    "\n",
    "    tset = set(sub_unq_cfips+tr_unq_cfips)\n",
    "    tset_count = len(tset)\n",
    "    if  tset_count != tr_unq_count:\n",
    "        print(f\"Invalid cfips are included for {d}, set size mismatch should be {tr_unq_count} is \", tset_count)\n",
    "\n",
    "    l = len(dfd)\n",
    "    if l != tr_unq_count:\n",
    "        print(f\"Invalid # of predictions for date {d}, should be {tr_unq_count} is \", l)\n",
    "\n",
    "print(\"If no warnings were stated, all tests above passed.\")"
   ]
  },
  {
   "cell_type": "code",
   "execution_count": null,
   "id": "73a060cd",
   "metadata": {},
   "outputs": [],
   "source": []
  }
 ],
 "metadata": {
  "kernelspec": {
   "display_name": "Python 3 (ipykernel)",
   "language": "python",
   "name": "python3"
  },
  "language_info": {
   "codemirror_mode": {
    "name": "ipython",
    "version": 3
   },
   "file_extension": ".py",
   "mimetype": "text/x-python",
   "name": "python",
   "nbconvert_exporter": "python",
   "pygments_lexer": "ipython3",
   "version": "3.7.12"
  }
 },
 "nbformat": 4,
 "nbformat_minor": 5
}
