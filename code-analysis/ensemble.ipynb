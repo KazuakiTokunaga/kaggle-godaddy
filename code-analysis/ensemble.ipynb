{
 "cells": [
  {
   "cell_type": "code",
   "execution_count": 1,
   "id": "89d75f3a",
   "metadata": {},
   "outputs": [],
   "source": [
    "import numpy as np\n",
    "import pandas as pd"
   ]
  },
  {
   "cell_type": "code",
   "execution_count": 4,
   "id": "ebdaed1a",
   "metadata": {},
   "outputs": [],
   "source": [
    "# Import my modules.\n",
    "import sys, os\n",
    "from pathlib import Path\n",
    "current_dir = os.path.join(Path().resolve())\n",
    "sys.path.append(str(current_dir) + '/../')\n",
    "\n",
    "from modules import utils"
   ]
  },
  {
   "cell_type": "code",
   "execution_count": 15,
   "id": "263546bc",
   "metadata": {},
   "outputs": [],
   "source": [
    "mbd = 'microbusiness_density'"
   ]
  },
  {
   "cell_type": "code",
   "execution_count": 5,
   "id": "f0a4dc76",
   "metadata": {},
   "outputs": [],
   "source": [
    "df_sub_base = pd.read_csv('../submission/submission_10847.csv',  index_col='row_id')\n",
    "df_my_baseline = pd.read_csv('../submission/lgbm_baseline_trend.csv', index_col='row_id')"
   ]
  },
  {
   "cell_type": "code",
   "execution_count": 37,
   "id": "9a9209a9",
   "metadata": {},
   "outputs": [],
   "source": [
    "trend_dic = utils.load_pickle('trend_dict_3_3_5000')\n",
    "df_train = pd.read_csv('../input/train.csv',  index_col='row_id')"
   ]
  },
  {
   "cell_type": "code",
   "execution_count": 35,
   "id": "f1aba735",
   "metadata": {},
   "outputs": [],
   "source": [
    "df_sub_base['ensemble'] = (df_my_baseline[mbd]  + df_sub_base[mbd] * 3) / 4\n",
    "df_sub = df_sub_base['ensemble'].copy()\n",
    "df_sub.name=mbd"
   ]
  },
  {
   "cell_type": "code",
   "execution_count": 36,
   "id": "13553119",
   "metadata": {},
   "outputs": [],
   "source": [
    "df_sub.to_csv('../submission/ensemble.csv')"
   ]
  },
  {
   "cell_type": "code",
   "execution_count": null,
   "id": "7281fc3f",
   "metadata": {},
   "outputs": [],
   "source": []
  }
 ],
 "metadata": {
  "kernelspec": {
   "display_name": "Python 3 (ipykernel)",
   "language": "python",
   "name": "python3"
  },
  "language_info": {
   "codemirror_mode": {
    "name": "ipython",
    "version": 3
   },
   "file_extension": ".py",
   "mimetype": "text/x-python",
   "name": "python",
   "nbconvert_exporter": "python",
   "pygments_lexer": "ipython3",
   "version": "3.7.12"
  }
 },
 "nbformat": 4,
 "nbformat_minor": 5
}
