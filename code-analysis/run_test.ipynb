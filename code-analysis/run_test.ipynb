{
 "cells": [
  {
   "cell_type": "code",
   "execution_count": 23,
   "id": "84430f21",
   "metadata": {},
   "outputs": [],
   "source": [
    "import numpy as np\n",
    "import pandas as pd"
   ]
  },
  {
   "cell_type": "code",
   "execution_count": 24,
   "id": "67dbcd7b",
   "metadata": {},
   "outputs": [],
   "source": [
    "# Import my modules.\n",
    "import sys, os\n",
    "from pathlib import Path\n",
    "current_dir = os.path.join(Path().resolve())\n",
    "sys.path.append(str(current_dir) + '/../')\n",
    "\n",
    "from modules import utils\n",
    "from modules import models\n",
    "from modules import preprocess\n",
    "from modules import run_experiment\n",
    "\n",
    "import importlib\n",
    "for m in [utils, models, preprocess, run_experiment]:\n",
    "    importlib.reload(m)"
   ]
  },
  {
   "cell_type": "code",
   "execution_count": 25,
   "id": "85a12b3c",
   "metadata": {},
   "outputs": [],
   "source": [
    "BASE = '../input/'\n",
    "external='../input/'\n",
    "params={\n",
    "        \"act_thre\": 140,\n",
    "        \"abs_thre\": 0,\n",
    "        \"USE_LAG\": 7,\n",
    "        \"USE_TREND\": False,\n",
    "        \"USE_TREND_MULTI\": False,\n",
    "        \"blacklist\": [],\n",
    "        \"blacklistcfips\": [],\n",
    "        \"clip\": (-0.0044, 0.0046),\n",
    "        \"model\": 'lgbm'\n",
    "    }"
   ]
  },
  {
   "cell_type": "code",
   "execution_count": null,
   "id": "1046fd35",
   "metadata": {},
   "outputs": [
    {
     "name": "stderr",
     "output_type": "stream",
     "text": [
      "/tmp/working/code-analysis/../modules/utils.py:217: DtypeWarning: Columns (102) have mixed types.Specify dtype option on import or set low_memory=False.\n",
      "  df_all = smooth_outlier(df_all)\n"
     ]
    },
    {
     "name": "stdout",
     "output_type": "stream",
     "text": [
      "smooth_outlier: max_scale=40\n",
      "# of fixed cfips: 559\n",
      "# of fixed value: 925\n",
      "add lag features: max_scale=32\n"
     ]
    }
   ],
   "source": [
    "run_experiment.main(BASE, external, params)"
   ]
  },
  {
   "cell_type": "code",
   "execution_count": null,
   "id": "52465353",
   "metadata": {},
   "outputs": [],
   "source": []
  }
 ],
 "metadata": {
  "kernelspec": {
   "display_name": "Python 3 (ipykernel)",
   "language": "python",
   "name": "python3"
  },
  "language_info": {
   "codemirror_mode": {
    "name": "ipython",
    "version": 3
   },
   "file_extension": ".py",
   "mimetype": "text/x-python",
   "name": "python",
   "nbconvert_exporter": "python",
   "pygments_lexer": "ipython3",
   "version": "3.7.12"
  }
 },
 "nbformat": 4,
 "nbformat_minor": 5
}
