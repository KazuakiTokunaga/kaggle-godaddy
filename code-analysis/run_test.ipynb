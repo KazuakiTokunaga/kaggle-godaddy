{
 "cells": [
  {
   "cell_type": "code",
   "execution_count": 9,
   "id": "84430f21",
   "metadata": {},
   "outputs": [],
   "source": [
    "import numpy as np\n",
    "import pandas as pd"
   ]
  },
  {
   "cell_type": "code",
   "execution_count": 14,
   "id": "67dbcd7b",
   "metadata": {},
   "outputs": [],
   "source": [
    "# Import my modules.\n",
    "import sys, os\n",
    "from pathlib import Path\n",
    "current_dir = os.path.join(Path().resolve())\n",
    "sys.path.append(str(current_dir) + '/../')\n",
    "\n",
    "from modules import utils\n",
    "from modules import models\n",
    "from modules import preprocess\n",
    "from modules import run_test\n",
    "\n",
    "import importlib\n",
    "for m in [utils, models, preprocess, run_test]:\n",
    "    importlib.reload(m)"
   ]
  },
  {
   "cell_type": "code",
   "execution_count": 15,
   "id": "85a12b3c",
   "metadata": {},
   "outputs": [],
   "source": [
    "BASE = '../input/'\n",
    "external='../input/'\n",
    "params={\n",
    "        \"act_thre\": 140,\n",
    "        \"abs_thre\": 0,\n",
    "        \"USE_LAG\": 7,\n",
    "        \"USE_TREND\": False,\n",
    "        \"blacklist\": [],\n",
    "        \"blacklistcfips\": [],\n",
    "        \"clip\": (-0.0044, 0.0046),\n",
    "        \"model\": 'lgbm'\n",
    "    }"
   ]
  },
  {
   "cell_type": "code",
   "execution_count": 17,
   "id": "1046fd35",
   "metadata": {},
   "outputs": [
    {
     "name": "stdout",
     "output_type": "stream",
     "text": [
      "smooth_outlier: max_scale=40\n",
      "# of fixed cfips: 552\n",
      "# of fixed value: 903\n",
      "add lag features: max_scale=40\n",
      "created df_all_dict[40]\n",
      "valid_times:  41\n",
      "pred_m:  1\n",
      "train_times:  40\n",
      "use df_all_dict[40]\n",
      "['scale', 'state_i', 'pct_bb_2017', 'pct_bb_2018', 'pct_bb_2019', 'pct_bb_2020', 'pct_bb_2021', 'pct_college_2017', 'pct_college_2018', 'pct_college_2019', 'pct_college_2020', 'pct_college_2021', 'pct_foreign_born_2017', 'pct_foreign_born_2018', 'pct_foreign_born_2019', 'pct_foreign_born_2020', 'pct_foreign_born_2021', 'pct_it_workers_2017', 'pct_it_workers_2018', 'pct_it_workers_2019', 'pct_it_workers_2020', 'pct_it_workers_2021', 'median_hh_inc_2017', 'median_hh_inc_2018', 'median_hh_inc_2019', 'median_hh_inc_2020', 'median_hh_inc_2021', 'lng', 'lat', 'select_rate1_lag1', 'select_rate1_lag2', 'select_rate1_lag3', 'select_rate1_lag4', 'select_rate1_lag5', 'select_rate1_lag6', 'select_rate1_lag7', 'select_rate1_rsum2', 'select_rate1_rsum4', 'select_rate1_rsum6', 'select_rate1_rsum8', 'select_rate1_rsum10', 'select_active_lag1_diff1', 'select_active_lag1_diff2', 'select_active_lag1_diff3', 'select_active_lag1_diff4', 'select_active_lag1_diff5', 'select_active_lag1_diff6', 'select_active_lag1_diff7']\n",
      "use lgbm model.\n",
      "[LightGBM] [Warning] lambda_l1 is set=1.8386216853616875, reg_alpha=0.0 will be ignored. Current value: lambda_l1=1.8386216853616875\n",
      "[LightGBM] [Warning] lambda_l2 is set=7.557660410418351, reg_lambda=0.0 will be ignored. Current value: lambda_l2=7.557660410418351\n",
      "[LightGBM] [Warning] min_data_in_leaf is set=213, min_child_samples=20 will be ignored. Current value: min_data_in_leaf=213\n",
      "[LightGBM] [Warning] seed is set=42, random_state=42 will be ignored. Current value: seed=42\n",
      "[LightGBM] [Warning] num_iterations is set=200, n_iter=200 will be ignored. Current value: num_iterations=200\n",
      "saved output_dic[1].\n",
      "saved kaggle_notebook_test_2023-02-25_14:24:44\n"
     ]
    }
   ],
   "source": [
    "run_test.main(BASE, external, params)"
   ]
  },
  {
   "cell_type": "code",
   "execution_count": null,
   "id": "52465353",
   "metadata": {},
   "outputs": [],
   "source": []
  }
 ],
 "metadata": {
  "kernelspec": {
   "display_name": "Python 3 (ipykernel)",
   "language": "python",
   "name": "python3"
  },
  "language_info": {
   "codemirror_mode": {
    "name": "ipython",
    "version": 3
   },
   "file_extension": ".py",
   "mimetype": "text/x-python",
   "name": "python",
   "nbconvert_exporter": "python",
   "pygments_lexer": "ipython3",
   "version": "3.7.12"
  }
 },
 "nbformat": 4,
 "nbformat_minor": 5
}
